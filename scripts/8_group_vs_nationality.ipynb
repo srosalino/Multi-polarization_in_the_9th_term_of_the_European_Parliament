{
 "cells": [
  {
   "cell_type": "markdown",
   "id": "8e6af845-68f9-41db-b62f-97d7063aa2af",
   "metadata": {},
   "source": [
    "<h1> <center> 8 - Group vs Nationality </center> </h1>\n",
    "\n",
    "**Author:** Sebastião Rosalino, nº 20230372\n",
    "\n",
    "**Supervisors:** Flávio Pinheiro, António Curado"
   ]
  },
  {
   "cell_type": "markdown",
   "id": "f2d401d8-b912-4f65-af9b-40d3c8e9ff89",
   "metadata": {},
   "source": [
    "<div style=\"text-align: center;\">\n",
    "    <img src=\"../logos/nova_ims_logo.png\" alt=\"Image 1\" style=\"width: 15%; display: inline-block; margin: 0 10px;\"/>\n",
    "    <img src=\"../logos/european_parliament_logo.png\" alt=\"Image 2\" style=\"width: 15%; display: inline-block; margin: 0 10px;\"/>\n",
    "</div>"
   ]
  },
  {
   "cell_type": "markdown",
   "id": "2100101a-56ac-4882-823f-3be65588b238",
   "metadata": {},
   "source": [
    "# Table of Contents\n",
    "\n",
    "1. [Data Preparation](#Data-Preparation)\n",
    "2. [EP Group vs Nationality Index](#EP-Group-vs-Nationality-Index)\n",
    "   - 2.1. [All subjects](#All-subjects)\n",
    "   - 2.2. [European citizenship](#European-citizenship)\n",
    "   - 2.3. [Internal market, single market](#Internal-market-single-market)\n",
    "   - 2.4. [Community policies](#Community-policies)\n",
    "   - 2.5. [Economic, social and territorial cohesion](#Economic-social-and-territorial-cohesion)\n",
    "   - 2.6. [Economic and monetary system](#Economic-and-monetary-system)\n",
    "   - 2.7. [External relations of the Union](#External-relations-of-the-Union)\n",
    "   - 2.8. [Area of freedom, security and justice](#Area-of-freedom-security-and-justice)\n",
    "   - 2.9. [State and evolution of the Union](#State-and-evolution-of-the-Union)\n",
    "   - 2.10. [Secondary Subjects](#Secondary-Subjects)\n",
    "   - 2.11. [Tertiary Subjects](#Tertiary-Subjects)"
   ]
  },
  {
   "cell_type": "code",
   "execution_count": 27,
   "id": "f587e096-b84d-48d8-ab99-a422792eb681",
   "metadata": {},
   "outputs": [],
   "source": [
    "# Import the necessary libraries and configurations\n",
    "import pandas as pd\n",
    "import warnings\n",
    "import numpy as np\n",
    "\n",
    "from datetime import datetime\n",
    "from tqdm import tqdm\n",
    "from scipy.stats import ttest_1samp\n",
    "\n",
    "# Suppress all warnings\n",
    "warnings.filterwarnings('ignore')"
   ]
  },
  {
   "cell_type": "code",
   "execution_count": 28,
   "id": "ee29a717-19ee-4ac3-9a70-80284f0f9d9e",
   "metadata": {},
   "outputs": [],
   "source": [
    "# Read all the datasets from their corresponding folders\n",
    "group_memberships = pd.read_csv(\"../datasets/second_stage/3_group_memberships/group_memberships.csv\")\n",
    "bills = pd.read_csv(\"../datasets/second_stage/4_bills/bills.csv\")\n",
    "member_votes = pd.read_csv(\"../datasets/second_stage/5_member_votes/member_votes.csv\")\n",
    "primary_subject_bills = pd.read_csv(\"../datasets/second_stage/6_bill_subject_assignment/primary_subject_bills.csv\")\n",
    "secondary_subject_bills = pd.read_csv(\"../datasets/second_stage/6_bill_subject_assignment/secondary_subject_bills.csv\")\n",
    "tertiary_subject_bills = pd.read_csv(\"../datasets/second_stage/6_bill_subject_assignment/tertiary_subject_bills.csv\")"
   ]
  },
  {
   "cell_type": "code",
   "execution_count": 29,
   "id": "b3acb3f2-29c9-4f06-8cbf-01698b0f2b4b",
   "metadata": {},
   "outputs": [
    {
     "data": {
      "text/html": [
       "<div>\n",
       "<style scoped>\n",
       "    .dataframe tbody tr th:only-of-type {\n",
       "        vertical-align: middle;\n",
       "    }\n",
       "\n",
       "    .dataframe tbody tr th {\n",
       "        vertical-align: top;\n",
       "    }\n",
       "\n",
       "    .dataframe thead th {\n",
       "        text-align: right;\n",
       "    }\n",
       "</style>\n",
       "<table border=\"1\" class=\"dataframe\">\n",
       "  <thead>\n",
       "    <tr style=\"text-align: right;\">\n",
       "      <th></th>\n",
       "      <th>group_code</th>\n",
       "      <th>start_date</th>\n",
       "      <th>end_date</th>\n",
       "      <th>id_mep</th>\n",
       "      <th>membership_length</th>\n",
       "    </tr>\n",
       "  </thead>\n",
       "  <tbody>\n",
       "    <tr>\n",
       "      <th>0</th>\n",
       "      <td>RENEW</td>\n",
       "      <td>2019-07-02</td>\n",
       "      <td>2024-07-15</td>\n",
       "      <td>0</td>\n",
       "      <td>1840</td>\n",
       "    </tr>\n",
       "    <tr>\n",
       "      <th>1</th>\n",
       "      <td>RENEW</td>\n",
       "      <td>2019-07-02</td>\n",
       "      <td>2020-01-31</td>\n",
       "      <td>1</td>\n",
       "      <td>213</td>\n",
       "    </tr>\n",
       "    <tr>\n",
       "      <th>2</th>\n",
       "      <td>SD</td>\n",
       "      <td>2019-07-02</td>\n",
       "      <td>2022-10-02</td>\n",
       "      <td>2</td>\n",
       "      <td>1188</td>\n",
       "    </tr>\n",
       "    <tr>\n",
       "      <th>3</th>\n",
       "      <td>EPP</td>\n",
       "      <td>2023-07-07</td>\n",
       "      <td>2024-07-15</td>\n",
       "      <td>3</td>\n",
       "      <td>374</td>\n",
       "    </tr>\n",
       "    <tr>\n",
       "      <th>4</th>\n",
       "      <td>SD</td>\n",
       "      <td>2019-07-02</td>\n",
       "      <td>2024-07-15</td>\n",
       "      <td>4</td>\n",
       "      <td>1840</td>\n",
       "    </tr>\n",
       "    <tr>\n",
       "      <th>...</th>\n",
       "      <td>...</td>\n",
       "      <td>...</td>\n",
       "      <td>...</td>\n",
       "      <td>...</td>\n",
       "      <td>...</td>\n",
       "    </tr>\n",
       "    <tr>\n",
       "      <th>964</th>\n",
       "      <td>EPP</td>\n",
       "      <td>2024-03-26</td>\n",
       "      <td>2024-07-15</td>\n",
       "      <td>868</td>\n",
       "      <td>111</td>\n",
       "    </tr>\n",
       "    <tr>\n",
       "      <th>965</th>\n",
       "      <td>EPP</td>\n",
       "      <td>2024-04-02</td>\n",
       "      <td>2024-07-15</td>\n",
       "      <td>869</td>\n",
       "      <td>104</td>\n",
       "    </tr>\n",
       "    <tr>\n",
       "      <th>966</th>\n",
       "      <td>EPP</td>\n",
       "      <td>2024-04-02</td>\n",
       "      <td>2024-07-15</td>\n",
       "      <td>870</td>\n",
       "      <td>104</td>\n",
       "    </tr>\n",
       "    <tr>\n",
       "      <th>967</th>\n",
       "      <td>EPP</td>\n",
       "      <td>2024-04-02</td>\n",
       "      <td>2024-07-15</td>\n",
       "      <td>871</td>\n",
       "      <td>104</td>\n",
       "    </tr>\n",
       "    <tr>\n",
       "      <th>968</th>\n",
       "      <td>EPP</td>\n",
       "      <td>2024-04-05</td>\n",
       "      <td>2024-07-15</td>\n",
       "      <td>872</td>\n",
       "      <td>101</td>\n",
       "    </tr>\n",
       "  </tbody>\n",
       "</table>\n",
       "<p>969 rows × 5 columns</p>\n",
       "</div>"
      ],
      "text/plain": [
       "    group_code  start_date    end_date  id_mep  membership_length\n",
       "0        RENEW  2019-07-02  2024-07-15       0               1840\n",
       "1        RENEW  2019-07-02  2020-01-31       1                213\n",
       "2           SD  2019-07-02  2022-10-02       2               1188\n",
       "3          EPP  2023-07-07  2024-07-15       3                374\n",
       "4           SD  2019-07-02  2024-07-15       4               1840\n",
       "..         ...         ...         ...     ...                ...\n",
       "964        EPP  2024-03-26  2024-07-15     868                111\n",
       "965        EPP  2024-04-02  2024-07-15     869                104\n",
       "966        EPP  2024-04-02  2024-07-15     870                104\n",
       "967        EPP  2024-04-02  2024-07-15     871                104\n",
       "968        EPP  2024-04-05  2024-07-15     872                101\n",
       "\n",
       "[969 rows x 5 columns]"
      ]
     },
     "execution_count": 29,
     "metadata": {},
     "output_type": "execute_result"
    }
   ],
   "source": [
    "# A reminder of how the group_memberships dataset looks like\n",
    "group_memberships"
   ]
  },
  {
   "cell_type": "code",
   "execution_count": 30,
   "id": "aed4416e-ca01-4551-9925-a28a7a39d67b",
   "metadata": {},
   "outputs": [],
   "source": [
    "# Convert 'start_date' and 'end_date' columns to datetime\n",
    "group_memberships['start_date'] = pd.to_datetime(group_memberships['start_date'])\n",
    "group_memberships['end_date'] = pd.to_datetime(group_memberships['end_date'])"
   ]
  },
  {
   "cell_type": "code",
   "execution_count": 31,
   "id": "ec3e8e1d-75c6-4a0f-a894-aa45ca7cc45f",
   "metadata": {},
   "outputs": [
    {
     "data": {
      "text/html": [
       "<div>\n",
       "<style scoped>\n",
       "    .dataframe tbody tr th:only-of-type {\n",
       "        vertical-align: middle;\n",
       "    }\n",
       "\n",
       "    .dataframe tbody tr th {\n",
       "        vertical-align: top;\n",
       "    }\n",
       "\n",
       "    .dataframe thead th {\n",
       "        text-align: right;\n",
       "    }\n",
       "</style>\n",
       "<table border=\"1\" class=\"dataframe\">\n",
       "  <thead>\n",
       "    <tr style=\"text-align: right;\">\n",
       "      <th></th>\n",
       "      <th>timestamp</th>\n",
       "      <th>procedure_reference</th>\n",
       "      <th>id_bill</th>\n",
       "      <th>text</th>\n",
       "    </tr>\n",
       "  </thead>\n",
       "  <tbody>\n",
       "    <tr>\n",
       "      <th>0</th>\n",
       "      <td>2020-06-17 23:24:52</td>\n",
       "      <td>2007/0181(NLE)</td>\n",
       "      <td>200</td>\n",
       "      <td>ecmorocco euro-mediterranean aviation agreemen...</td>\n",
       "    </tr>\n",
       "    <tr>\n",
       "      <th>1</th>\n",
       "      <td>2021-12-14 14:49:19</td>\n",
       "      <td>2010/0112(NLE)</td>\n",
       "      <td>786</td>\n",
       "      <td>recommendation draft council decision conclusi...</td>\n",
       "    </tr>\n",
       "    <tr>\n",
       "      <th>2</th>\n",
       "      <td>2020-06-17 23:24:52</td>\n",
       "      <td>2010/0180(NLE)</td>\n",
       "      <td>201</td>\n",
       "      <td>eujordan agreement euro-mediterranean aviation...</td>\n",
       "    </tr>\n",
       "    <tr>\n",
       "      <th>3</th>\n",
       "      <td>2020-06-17 23:24:52</td>\n",
       "      <td>2010/0186(NLE)</td>\n",
       "      <td>203</td>\n",
       "      <td>eugeorgia agreement common aviation area</td>\n",
       "    </tr>\n",
       "    <tr>\n",
       "      <th>4</th>\n",
       "      <td>2020-06-17 23:24:52</td>\n",
       "      <td>2012/0006(NLE)</td>\n",
       "      <td>198</td>\n",
       "      <td>eumoldova common aviation area agreement</td>\n",
       "    </tr>\n",
       "    <tr>\n",
       "      <th>...</th>\n",
       "      <td>...</td>\n",
       "      <td>...</td>\n",
       "      <td>...</td>\n",
       "      <td>...</td>\n",
       "    </tr>\n",
       "    <tr>\n",
       "      <th>1898</th>\n",
       "      <td>2024-04-25 12:51:39</td>\n",
       "      <td>2024/2696(RSP)</td>\n",
       "      <td>1902</td>\n",
       "      <td>joint motion resolution new allegation russian...</td>\n",
       "    </tr>\n",
       "    <tr>\n",
       "      <th>1899</th>\n",
       "      <td>2024-04-25 12:20:42</td>\n",
       "      <td>2024/2698(RSP)</td>\n",
       "      <td>1898</td>\n",
       "      <td>european parliament resolution azerbaijan nota...</td>\n",
       "    </tr>\n",
       "    <tr>\n",
       "      <th>1900</th>\n",
       "      <td>2024-04-25 12:21:01</td>\n",
       "      <td>2024/2699(RSP)</td>\n",
       "      <td>1901</td>\n",
       "      <td>european parliament resolution propose repeal ...</td>\n",
       "    </tr>\n",
       "    <tr>\n",
       "      <th>1901</th>\n",
       "      <td>2024-04-25 12:53:44</td>\n",
       "      <td>2024/2703(RSP)</td>\n",
       "      <td>1900</td>\n",
       "      <td>joint motion resolution</td>\n",
       "    </tr>\n",
       "    <tr>\n",
       "      <th>1902</th>\n",
       "      <td>2024-04-25 12:58:39</td>\n",
       "      <td>2024/2704(RSP)</td>\n",
       "      <td>1899</td>\n",
       "      <td>irans unprecedented attack israel need de-esca...</td>\n",
       "    </tr>\n",
       "  </tbody>\n",
       "</table>\n",
       "<p>1903 rows × 4 columns</p>\n",
       "</div>"
      ],
      "text/plain": [
       "                timestamp procedure_reference  id_bill  \\\n",
       "0     2020-06-17 23:24:52      2007/0181(NLE)      200   \n",
       "1     2021-12-14 14:49:19      2010/0112(NLE)      786   \n",
       "2     2020-06-17 23:24:52      2010/0180(NLE)      201   \n",
       "3     2020-06-17 23:24:52      2010/0186(NLE)      203   \n",
       "4     2020-06-17 23:24:52      2012/0006(NLE)      198   \n",
       "...                   ...                 ...      ...   \n",
       "1898  2024-04-25 12:51:39      2024/2696(RSP)     1902   \n",
       "1899  2024-04-25 12:20:42      2024/2698(RSP)     1898   \n",
       "1900  2024-04-25 12:21:01      2024/2699(RSP)     1901   \n",
       "1901  2024-04-25 12:53:44      2024/2703(RSP)     1900   \n",
       "1902  2024-04-25 12:58:39      2024/2704(RSP)     1899   \n",
       "\n",
       "                                                   text  \n",
       "0     ecmorocco euro-mediterranean aviation agreemen...  \n",
       "1     recommendation draft council decision conclusi...  \n",
       "2     eujordan agreement euro-mediterranean aviation...  \n",
       "3              eugeorgia agreement common aviation area  \n",
       "4              eumoldova common aviation area agreement  \n",
       "...                                                 ...  \n",
       "1898  joint motion resolution new allegation russian...  \n",
       "1899  european parliament resolution azerbaijan nota...  \n",
       "1900  european parliament resolution propose repeal ...  \n",
       "1901                            joint motion resolution  \n",
       "1902  irans unprecedented attack israel need de-esca...  \n",
       "\n",
       "[1903 rows x 4 columns]"
      ]
     },
     "execution_count": 31,
     "metadata": {},
     "output_type": "execute_result"
    }
   ],
   "source": [
    "# A reminder of how the bills dataset looks like\n",
    "bills"
   ]
  },
  {
   "cell_type": "code",
   "execution_count": 32,
   "id": "228acd67-6380-4c75-b54c-839b4dc2a51d",
   "metadata": {},
   "outputs": [
    {
     "data": {
      "text/html": [
       "<div>\n",
       "<style scoped>\n",
       "    .dataframe tbody tr th:only-of-type {\n",
       "        vertical-align: middle;\n",
       "    }\n",
       "\n",
       "    .dataframe tbody tr th {\n",
       "        vertical-align: top;\n",
       "    }\n",
       "\n",
       "    .dataframe thead th {\n",
       "        text-align: right;\n",
       "    }\n",
       "</style>\n",
       "<table border=\"1\" class=\"dataframe\">\n",
       "  <thead>\n",
       "    <tr style=\"text-align: right;\">\n",
       "      <th></th>\n",
       "      <th>position</th>\n",
       "      <th>country_code</th>\n",
       "      <th>group_code</th>\n",
       "      <th>id_mep</th>\n",
       "      <th>id_bill</th>\n",
       "    </tr>\n",
       "  </thead>\n",
       "  <tbody>\n",
       "    <tr>\n",
       "      <th>0</th>\n",
       "      <td>FOR</td>\n",
       "      <td>LUX</td>\n",
       "      <td>RENEW</td>\n",
       "      <td>0</td>\n",
       "      <td>0</td>\n",
       "    </tr>\n",
       "    <tr>\n",
       "      <th>1</th>\n",
       "      <td>FOR</td>\n",
       "      <td>GBR</td>\n",
       "      <td>RENEW</td>\n",
       "      <td>1</td>\n",
       "      <td>0</td>\n",
       "    </tr>\n",
       "    <tr>\n",
       "      <th>2</th>\n",
       "      <td>DID_NOT_VOTE</td>\n",
       "      <td>DEU</td>\n",
       "      <td>SD</td>\n",
       "      <td>2</td>\n",
       "      <td>0</td>\n",
       "    </tr>\n",
       "    <tr>\n",
       "      <th>3</th>\n",
       "      <td>FOR</td>\n",
       "      <td>DEU</td>\n",
       "      <td>SD</td>\n",
       "      <td>4</td>\n",
       "      <td>0</td>\n",
       "    </tr>\n",
       "    <tr>\n",
       "      <th>4</th>\n",
       "      <td>FOR</td>\n",
       "      <td>DEU</td>\n",
       "      <td>SD</td>\n",
       "      <td>5</td>\n",
       "      <td>0</td>\n",
       "    </tr>\n",
       "    <tr>\n",
       "      <th>...</th>\n",
       "      <td>...</td>\n",
       "      <td>...</td>\n",
       "      <td>...</td>\n",
       "      <td>...</td>\n",
       "      <td>...</td>\n",
       "    </tr>\n",
       "    <tr>\n",
       "      <th>1345669</th>\n",
       "      <td>DID_NOT_VOTE</td>\n",
       "      <td>PRT</td>\n",
       "      <td>EPP</td>\n",
       "      <td>868</td>\n",
       "      <td>1902</td>\n",
       "    </tr>\n",
       "    <tr>\n",
       "      <th>1345670</th>\n",
       "      <td>DID_NOT_VOTE</td>\n",
       "      <td>PRT</td>\n",
       "      <td>EPP</td>\n",
       "      <td>869</td>\n",
       "      <td>1902</td>\n",
       "    </tr>\n",
       "    <tr>\n",
       "      <th>1345671</th>\n",
       "      <td>DID_NOT_VOTE</td>\n",
       "      <td>PRT</td>\n",
       "      <td>EPP</td>\n",
       "      <td>870</td>\n",
       "      <td>1902</td>\n",
       "    </tr>\n",
       "    <tr>\n",
       "      <th>1345672</th>\n",
       "      <td>FOR</td>\n",
       "      <td>PRT</td>\n",
       "      <td>EPP</td>\n",
       "      <td>871</td>\n",
       "      <td>1902</td>\n",
       "    </tr>\n",
       "    <tr>\n",
       "      <th>1345673</th>\n",
       "      <td>DID_NOT_VOTE</td>\n",
       "      <td>PRT</td>\n",
       "      <td>EPP</td>\n",
       "      <td>872</td>\n",
       "      <td>1902</td>\n",
       "    </tr>\n",
       "  </tbody>\n",
       "</table>\n",
       "<p>1345674 rows × 5 columns</p>\n",
       "</div>"
      ],
      "text/plain": [
       "             position country_code group_code  id_mep  id_bill\n",
       "0                 FOR          LUX      RENEW       0        0\n",
       "1                 FOR          GBR      RENEW       1        0\n",
       "2        DID_NOT_VOTE          DEU         SD       2        0\n",
       "3                 FOR          DEU         SD       4        0\n",
       "4                 FOR          DEU         SD       5        0\n",
       "...               ...          ...        ...     ...      ...\n",
       "1345669  DID_NOT_VOTE          PRT        EPP     868     1902\n",
       "1345670  DID_NOT_VOTE          PRT        EPP     869     1902\n",
       "1345671  DID_NOT_VOTE          PRT        EPP     870     1902\n",
       "1345672           FOR          PRT        EPP     871     1902\n",
       "1345673  DID_NOT_VOTE          PRT        EPP     872     1902\n",
       "\n",
       "[1345674 rows x 5 columns]"
      ]
     },
     "execution_count": 32,
     "metadata": {},
     "output_type": "execute_result"
    }
   ],
   "source": [
    "# A reminder of how the member_votes dataset looks like\n",
    "member_votes"
   ]
  },
  {
   "cell_type": "markdown",
   "id": "5a5d15ef-ae5f-4589-bfd4-4718ec30a666",
   "metadata": {},
   "source": [
    "## 1. Data Preparation\n",
    "<a id=\"Data-Preparation\"></a>"
   ]
  },
  {
   "cell_type": "code",
   "execution_count": 33,
   "id": "61a9d615-1377-4b10-b853-9f6fd22e8cfd",
   "metadata": {},
   "outputs": [
    {
     "data": {
      "text/html": [
       "<div>\n",
       "<style scoped>\n",
       "    .dataframe tbody tr th:only-of-type {\n",
       "        vertical-align: middle;\n",
       "    }\n",
       "\n",
       "    .dataframe tbody tr th {\n",
       "        vertical-align: top;\n",
       "    }\n",
       "\n",
       "    .dataframe thead th {\n",
       "        text-align: right;\n",
       "    }\n",
       "</style>\n",
       "<table border=\"1\" class=\"dataframe\">\n",
       "  <thead>\n",
       "    <tr style=\"text-align: right;\">\n",
       "      <th></th>\n",
       "      <th>position</th>\n",
       "      <th>country_code</th>\n",
       "      <th>group_code</th>\n",
       "      <th>id_mep</th>\n",
       "      <th>id_bill</th>\n",
       "    </tr>\n",
       "  </thead>\n",
       "  <tbody>\n",
       "    <tr>\n",
       "      <th>0</th>\n",
       "      <td>supporting</td>\n",
       "      <td>LUX</td>\n",
       "      <td>RENEW</td>\n",
       "      <td>0</td>\n",
       "      <td>0</td>\n",
       "    </tr>\n",
       "    <tr>\n",
       "      <th>1</th>\n",
       "      <td>supporting</td>\n",
       "      <td>GBR</td>\n",
       "      <td>RENEW</td>\n",
       "      <td>1</td>\n",
       "      <td>0</td>\n",
       "    </tr>\n",
       "    <tr>\n",
       "      <th>2</th>\n",
       "      <td>not_supporting</td>\n",
       "      <td>DEU</td>\n",
       "      <td>SD</td>\n",
       "      <td>2</td>\n",
       "      <td>0</td>\n",
       "    </tr>\n",
       "    <tr>\n",
       "      <th>3</th>\n",
       "      <td>supporting</td>\n",
       "      <td>DEU</td>\n",
       "      <td>SD</td>\n",
       "      <td>4</td>\n",
       "      <td>0</td>\n",
       "    </tr>\n",
       "    <tr>\n",
       "      <th>4</th>\n",
       "      <td>supporting</td>\n",
       "      <td>DEU</td>\n",
       "      <td>SD</td>\n",
       "      <td>5</td>\n",
       "      <td>0</td>\n",
       "    </tr>\n",
       "    <tr>\n",
       "      <th>...</th>\n",
       "      <td>...</td>\n",
       "      <td>...</td>\n",
       "      <td>...</td>\n",
       "      <td>...</td>\n",
       "      <td>...</td>\n",
       "    </tr>\n",
       "    <tr>\n",
       "      <th>1345669</th>\n",
       "      <td>not_supporting</td>\n",
       "      <td>PRT</td>\n",
       "      <td>EPP</td>\n",
       "      <td>868</td>\n",
       "      <td>1902</td>\n",
       "    </tr>\n",
       "    <tr>\n",
       "      <th>1345670</th>\n",
       "      <td>not_supporting</td>\n",
       "      <td>PRT</td>\n",
       "      <td>EPP</td>\n",
       "      <td>869</td>\n",
       "      <td>1902</td>\n",
       "    </tr>\n",
       "    <tr>\n",
       "      <th>1345671</th>\n",
       "      <td>not_supporting</td>\n",
       "      <td>PRT</td>\n",
       "      <td>EPP</td>\n",
       "      <td>870</td>\n",
       "      <td>1902</td>\n",
       "    </tr>\n",
       "    <tr>\n",
       "      <th>1345672</th>\n",
       "      <td>supporting</td>\n",
       "      <td>PRT</td>\n",
       "      <td>EPP</td>\n",
       "      <td>871</td>\n",
       "      <td>1902</td>\n",
       "    </tr>\n",
       "    <tr>\n",
       "      <th>1345673</th>\n",
       "      <td>not_supporting</td>\n",
       "      <td>PRT</td>\n",
       "      <td>EPP</td>\n",
       "      <td>872</td>\n",
       "      <td>1902</td>\n",
       "    </tr>\n",
       "  </tbody>\n",
       "</table>\n",
       "<p>1345674 rows × 5 columns</p>\n",
       "</div>"
      ],
      "text/plain": [
       "               position country_code group_code  id_mep  id_bill\n",
       "0            supporting          LUX      RENEW       0        0\n",
       "1            supporting          GBR      RENEW       1        0\n",
       "2        not_supporting          DEU         SD       2        0\n",
       "3            supporting          DEU         SD       4        0\n",
       "4            supporting          DEU         SD       5        0\n",
       "...                 ...          ...        ...     ...      ...\n",
       "1345669  not_supporting          PRT        EPP     868     1902\n",
       "1345670  not_supporting          PRT        EPP     869     1902\n",
       "1345671  not_supporting          PRT        EPP     870     1902\n",
       "1345672      supporting          PRT        EPP     871     1902\n",
       "1345673  not_supporting          PRT        EPP     872     1902\n",
       "\n",
       "[1345674 rows x 5 columns]"
      ]
     },
     "execution_count": 33,
     "metadata": {},
     "output_type": "execute_result"
    }
   ],
   "source": [
    "# Replace values in the 'position' column as follows:\n",
    "# FOR for \"supporting\"\n",
    "# AGAINST or ABSTENTION or DID_NOT_VOTE for \"not_supporting\" \n",
    "member_votes['position'] = member_votes['position'].replace({\n",
    "    \"FOR\": \"supporting\",\n",
    "    \"AGAINST\": \"not_supporting\",\n",
    "    \"ABSTENTION\": \"not_supporting\",\n",
    "    \"DID_NOT_VOTE\": \"not_supporting\"\n",
    "})\n",
    "\n",
    "# Visualize the updated dataset\n",
    "member_votes"
   ]
  },
  {
   "cell_type": "markdown",
   "id": "a3f10cf7-b6c3-4545-97b4-6c2ca2a6bb6e",
   "metadata": {},
   "source": [
    "## 2. EP Group vs Nationality Index\n",
    "<a id=\"EP-Group-vs-Nationality-Index\"></a>"
   ]
  },
  {
   "cell_type": "markdown",
   "id": "dec5f0aa-ffd1-498c-a73e-1ad35da8786f",
   "metadata": {},
   "source": [
    "The **EP Group vs Nationality Index** measures the degree to which the voting behavior of MEPs from a given country aligns with ideological expectations based on EP group representation. It provides insight into the influence of national interests versus political group representation in bills.\n",
    "\n",
    "### Methodology\n",
    "\n",
    "1. **Observed Voting Behavior**:\n",
    "   - For each country $c$, the observed voting behavior on a bill is summarized using the **Observed Rice Index**, defined as:\n",
    "     $$\n",
    "     R^{\\text{obs}}_c = \\frac{|S_c - N_c|}{S_c + N_c}\n",
    "     $$\n",
    "     where:\n",
    "     - $S_c$ is the number of MEPs from country $c$ who voted in support of the bill.\n",
    "     - $N_c$ is the number of MEPs from country $c$ who did not support the bill.\n",
    "     - $S_c + N_c$ is the total number of MEPs from country $c$ who participated in the vote of the bill.\n",
    "\n",
    "<br>\n",
    "\n",
    "2. **Expected Voting Behavior**:\n",
    "   - The expected voting behavior on a bill is calculated based on the proportional representation of political groups in the EP when the bill was being voted. Let $p_g$ be the proportion of MEPs in group $g$ when the bill was being voted, defined as:\n",
    "     $$\n",
    "     p_g = \\frac{\\text{Number of MEPs in group } g \\text{ when the bill was being voted}}{\\text{Total number of MEPs in the EP when the bill was being voted}}\n",
    "     $$\n",
    "   - Using these proportions, 100 MEPs are randomly sampled across all groups. Their voting positions are used to compute the **Expected Rice Index**:\n",
    "     $$\n",
    "     R^{\\text{exp}} = \\frac{|S^{\\text{exp}} - N^{\\text{exp}}|}{S^{\\text{exp}} + N^{\\text{exp}}}\n",
    "     $$\n",
    "     where $S^{\\text{exp}}$ and $N^{\\text{exp}}$ are the counts of supporting and opposing votes, respectively.\n",
    "\n",
    "<br>\n",
    "\n",
    "3. **Difference Calculation**:\n",
    "   - The deviation for country $c$ in a bill is calculated as the difference between **observed** and **expected** **Rice Index**:\n",
    "     $$\n",
    "     \\Delta R_c = R^{\\text{obs}}_c - R^{\\text{exp}}\n",
    "     $$\n",
    "\n",
    "4. **Aggregation**:\n",
    "   - The deviations $\\Delta R_c$ are averaged across all bills $B$ to compute the **EP Group vs Nationality Index** for each country:\n",
    "     $$\n",
    "     I_c = \\frac{1}{B} \\sum_{b=1}^{B} \\Delta R_{c,b}\n",
    "     $$\n",
    "     where $\\Delta R_{c,b}$ is the difference calculated for country $c$ on bill $b$, and $B$ is the total number of bills considered.\n",
    "\n",
    "<br>\n",
    "\n",
    "\n",
    "### **Statistical Test Procedure**\n",
    "\n",
    "To assess whether $I_c$ (the **EP Group vs Nationality Index** for a given country) is statistically greater than 0, a one-sample, one-tailed $t$-test is performed:\n",
    "\n",
    "1. **Null Hypothesis ($H_0$)**:\n",
    "   - The mean difference $\\mu_{\\Delta R_c} = 0$: There is no significant deviation in voting behavior alignment for the country compared to the EP.\n",
    "\n",
    "<br>\n",
    "\n",
    "2. **Alternative Hypothesis ($H_1$)**:\n",
    "   - The mean difference $\\mu_{\\Delta R_c} > 0$: MEPs from the country exhibit greater cohesiveness in voting behavior compared to the EP as a whole.\n",
    "\n",
    "<br>\n",
    "\n",
    "3. **Test Statistic**:\n",
    "   - The $t$-statistic is calculated as:\n",
    "     $$\n",
    "     t = \\frac{\\overline{\\Delta R_c}}{\\frac{s_{\\Delta R_c}}{\\sqrt{n}}}\n",
    "     $$\n",
    "     where:\n",
    "     - $\\overline{\\Delta R_c}$: Mean of the differences for the country.\n",
    "     - $s_{\\Delta R_c}$: Sample standard deviation of the differences.\n",
    "     - $n$: Number of bills considered for the country.\n",
    "\n",
    "<br>\n",
    "\n",
    "4. **Significance Level**:\n",
    "   - A $p$-value is computed for the one-tailed test. Results are considered statistically significant if $p < 0.05$.\n",
    "\n",
    "<br>\n",
    "\n",
    "5. **Filtering Statistically Significant Results**:\n",
    "   - Only countries with $p < 0.05$ are considered in the results. This ensures that observed deviations are unlikely to have occurred by chance.\n",
    "\n",
    "<br>\n",
    "\n",
    "### Interpretation\n",
    "\n",
    "The **EP Group vs Nationality Index** $I_c$ provides insight into the cohesiveness of voting behavior among MEPs from a given country compared to the EP as a whole:\n",
    "- A **positive** $I_c$ indicates that MEPs from a given country exhibit greater cohesiveness in their voting behavior than the EP as a whole.\n",
    "- A **negative** $I_c$ or $I_c = 0$ indicates that MEPs from a given country are less cohesive or equally cohesive in their voting behavior compared to the EP as a whole."
   ]
  },
  {
   "cell_type": "code",
   "execution_count": 34,
   "id": "00be7ed3-cadc-4e86-b0bd-ea94dfe662e9",
   "metadata": {},
   "outputs": [],
   "source": [
    "def calculate_rice_index(positions):\n",
    "    \"\"\"Calculate the Rice Index for a given set of positions.\"\"\"\n",
    "    supporting = positions.count(\"supporting\")\n",
    "    not_supporting = positions.count(\"not_supporting\")\n",
    "    total = len(positions)\n",
    "    if total == 0:\n",
    "        return 0\n",
    "    return abs(supporting - not_supporting) / total\n",
    "\n",
    "\n",
    "def compute_ep_group_vs_nationality_index(bills):\n",
    "\n",
    "    def compute_index():\n",
    "\n",
    "        # Set a seed for reproducibility\n",
    "        np.random.seed(42)\n",
    "    \n",
    "        country_results = []\n",
    "\n",
    "        # Iterate over each bill\n",
    "        for _, bill in tqdm(bills.iterrows(), total=len(bills), desc=\"Processing bills\"):\n",
    "            \n",
    "            timestamp = datetime.strptime(bill['timestamp'], \"%Y-%m-%d %H:%M:%S\")\n",
    "            \n",
    "            id_bill = bill['id_bill']\n",
    "\n",
    "            # Filter for active group memberships at the bill's timestamp\n",
    "            active_memberships = group_memberships[(group_memberships['start_date'] <= timestamp) & \n",
    "                                                   (group_memberships['end_date'] >= timestamp)]\n",
    "\n",
    "            # Calculate group representation percentages\n",
    "            group_counts = active_memberships['group_code'].value_counts()\n",
    "            total_meps = group_counts.sum()\n",
    "            group_probabilities = group_counts / total_meps\n",
    "\n",
    "            # Filter for votes for the current bill\n",
    "            bill_votes = member_votes[member_votes['id_bill'] == id_bill]\n",
    "\n",
    "            # Calculate the Rice indices (Observed and Expected) for each country\n",
    "            for country, group in bill_votes.groupby('country_code'):\n",
    "                \n",
    "                # Observed Rice Index of all MEPs from the country who participated in the bill\n",
    "                observed_rice_index = calculate_rice_index(group['position'].tolist())\n",
    "\n",
    "                # Calculate Expected Rice Index by sampling 100 random MEPs from all groups and calculating the Rice Index\n",
    "                simulated_positions = []\n",
    "                for _ in range(100):\n",
    "                    sampled_group = np.random.choice(group_probabilities.index, p=group_probabilities.values)\n",
    "                    sampled_votes = bill_votes[bill_votes['group_code'] == sampled_group]\n",
    "                    if not sampled_votes.empty:\n",
    "                        simulated_positions.append(np.random.choice(sampled_votes['position'].tolist()))\n",
    "\n",
    "                expected_rice_index = calculate_rice_index(simulated_positions)\n",
    "\n",
    "                # Subtract the Expected Rice Index from the Observed Rice Index. Negative values imply that Group alignment plays a stronger role than National alignment,\n",
    "                # in the country's MEPs votes. Positive values imply that National alignment plays a stronger role than Group alignment, in the country's MEP votes\n",
    "                difference = observed_rice_index - expected_rice_index\n",
    "                country_results.append((country, difference))\n",
    "\n",
    "        # Convert country_results to a pandas dataframe\n",
    "        country_df = pd.DataFrame(country_results, columns=['country', 'difference'])\n",
    "\n",
    "        # Perform t-tests to test if the differences are significantly bigger than 0 for each country\n",
    "        test_results = []\n",
    "        for country, group in country_df.groupby('country'):\n",
    "            differences = group['difference'].values\n",
    "            t_stat, p_value = ttest_1samp(differences, 0, alternative='greater')\n",
    "            test_results.append({\n",
    "                'Country': country,\n",
    "                'EP Group vs Nationality Index': differences.mean(),\n",
    "                'Significant': p_value < 0.05  # Mark as statistically significant if p-value < 0.05\n",
    "            })\n",
    "\n",
    "        # Convert test_results to a pandas dataframe\n",
    "        test_results_df = pd.DataFrame(test_results)\n",
    "\n",
    "        # Filter for statistically significant results only\n",
    "        test_results_df = test_results_df[test_results_df['Significant']]\n",
    "\n",
    "        # Drop the 'Significant' column\n",
    "        test_results_df = test_results_df.drop(columns=['Significant'])\n",
    "\n",
    "        # Sort by the EP Group vs Nationality Index in descending order\n",
    "        test_results_df = test_results_df.sort_values(by='EP Group vs Nationality Index', ascending=False).reset_index(drop=True)\n",
    "\n",
    "        return test_results_df\n",
    "\n",
    "    # Compute the EP Group vs Nationality Index with statistical tests\n",
    "    return compute_index()"
   ]
  },
  {
   "cell_type": "markdown",
   "id": "f461dc3e-b979-4646-aa26-6c5bfa9363e7",
   "metadata": {},
   "source": [
    "### 2.1. All subjects\n",
    "<a id=\"All-subjects\"></a>"
   ]
  },
  {
   "cell_type": "code",
   "execution_count": 9,
   "id": "6fd6357c-5c68-4ac4-a8e2-cf6ea27bd747",
   "metadata": {
    "scrolled": true
   },
   "outputs": [
    {
     "name": "stderr",
     "output_type": "stream",
     "text": [
      "Processing bills: 100%|██████████| 1903/1903 [27:05<00:00,  1.17it/s]\n"
     ]
    },
    {
     "data": {
      "text/html": [
       "<div>\n",
       "<style scoped>\n",
       "    .dataframe tbody tr th:only-of-type {\n",
       "        vertical-align: middle;\n",
       "    }\n",
       "\n",
       "    .dataframe tbody tr th {\n",
       "        vertical-align: top;\n",
       "    }\n",
       "\n",
       "    .dataframe thead th {\n",
       "        text-align: right;\n",
       "    }\n",
       "</style>\n",
       "<table border=\"1\" class=\"dataframe\">\n",
       "  <thead>\n",
       "    <tr style=\"text-align: right;\">\n",
       "      <th></th>\n",
       "      <th>Country</th>\n",
       "      <th>EP Group vs Nationality Index</th>\n",
       "    </tr>\n",
       "  </thead>\n",
       "  <tbody>\n",
       "    <tr>\n",
       "      <th>0</th>\n",
       "      <td>LUX</td>\n",
       "      <td>0.306327</td>\n",
       "    </tr>\n",
       "    <tr>\n",
       "      <th>1</th>\n",
       "      <td>SVN</td>\n",
       "      <td>0.282895</td>\n",
       "    </tr>\n",
       "    <tr>\n",
       "      <th>2</th>\n",
       "      <td>PRT</td>\n",
       "      <td>0.165751</td>\n",
       "    </tr>\n",
       "    <tr>\n",
       "      <th>3</th>\n",
       "      <td>LTU</td>\n",
       "      <td>0.165746</td>\n",
       "    </tr>\n",
       "    <tr>\n",
       "      <th>4</th>\n",
       "      <td>MLT</td>\n",
       "      <td>0.161597</td>\n",
       "    </tr>\n",
       "    <tr>\n",
       "      <th>5</th>\n",
       "      <td>IRL</td>\n",
       "      <td>0.159710</td>\n",
       "    </tr>\n",
       "    <tr>\n",
       "      <th>6</th>\n",
       "      <td>EST</td>\n",
       "      <td>0.152350</td>\n",
       "    </tr>\n",
       "    <tr>\n",
       "      <th>7</th>\n",
       "      <td>CYP</td>\n",
       "      <td>0.151291</td>\n",
       "    </tr>\n",
       "    <tr>\n",
       "      <th>8</th>\n",
       "      <td>ROU</td>\n",
       "      <td>0.145227</td>\n",
       "    </tr>\n",
       "    <tr>\n",
       "      <th>9</th>\n",
       "      <td>ESP</td>\n",
       "      <td>0.135477</td>\n",
       "    </tr>\n",
       "    <tr>\n",
       "      <th>10</th>\n",
       "      <td>DNK</td>\n",
       "      <td>0.130137</td>\n",
       "    </tr>\n",
       "    <tr>\n",
       "      <th>11</th>\n",
       "      <td>LVA</td>\n",
       "      <td>0.128255</td>\n",
       "    </tr>\n",
       "    <tr>\n",
       "      <th>12</th>\n",
       "      <td>HUN</td>\n",
       "      <td>0.120999</td>\n",
       "    </tr>\n",
       "    <tr>\n",
       "      <th>13</th>\n",
       "      <td>POL</td>\n",
       "      <td>0.120576</td>\n",
       "    </tr>\n",
       "    <tr>\n",
       "      <th>14</th>\n",
       "      <td>BGR</td>\n",
       "      <td>0.113082</td>\n",
       "    </tr>\n",
       "    <tr>\n",
       "      <th>15</th>\n",
       "      <td>SWE</td>\n",
       "      <td>0.090650</td>\n",
       "    </tr>\n",
       "    <tr>\n",
       "      <th>16</th>\n",
       "      <td>HRV</td>\n",
       "      <td>0.080032</td>\n",
       "    </tr>\n",
       "    <tr>\n",
       "      <th>17</th>\n",
       "      <td>AUT</td>\n",
       "      <td>0.062259</td>\n",
       "    </tr>\n",
       "    <tr>\n",
       "      <th>18</th>\n",
       "      <td>SVK</td>\n",
       "      <td>0.033553</td>\n",
       "    </tr>\n",
       "    <tr>\n",
       "      <th>19</th>\n",
       "      <td>CZE</td>\n",
       "      <td>0.033344</td>\n",
       "    </tr>\n",
       "    <tr>\n",
       "      <th>20</th>\n",
       "      <td>FIN</td>\n",
       "      <td>0.030280</td>\n",
       "    </tr>\n",
       "    <tr>\n",
       "      <th>21</th>\n",
       "      <td>DEU</td>\n",
       "      <td>0.020118</td>\n",
       "    </tr>\n",
       "    <tr>\n",
       "      <th>22</th>\n",
       "      <td>BEL</td>\n",
       "      <td>0.017484</td>\n",
       "    </tr>\n",
       "  </tbody>\n",
       "</table>\n",
       "</div>"
      ],
      "text/plain": [
       "   Country  EP Group vs Nationality Index\n",
       "0      LUX                       0.306327\n",
       "1      SVN                       0.282895\n",
       "2      PRT                       0.165751\n",
       "3      LTU                       0.165746\n",
       "4      MLT                       0.161597\n",
       "5      IRL                       0.159710\n",
       "6      EST                       0.152350\n",
       "7      CYP                       0.151291\n",
       "8      ROU                       0.145227\n",
       "9      ESP                       0.135477\n",
       "10     DNK                       0.130137\n",
       "11     LVA                       0.128255\n",
       "12     HUN                       0.120999\n",
       "13     POL                       0.120576\n",
       "14     BGR                       0.113082\n",
       "15     SWE                       0.090650\n",
       "16     HRV                       0.080032\n",
       "17     AUT                       0.062259\n",
       "18     SVK                       0.033553\n",
       "19     CZE                       0.033344\n",
       "20     FIN                       0.030280\n",
       "21     DEU                       0.020118\n",
       "22     BEL                       0.017484"
      ]
     },
     "execution_count": 9,
     "metadata": {},
     "output_type": "execute_result"
    }
   ],
   "source": [
    "# Compute the EP Group vs Nationality Index for all subjects, regardless of primary subject\n",
    "all_subjects_ep_country_vs_nationality_index = compute_ep_group_vs_nationality_index(bills)\n",
    "\n",
    "all_subjects_ep_country_vs_nationality_index"
   ]
  },
  {
   "cell_type": "markdown",
   "id": "8f1827bc-841d-430f-81fa-c00d3bf0eb48",
   "metadata": {},
   "source": [
    "### 2.2. European citizenship\n",
    "<a id=\"European-citizenship\"></a>"
   ]
  },
  {
   "cell_type": "code",
   "execution_count": 16,
   "id": "b2ce9f18-1f8e-4f40-a03e-33f1353f9dad",
   "metadata": {},
   "outputs": [],
   "source": [
    "# Filter for bills whose primary subject is 1 (among other potential primary subjects)\n",
    "primary_subject_bills_1 = primary_subject_bills[primary_subject_bills[\"primary_subject\"] == 1]"
   ]
  },
  {
   "cell_type": "code",
   "execution_count": 17,
   "id": "41e1b415-011e-454d-a963-63b341b14431",
   "metadata": {},
   "outputs": [
    {
     "name": "stderr",
     "output_type": "stream",
     "text": [
      "Processing bills: 100%|██████████| 98/98 [01:27<00:00,  1.12it/s]\n"
     ]
    },
    {
     "data": {
      "text/html": [
       "<div>\n",
       "<style scoped>\n",
       "    .dataframe tbody tr th:only-of-type {\n",
       "        vertical-align: middle;\n",
       "    }\n",
       "\n",
       "    .dataframe tbody tr th {\n",
       "        vertical-align: top;\n",
       "    }\n",
       "\n",
       "    .dataframe thead th {\n",
       "        text-align: right;\n",
       "    }\n",
       "</style>\n",
       "<table border=\"1\" class=\"dataframe\">\n",
       "  <thead>\n",
       "    <tr style=\"text-align: right;\">\n",
       "      <th></th>\n",
       "      <th>Country</th>\n",
       "      <th>EP Group vs Nationality Index</th>\n",
       "    </tr>\n",
       "  </thead>\n",
       "  <tbody>\n",
       "    <tr>\n",
       "      <th>0</th>\n",
       "      <td>LUX</td>\n",
       "      <td>0.334286</td>\n",
       "    </tr>\n",
       "    <tr>\n",
       "      <th>1</th>\n",
       "      <td>IRL</td>\n",
       "      <td>0.242301</td>\n",
       "    </tr>\n",
       "    <tr>\n",
       "      <th>2</th>\n",
       "      <td>CYP</td>\n",
       "      <td>0.202041</td>\n",
       "    </tr>\n",
       "    <tr>\n",
       "      <th>3</th>\n",
       "      <td>PRT</td>\n",
       "      <td>0.201399</td>\n",
       "    </tr>\n",
       "    <tr>\n",
       "      <th>4</th>\n",
       "      <td>EST</td>\n",
       "      <td>0.193800</td>\n",
       "    </tr>\n",
       "    <tr>\n",
       "      <th>5</th>\n",
       "      <td>SVN</td>\n",
       "      <td>0.192653</td>\n",
       "    </tr>\n",
       "    <tr>\n",
       "      <th>6</th>\n",
       "      <td>DNK</td>\n",
       "      <td>0.178035</td>\n",
       "    </tr>\n",
       "    <tr>\n",
       "      <th>7</th>\n",
       "      <td>ESP</td>\n",
       "      <td>0.152438</td>\n",
       "    </tr>\n",
       "    <tr>\n",
       "      <th>8</th>\n",
       "      <td>SWE</td>\n",
       "      <td>0.146735</td>\n",
       "    </tr>\n",
       "    <tr>\n",
       "      <th>9</th>\n",
       "      <td>FIN</td>\n",
       "      <td>0.142951</td>\n",
       "    </tr>\n",
       "    <tr>\n",
       "      <th>10</th>\n",
       "      <td>LTU</td>\n",
       "      <td>0.133191</td>\n",
       "    </tr>\n",
       "    <tr>\n",
       "      <th>11</th>\n",
       "      <td>MLT</td>\n",
       "      <td>0.126122</td>\n",
       "    </tr>\n",
       "    <tr>\n",
       "      <th>12</th>\n",
       "      <td>ROU</td>\n",
       "      <td>0.106487</td>\n",
       "    </tr>\n",
       "    <tr>\n",
       "      <th>13</th>\n",
       "      <td>AUT</td>\n",
       "      <td>0.095321</td>\n",
       "    </tr>\n",
       "    <tr>\n",
       "      <th>14</th>\n",
       "      <td>HRV</td>\n",
       "      <td>0.087934</td>\n",
       "    </tr>\n",
       "    <tr>\n",
       "      <th>15</th>\n",
       "      <td>LVA</td>\n",
       "      <td>0.081020</td>\n",
       "    </tr>\n",
       "    <tr>\n",
       "      <th>16</th>\n",
       "      <td>DEU</td>\n",
       "      <td>0.067216</td>\n",
       "    </tr>\n",
       "    <tr>\n",
       "      <th>17</th>\n",
       "      <td>BGR</td>\n",
       "      <td>0.042989</td>\n",
       "    </tr>\n",
       "    <tr>\n",
       "      <th>18</th>\n",
       "      <td>BEL</td>\n",
       "      <td>0.041399</td>\n",
       "    </tr>\n",
       "  </tbody>\n",
       "</table>\n",
       "</div>"
      ],
      "text/plain": [
       "   Country  EP Group vs Nationality Index\n",
       "0      LUX                       0.334286\n",
       "1      IRL                       0.242301\n",
       "2      CYP                       0.202041\n",
       "3      PRT                       0.201399\n",
       "4      EST                       0.193800\n",
       "5      SVN                       0.192653\n",
       "6      DNK                       0.178035\n",
       "7      ESP                       0.152438\n",
       "8      SWE                       0.146735\n",
       "9      FIN                       0.142951\n",
       "10     LTU                       0.133191\n",
       "11     MLT                       0.126122\n",
       "12     ROU                       0.106487\n",
       "13     AUT                       0.095321\n",
       "14     HRV                       0.087934\n",
       "15     LVA                       0.081020\n",
       "16     DEU                       0.067216\n",
       "17     BGR                       0.042989\n",
       "18     BEL                       0.041399"
      ]
     },
     "execution_count": 17,
     "metadata": {},
     "output_type": "execute_result"
    }
   ],
   "source": [
    "# Compute the EP Group vs Nationality Index for all bills whose primary subject is 1 (among other potential primary subjects)\n",
    "primary_subject_1_ep_country_vs_nationality_index = compute_ep_group_vs_nationality_index(primary_subject_bills_1)\n",
    "\n",
    "primary_subject_1_ep_country_vs_nationality_index"
   ]
  },
  {
   "cell_type": "markdown",
   "id": "5b268f13-040d-48b3-a136-623f3c88735d",
   "metadata": {},
   "source": [
    "### 2.3. Internal market, single market\n",
    "<a id=\"Internal-market-single-market\"></a>"
   ]
  },
  {
   "cell_type": "code",
   "execution_count": 18,
   "id": "d5902c66-0123-4d99-8dfc-e2b2faef16d9",
   "metadata": {},
   "outputs": [],
   "source": [
    "# Filter for bills whose primary subject is 2 (among other potential primary subjects)\n",
    "primary_subject_bills_2 = primary_subject_bills[primary_subject_bills[\"primary_subject\"] == 2]"
   ]
  },
  {
   "cell_type": "code",
   "execution_count": 19,
   "id": "df2444b0-fd72-47f1-ab96-0c64636a4083",
   "metadata": {},
   "outputs": [
    {
     "name": "stderr",
     "output_type": "stream",
     "text": [
      "Processing bills: 100%|██████████| 195/195 [02:46<00:00,  1.17it/s]\n"
     ]
    },
    {
     "data": {
      "text/html": [
       "<div>\n",
       "<style scoped>\n",
       "    .dataframe tbody tr th:only-of-type {\n",
       "        vertical-align: middle;\n",
       "    }\n",
       "\n",
       "    .dataframe tbody tr th {\n",
       "        vertical-align: top;\n",
       "    }\n",
       "\n",
       "    .dataframe thead th {\n",
       "        text-align: right;\n",
       "    }\n",
       "</style>\n",
       "<table border=\"1\" class=\"dataframe\">\n",
       "  <thead>\n",
       "    <tr style=\"text-align: right;\">\n",
       "      <th></th>\n",
       "      <th>Country</th>\n",
       "      <th>EP Group vs Nationality Index</th>\n",
       "    </tr>\n",
       "  </thead>\n",
       "  <tbody>\n",
       "    <tr>\n",
       "      <th>0</th>\n",
       "      <td>SVN</td>\n",
       "      <td>0.337692</td>\n",
       "    </tr>\n",
       "    <tr>\n",
       "      <th>1</th>\n",
       "      <td>LUX</td>\n",
       "      <td>0.261573</td>\n",
       "    </tr>\n",
       "    <tr>\n",
       "      <th>2</th>\n",
       "      <td>LTU</td>\n",
       "      <td>0.175860</td>\n",
       "    </tr>\n",
       "    <tr>\n",
       "      <th>3</th>\n",
       "      <td>EST</td>\n",
       "      <td>0.170422</td>\n",
       "    </tr>\n",
       "    <tr>\n",
       "      <th>4</th>\n",
       "      <td>MLT</td>\n",
       "      <td>0.160308</td>\n",
       "    </tr>\n",
       "    <tr>\n",
       "      <th>5</th>\n",
       "      <td>ROU</td>\n",
       "      <td>0.151900</td>\n",
       "    </tr>\n",
       "    <tr>\n",
       "      <th>6</th>\n",
       "      <td>ESP</td>\n",
       "      <td>0.137470</td>\n",
       "    </tr>\n",
       "    <tr>\n",
       "      <th>7</th>\n",
       "      <td>BGR</td>\n",
       "      <td>0.135294</td>\n",
       "    </tr>\n",
       "    <tr>\n",
       "      <th>8</th>\n",
       "      <td>IRL</td>\n",
       "      <td>0.125157</td>\n",
       "    </tr>\n",
       "    <tr>\n",
       "      <th>9</th>\n",
       "      <td>DNK</td>\n",
       "      <td>0.112174</td>\n",
       "    </tr>\n",
       "    <tr>\n",
       "      <th>10</th>\n",
       "      <td>PRT</td>\n",
       "      <td>0.109768</td>\n",
       "    </tr>\n",
       "    <tr>\n",
       "      <th>11</th>\n",
       "      <td>POL</td>\n",
       "      <td>0.094160</td>\n",
       "    </tr>\n",
       "    <tr>\n",
       "      <th>12</th>\n",
       "      <td>LVA</td>\n",
       "      <td>0.084462</td>\n",
       "    </tr>\n",
       "    <tr>\n",
       "      <th>13</th>\n",
       "      <td>HRV</td>\n",
       "      <td>0.075086</td>\n",
       "    </tr>\n",
       "    <tr>\n",
       "      <th>14</th>\n",
       "      <td>HUN</td>\n",
       "      <td>0.074501</td>\n",
       "    </tr>\n",
       "    <tr>\n",
       "      <th>15</th>\n",
       "      <td>CYP</td>\n",
       "      <td>0.061607</td>\n",
       "    </tr>\n",
       "    <tr>\n",
       "      <th>16</th>\n",
       "      <td>AUT</td>\n",
       "      <td>0.048893</td>\n",
       "    </tr>\n",
       "    <tr>\n",
       "      <th>17</th>\n",
       "      <td>SVK</td>\n",
       "      <td>0.047852</td>\n",
       "    </tr>\n",
       "    <tr>\n",
       "      <th>18</th>\n",
       "      <td>SWE</td>\n",
       "      <td>0.036718</td>\n",
       "    </tr>\n",
       "    <tr>\n",
       "      <th>19</th>\n",
       "      <td>NLD</td>\n",
       "      <td>0.034496</td>\n",
       "    </tr>\n",
       "    <tr>\n",
       "      <th>20</th>\n",
       "      <td>FIN</td>\n",
       "      <td>0.034189</td>\n",
       "    </tr>\n",
       "  </tbody>\n",
       "</table>\n",
       "</div>"
      ],
      "text/plain": [
       "   Country  EP Group vs Nationality Index\n",
       "0      SVN                       0.337692\n",
       "1      LUX                       0.261573\n",
       "2      LTU                       0.175860\n",
       "3      EST                       0.170422\n",
       "4      MLT                       0.160308\n",
       "5      ROU                       0.151900\n",
       "6      ESP                       0.137470\n",
       "7      BGR                       0.135294\n",
       "8      IRL                       0.125157\n",
       "9      DNK                       0.112174\n",
       "10     PRT                       0.109768\n",
       "11     POL                       0.094160\n",
       "12     LVA                       0.084462\n",
       "13     HRV                       0.075086\n",
       "14     HUN                       0.074501\n",
       "15     CYP                       0.061607\n",
       "16     AUT                       0.048893\n",
       "17     SVK                       0.047852\n",
       "18     SWE                       0.036718\n",
       "19     NLD                       0.034496\n",
       "20     FIN                       0.034189"
      ]
     },
     "execution_count": 19,
     "metadata": {},
     "output_type": "execute_result"
    }
   ],
   "source": [
    "# Compute the EP Group vs Nationality Index for all bills whose primary subject is 2 (among other potential primary subjects)\n",
    "primary_subject_2_ep_country_vs_nationality_index = compute_ep_group_vs_nationality_index(primary_subject_bills_2)\n",
    "\n",
    "primary_subject_2_ep_country_vs_nationality_index"
   ]
  },
  {
   "cell_type": "markdown",
   "id": "0f9e8618-472e-407a-b00f-dc8e9c295c46",
   "metadata": {},
   "source": [
    "### 2.4. Community policies\n",
    "<a id=\"Community-policies\"></a>"
   ]
  },
  {
   "cell_type": "code",
   "execution_count": 20,
   "id": "4366585f-1906-4072-851e-a65213716e48",
   "metadata": {},
   "outputs": [],
   "source": [
    "# Filter for bills whose primary subject is 3 (among other potential primary subjects)\n",
    "primary_subject_bills_3 = primary_subject_bills[primary_subject_bills[\"primary_subject\"] == 3]"
   ]
  },
  {
   "cell_type": "code",
   "execution_count": 21,
   "id": "755332f0-268f-4e1e-89ea-3a2d94c8ad5e",
   "metadata": {},
   "outputs": [
    {
     "name": "stderr",
     "output_type": "stream",
     "text": [
      "Processing bills: 100%|██████████| 597/597 [08:31<00:00,  1.17it/s]\n"
     ]
    },
    {
     "data": {
      "text/html": [
       "<div>\n",
       "<style scoped>\n",
       "    .dataframe tbody tr th:only-of-type {\n",
       "        vertical-align: middle;\n",
       "    }\n",
       "\n",
       "    .dataframe tbody tr th {\n",
       "        vertical-align: top;\n",
       "    }\n",
       "\n",
       "    .dataframe thead th {\n",
       "        text-align: right;\n",
       "    }\n",
       "</style>\n",
       "<table border=\"1\" class=\"dataframe\">\n",
       "  <thead>\n",
       "    <tr style=\"text-align: right;\">\n",
       "      <th></th>\n",
       "      <th>Country</th>\n",
       "      <th>EP Group vs Nationality Index</th>\n",
       "    </tr>\n",
       "  </thead>\n",
       "  <tbody>\n",
       "    <tr>\n",
       "      <th>0</th>\n",
       "      <td>SVN</td>\n",
       "      <td>0.292178</td>\n",
       "    </tr>\n",
       "    <tr>\n",
       "      <th>1</th>\n",
       "      <td>LUX</td>\n",
       "      <td>0.243897</td>\n",
       "    </tr>\n",
       "    <tr>\n",
       "      <th>2</th>\n",
       "      <td>MLT</td>\n",
       "      <td>0.177476</td>\n",
       "    </tr>\n",
       "    <tr>\n",
       "      <th>3</th>\n",
       "      <td>CYP</td>\n",
       "      <td>0.177108</td>\n",
       "    </tr>\n",
       "    <tr>\n",
       "      <th>4</th>\n",
       "      <td>EST</td>\n",
       "      <td>0.160053</td>\n",
       "    </tr>\n",
       "    <tr>\n",
       "      <th>5</th>\n",
       "      <td>PRT</td>\n",
       "      <td>0.139121</td>\n",
       "    </tr>\n",
       "    <tr>\n",
       "      <th>6</th>\n",
       "      <td>ROU</td>\n",
       "      <td>0.131557</td>\n",
       "    </tr>\n",
       "    <tr>\n",
       "      <th>7</th>\n",
       "      <td>LTU</td>\n",
       "      <td>0.129185</td>\n",
       "    </tr>\n",
       "    <tr>\n",
       "      <th>8</th>\n",
       "      <td>BGR</td>\n",
       "      <td>0.129039</td>\n",
       "    </tr>\n",
       "    <tr>\n",
       "      <th>9</th>\n",
       "      <td>HUN</td>\n",
       "      <td>0.126750</td>\n",
       "    </tr>\n",
       "    <tr>\n",
       "      <th>10</th>\n",
       "      <td>HRV</td>\n",
       "      <td>0.122454</td>\n",
       "    </tr>\n",
       "    <tr>\n",
       "      <th>11</th>\n",
       "      <td>IRL</td>\n",
       "      <td>0.122110</td>\n",
       "    </tr>\n",
       "    <tr>\n",
       "      <th>12</th>\n",
       "      <td>POL</td>\n",
       "      <td>0.115933</td>\n",
       "    </tr>\n",
       "    <tr>\n",
       "      <th>13</th>\n",
       "      <td>LVA</td>\n",
       "      <td>0.108827</td>\n",
       "    </tr>\n",
       "    <tr>\n",
       "      <th>14</th>\n",
       "      <td>ESP</td>\n",
       "      <td>0.105401</td>\n",
       "    </tr>\n",
       "    <tr>\n",
       "      <th>15</th>\n",
       "      <td>DNK</td>\n",
       "      <td>0.101939</td>\n",
       "    </tr>\n",
       "    <tr>\n",
       "      <th>16</th>\n",
       "      <td>AUT</td>\n",
       "      <td>0.073751</td>\n",
       "    </tr>\n",
       "    <tr>\n",
       "      <th>17</th>\n",
       "      <td>SVK</td>\n",
       "      <td>0.061498</td>\n",
       "    </tr>\n",
       "    <tr>\n",
       "      <th>18</th>\n",
       "      <td>FRA</td>\n",
       "      <td>0.039336</td>\n",
       "    </tr>\n",
       "    <tr>\n",
       "      <th>19</th>\n",
       "      <td>SWE</td>\n",
       "      <td>0.029099</td>\n",
       "    </tr>\n",
       "    <tr>\n",
       "      <th>20</th>\n",
       "      <td>CZE</td>\n",
       "      <td>0.025263</td>\n",
       "    </tr>\n",
       "    <tr>\n",
       "      <th>21</th>\n",
       "      <td>BEL</td>\n",
       "      <td>0.019253</td>\n",
       "    </tr>\n",
       "  </tbody>\n",
       "</table>\n",
       "</div>"
      ],
      "text/plain": [
       "   Country  EP Group vs Nationality Index\n",
       "0      SVN                       0.292178\n",
       "1      LUX                       0.243897\n",
       "2      MLT                       0.177476\n",
       "3      CYP                       0.177108\n",
       "4      EST                       0.160053\n",
       "5      PRT                       0.139121\n",
       "6      ROU                       0.131557\n",
       "7      LTU                       0.129185\n",
       "8      BGR                       0.129039\n",
       "9      HUN                       0.126750\n",
       "10     HRV                       0.122454\n",
       "11     IRL                       0.122110\n",
       "12     POL                       0.115933\n",
       "13     LVA                       0.108827\n",
       "14     ESP                       0.105401\n",
       "15     DNK                       0.101939\n",
       "16     AUT                       0.073751\n",
       "17     SVK                       0.061498\n",
       "18     FRA                       0.039336\n",
       "19     SWE                       0.029099\n",
       "20     CZE                       0.025263\n",
       "21     BEL                       0.019253"
      ]
     },
     "execution_count": 21,
     "metadata": {},
     "output_type": "execute_result"
    }
   ],
   "source": [
    "# Compute the EP Group vs Nationality Index for all bills whose primary subject is 3 (among other potential primary subjects)\n",
    "primary_subject_3_ep_country_vs_nationality_index = compute_ep_group_vs_nationality_index(primary_subject_bills_3)\n",
    "\n",
    "primary_subject_3_ep_country_vs_nationality_index"
   ]
  },
  {
   "cell_type": "markdown",
   "id": "ec71eb63-415e-44c7-9dd2-5838eebef36d",
   "metadata": {},
   "source": [
    "### 2.5. Economic, social and territorial cohesion\n",
    "<a id=\"Economic-social-and-territorial-cohesion\"></a>"
   ]
  },
  {
   "cell_type": "code",
   "execution_count": 22,
   "id": "89583965-d5fe-43f2-a97e-2b6402e93422",
   "metadata": {},
   "outputs": [],
   "source": [
    "# Filter for bills whose primary subject is 4 (among other potential primary subjects)\n",
    "primary_subject_bills_4 = primary_subject_bills[primary_subject_bills[\"primary_subject\"] == 4]"
   ]
  },
  {
   "cell_type": "code",
   "execution_count": 23,
   "id": "5f0a08f9-d6c8-498a-a1af-0b75d8ab3048",
   "metadata": {},
   "outputs": [
    {
     "name": "stderr",
     "output_type": "stream",
     "text": [
      "Processing bills: 100%|██████████| 394/394 [05:34<00:00,  1.18it/s]\n"
     ]
    },
    {
     "data": {
      "text/html": [
       "<div>\n",
       "<style scoped>\n",
       "    .dataframe tbody tr th:only-of-type {\n",
       "        vertical-align: middle;\n",
       "    }\n",
       "\n",
       "    .dataframe tbody tr th {\n",
       "        vertical-align: top;\n",
       "    }\n",
       "\n",
       "    .dataframe thead th {\n",
       "        text-align: right;\n",
       "    }\n",
       "</style>\n",
       "<table border=\"1\" class=\"dataframe\">\n",
       "  <thead>\n",
       "    <tr style=\"text-align: right;\">\n",
       "      <th></th>\n",
       "      <th>Country</th>\n",
       "      <th>EP Group vs Nationality Index</th>\n",
       "    </tr>\n",
       "  </thead>\n",
       "  <tbody>\n",
       "    <tr>\n",
       "      <th>0</th>\n",
       "      <td>LUX</td>\n",
       "      <td>0.313926</td>\n",
       "    </tr>\n",
       "    <tr>\n",
       "      <th>1</th>\n",
       "      <td>IRL</td>\n",
       "      <td>0.271070</td>\n",
       "    </tr>\n",
       "    <tr>\n",
       "      <th>2</th>\n",
       "      <td>SVN</td>\n",
       "      <td>0.242259</td>\n",
       "    </tr>\n",
       "    <tr>\n",
       "      <th>3</th>\n",
       "      <td>CYP</td>\n",
       "      <td>0.233215</td>\n",
       "    </tr>\n",
       "    <tr>\n",
       "      <th>4</th>\n",
       "      <td>PRT</td>\n",
       "      <td>0.225132</td>\n",
       "    </tr>\n",
       "    <tr>\n",
       "      <th>5</th>\n",
       "      <td>MLT</td>\n",
       "      <td>0.178613</td>\n",
       "    </tr>\n",
       "    <tr>\n",
       "      <th>6</th>\n",
       "      <td>ESP</td>\n",
       "      <td>0.163320</td>\n",
       "    </tr>\n",
       "    <tr>\n",
       "      <th>7</th>\n",
       "      <td>ROU</td>\n",
       "      <td>0.150033</td>\n",
       "    </tr>\n",
       "    <tr>\n",
       "      <th>8</th>\n",
       "      <td>LTU</td>\n",
       "      <td>0.146627</td>\n",
       "    </tr>\n",
       "    <tr>\n",
       "      <th>9</th>\n",
       "      <td>EST</td>\n",
       "      <td>0.140031</td>\n",
       "    </tr>\n",
       "    <tr>\n",
       "      <th>10</th>\n",
       "      <td>LVA</td>\n",
       "      <td>0.124670</td>\n",
       "    </tr>\n",
       "    <tr>\n",
       "      <th>11</th>\n",
       "      <td>BGR</td>\n",
       "      <td>0.105793</td>\n",
       "    </tr>\n",
       "    <tr>\n",
       "      <th>12</th>\n",
       "      <td>HUN</td>\n",
       "      <td>0.089094</td>\n",
       "    </tr>\n",
       "    <tr>\n",
       "      <th>13</th>\n",
       "      <td>DNK</td>\n",
       "      <td>0.083023</td>\n",
       "    </tr>\n",
       "    <tr>\n",
       "      <th>14</th>\n",
       "      <td>HRV</td>\n",
       "      <td>0.080663</td>\n",
       "    </tr>\n",
       "    <tr>\n",
       "      <th>15</th>\n",
       "      <td>AUT</td>\n",
       "      <td>0.053584</td>\n",
       "    </tr>\n",
       "    <tr>\n",
       "      <th>16</th>\n",
       "      <td>FIN</td>\n",
       "      <td>0.049348</td>\n",
       "    </tr>\n",
       "    <tr>\n",
       "      <th>17</th>\n",
       "      <td>DEU</td>\n",
       "      <td>0.037414</td>\n",
       "    </tr>\n",
       "    <tr>\n",
       "      <th>18</th>\n",
       "      <td>POL</td>\n",
       "      <td>0.035104</td>\n",
       "    </tr>\n",
       "    <tr>\n",
       "      <th>19</th>\n",
       "      <td>BEL</td>\n",
       "      <td>0.028354</td>\n",
       "    </tr>\n",
       "  </tbody>\n",
       "</table>\n",
       "</div>"
      ],
      "text/plain": [
       "   Country  EP Group vs Nationality Index\n",
       "0      LUX                       0.313926\n",
       "1      IRL                       0.271070\n",
       "2      SVN                       0.242259\n",
       "3      CYP                       0.233215\n",
       "4      PRT                       0.225132\n",
       "5      MLT                       0.178613\n",
       "6      ESP                       0.163320\n",
       "7      ROU                       0.150033\n",
       "8      LTU                       0.146627\n",
       "9      EST                       0.140031\n",
       "10     LVA                       0.124670\n",
       "11     BGR                       0.105793\n",
       "12     HUN                       0.089094\n",
       "13     DNK                       0.083023\n",
       "14     HRV                       0.080663\n",
       "15     AUT                       0.053584\n",
       "16     FIN                       0.049348\n",
       "17     DEU                       0.037414\n",
       "18     POL                       0.035104\n",
       "19     BEL                       0.028354"
      ]
     },
     "execution_count": 23,
     "metadata": {},
     "output_type": "execute_result"
    }
   ],
   "source": [
    "# Compute the EP Group vs Nationality Index for all bills whose primary subject is 4 (among other potential primary subjects)\n",
    "primary_subject_4_ep_country_vs_nationality_index = compute_ep_group_vs_nationality_index(primary_subject_bills_4)\n",
    "\n",
    "primary_subject_4_ep_country_vs_nationality_index"
   ]
  },
  {
   "cell_type": "markdown",
   "id": "95175eb7-03b0-4379-826f-8176d2a47a4a",
   "metadata": {},
   "source": [
    "### 2.6. Economic and monetary system\n",
    "<a id=\"Economic-and-monetary-system\"></a>"
   ]
  },
  {
   "cell_type": "code",
   "execution_count": 24,
   "id": "b4177401-390b-44cd-a888-30dc46424214",
   "metadata": {},
   "outputs": [],
   "source": [
    "# Filter for bills whose primary subject is 5 (among other potential primary subjects)\n",
    "primary_subject_bills_5 = primary_subject_bills[primary_subject_bills[\"primary_subject\"] == 5]"
   ]
  },
  {
   "cell_type": "code",
   "execution_count": 25,
   "id": "4f3bc7c2-d2ed-4b2b-ab37-c6b9547a2d0a",
   "metadata": {},
   "outputs": [
    {
     "name": "stderr",
     "output_type": "stream",
     "text": [
      "Processing bills: 100%|██████████| 32/32 [00:28<00:00,  1.12it/s]\n"
     ]
    },
    {
     "data": {
      "text/html": [
       "<div>\n",
       "<style scoped>\n",
       "    .dataframe tbody tr th:only-of-type {\n",
       "        vertical-align: middle;\n",
       "    }\n",
       "\n",
       "    .dataframe tbody tr th {\n",
       "        vertical-align: top;\n",
       "    }\n",
       "\n",
       "    .dataframe thead th {\n",
       "        text-align: right;\n",
       "    }\n",
       "</style>\n",
       "<table border=\"1\" class=\"dataframe\">\n",
       "  <thead>\n",
       "    <tr style=\"text-align: right;\">\n",
       "      <th></th>\n",
       "      <th>Country</th>\n",
       "      <th>EP Group vs Nationality Index</th>\n",
       "    </tr>\n",
       "  </thead>\n",
       "  <tbody>\n",
       "    <tr>\n",
       "      <th>0</th>\n",
       "      <td>SVN</td>\n",
       "      <td>0.430625</td>\n",
       "    </tr>\n",
       "    <tr>\n",
       "      <th>1</th>\n",
       "      <td>LUX</td>\n",
       "      <td>0.351667</td>\n",
       "    </tr>\n",
       "    <tr>\n",
       "      <th>2</th>\n",
       "      <td>BGR</td>\n",
       "      <td>0.216691</td>\n",
       "    </tr>\n",
       "    <tr>\n",
       "      <th>3</th>\n",
       "      <td>ROU</td>\n",
       "      <td>0.215249</td>\n",
       "    </tr>\n",
       "    <tr>\n",
       "      <th>4</th>\n",
       "      <td>PRT</td>\n",
       "      <td>0.202560</td>\n",
       "    </tr>\n",
       "    <tr>\n",
       "      <th>5</th>\n",
       "      <td>MLT</td>\n",
       "      <td>0.196250</td>\n",
       "    </tr>\n",
       "    <tr>\n",
       "      <th>6</th>\n",
       "      <td>LTU</td>\n",
       "      <td>0.183977</td>\n",
       "    </tr>\n",
       "    <tr>\n",
       "      <th>7</th>\n",
       "      <td>HUN</td>\n",
       "      <td>0.174851</td>\n",
       "    </tr>\n",
       "    <tr>\n",
       "      <th>8</th>\n",
       "      <td>EST</td>\n",
       "      <td>0.167560</td>\n",
       "    </tr>\n",
       "    <tr>\n",
       "      <th>9</th>\n",
       "      <td>HRV</td>\n",
       "      <td>0.161496</td>\n",
       "    </tr>\n",
       "    <tr>\n",
       "      <th>10</th>\n",
       "      <td>ESP</td>\n",
       "      <td>0.153666</td>\n",
       "    </tr>\n",
       "    <tr>\n",
       "      <th>11</th>\n",
       "      <td>AUT</td>\n",
       "      <td>0.141802</td>\n",
       "    </tr>\n",
       "    <tr>\n",
       "      <th>12</th>\n",
       "      <td>LVA</td>\n",
       "      <td>0.119062</td>\n",
       "    </tr>\n",
       "    <tr>\n",
       "      <th>13</th>\n",
       "      <td>POL</td>\n",
       "      <td>0.108886</td>\n",
       "    </tr>\n",
       "    <tr>\n",
       "      <th>14</th>\n",
       "      <td>IRL</td>\n",
       "      <td>0.098737</td>\n",
       "    </tr>\n",
       "    <tr>\n",
       "      <th>15</th>\n",
       "      <td>SWE</td>\n",
       "      <td>0.090833</td>\n",
       "    </tr>\n",
       "    <tr>\n",
       "      <th>16</th>\n",
       "      <td>DNK</td>\n",
       "      <td>0.089128</td>\n",
       "    </tr>\n",
       "    <tr>\n",
       "      <th>17</th>\n",
       "      <td>DEU</td>\n",
       "      <td>0.058255</td>\n",
       "    </tr>\n",
       "  </tbody>\n",
       "</table>\n",
       "</div>"
      ],
      "text/plain": [
       "   Country  EP Group vs Nationality Index\n",
       "0      SVN                       0.430625\n",
       "1      LUX                       0.351667\n",
       "2      BGR                       0.216691\n",
       "3      ROU                       0.215249\n",
       "4      PRT                       0.202560\n",
       "5      MLT                       0.196250\n",
       "6      LTU                       0.183977\n",
       "7      HUN                       0.174851\n",
       "8      EST                       0.167560\n",
       "9      HRV                       0.161496\n",
       "10     ESP                       0.153666\n",
       "11     AUT                       0.141802\n",
       "12     LVA                       0.119062\n",
       "13     POL                       0.108886\n",
       "14     IRL                       0.098737\n",
       "15     SWE                       0.090833\n",
       "16     DNK                       0.089128\n",
       "17     DEU                       0.058255"
      ]
     },
     "execution_count": 25,
     "metadata": {},
     "output_type": "execute_result"
    }
   ],
   "source": [
    "# Compute the EP Group vs Nationality Index for all bills whose primary subject is 5 (among other potential primary subjects)\n",
    "primary_subject_5_ep_country_vs_nationality_index = compute_ep_group_vs_nationality_index(primary_subject_bills_5)\n",
    "\n",
    "primary_subject_5_ep_country_vs_nationality_index"
   ]
  },
  {
   "cell_type": "markdown",
   "id": "5e64d9f9-f8db-4993-9a8c-c6538a9d3c5f",
   "metadata": {},
   "source": [
    "### 2.7. External relations of the Union\n",
    "<a id=\"External-relations-of-the-Union\"></a>"
   ]
  },
  {
   "cell_type": "code",
   "execution_count": 26,
   "id": "09e36b76-d58d-4c3a-a623-28075d44cb96",
   "metadata": {},
   "outputs": [],
   "source": [
    "# Filter for bills whose primary subject is 6 (among other potential primary subjects)\n",
    "primary_subject_bills_6 = primary_subject_bills[primary_subject_bills[\"primary_subject\"] == 6]"
   ]
  },
  {
   "cell_type": "code",
   "execution_count": 27,
   "id": "670d6e45-66f8-48fc-8fbe-c81e9053936b",
   "metadata": {},
   "outputs": [
    {
     "name": "stderr",
     "output_type": "stream",
     "text": [
      "Processing bills: 100%|██████████| 444/444 [06:11<00:00,  1.19it/s]\n"
     ]
    },
    {
     "data": {
      "text/html": [
       "<div>\n",
       "<style scoped>\n",
       "    .dataframe tbody tr th:only-of-type {\n",
       "        vertical-align: middle;\n",
       "    }\n",
       "\n",
       "    .dataframe tbody tr th {\n",
       "        vertical-align: top;\n",
       "    }\n",
       "\n",
       "    .dataframe thead th {\n",
       "        text-align: right;\n",
       "    }\n",
       "</style>\n",
       "<table border=\"1\" class=\"dataframe\">\n",
       "  <thead>\n",
       "    <tr style=\"text-align: right;\">\n",
       "      <th></th>\n",
       "      <th>Country</th>\n",
       "      <th>EP Group vs Nationality Index</th>\n",
       "    </tr>\n",
       "  </thead>\n",
       "  <tbody>\n",
       "    <tr>\n",
       "      <th>0</th>\n",
       "      <td>LUX</td>\n",
       "      <td>0.322102</td>\n",
       "    </tr>\n",
       "    <tr>\n",
       "      <th>1</th>\n",
       "      <td>SVN</td>\n",
       "      <td>0.299572</td>\n",
       "    </tr>\n",
       "    <tr>\n",
       "      <th>2</th>\n",
       "      <td>EST</td>\n",
       "      <td>0.177782</td>\n",
       "    </tr>\n",
       "    <tr>\n",
       "      <th>3</th>\n",
       "      <td>SWE</td>\n",
       "      <td>0.173342</td>\n",
       "    </tr>\n",
       "    <tr>\n",
       "      <th>4</th>\n",
       "      <td>ROU</td>\n",
       "      <td>0.164827</td>\n",
       "    </tr>\n",
       "    <tr>\n",
       "      <th>5</th>\n",
       "      <td>POL</td>\n",
       "      <td>0.162546</td>\n",
       "    </tr>\n",
       "    <tr>\n",
       "      <th>6</th>\n",
       "      <td>LTU</td>\n",
       "      <td>0.155758</td>\n",
       "    </tr>\n",
       "    <tr>\n",
       "      <th>7</th>\n",
       "      <td>DNK</td>\n",
       "      <td>0.146343</td>\n",
       "    </tr>\n",
       "    <tr>\n",
       "      <th>8</th>\n",
       "      <td>PRT</td>\n",
       "      <td>0.134076</td>\n",
       "    </tr>\n",
       "    <tr>\n",
       "      <th>9</th>\n",
       "      <td>MLT</td>\n",
       "      <td>0.128814</td>\n",
       "    </tr>\n",
       "    <tr>\n",
       "      <th>10</th>\n",
       "      <td>ESP</td>\n",
       "      <td>0.128090</td>\n",
       "    </tr>\n",
       "    <tr>\n",
       "      <th>11</th>\n",
       "      <td>HUN</td>\n",
       "      <td>0.126090</td>\n",
       "    </tr>\n",
       "    <tr>\n",
       "      <th>12</th>\n",
       "      <td>IRL</td>\n",
       "      <td>0.077125</td>\n",
       "    </tr>\n",
       "    <tr>\n",
       "      <th>13</th>\n",
       "      <td>BGR</td>\n",
       "      <td>0.071826</td>\n",
       "    </tr>\n",
       "    <tr>\n",
       "      <th>14</th>\n",
       "      <td>HRV</td>\n",
       "      <td>0.070102</td>\n",
       "    </tr>\n",
       "    <tr>\n",
       "      <th>15</th>\n",
       "      <td>LVA</td>\n",
       "      <td>0.060473</td>\n",
       "    </tr>\n",
       "    <tr>\n",
       "      <th>16</th>\n",
       "      <td>FIN</td>\n",
       "      <td>0.057311</td>\n",
       "    </tr>\n",
       "    <tr>\n",
       "      <th>17</th>\n",
       "      <td>CZE</td>\n",
       "      <td>0.057046</td>\n",
       "    </tr>\n",
       "    <tr>\n",
       "      <th>18</th>\n",
       "      <td>CYP</td>\n",
       "      <td>0.053544</td>\n",
       "    </tr>\n",
       "    <tr>\n",
       "      <th>19</th>\n",
       "      <td>NLD</td>\n",
       "      <td>0.045680</td>\n",
       "    </tr>\n",
       "    <tr>\n",
       "      <th>20</th>\n",
       "      <td>AUT</td>\n",
       "      <td>0.037437</td>\n",
       "    </tr>\n",
       "    <tr>\n",
       "      <th>21</th>\n",
       "      <td>SVK</td>\n",
       "      <td>0.027457</td>\n",
       "    </tr>\n",
       "    <tr>\n",
       "      <th>22</th>\n",
       "      <td>BEL</td>\n",
       "      <td>0.014824</td>\n",
       "    </tr>\n",
       "  </tbody>\n",
       "</table>\n",
       "</div>"
      ],
      "text/plain": [
       "   Country  EP Group vs Nationality Index\n",
       "0      LUX                       0.322102\n",
       "1      SVN                       0.299572\n",
       "2      EST                       0.177782\n",
       "3      SWE                       0.173342\n",
       "4      ROU                       0.164827\n",
       "5      POL                       0.162546\n",
       "6      LTU                       0.155758\n",
       "7      DNK                       0.146343\n",
       "8      PRT                       0.134076\n",
       "9      MLT                       0.128814\n",
       "10     ESP                       0.128090\n",
       "11     HUN                       0.126090\n",
       "12     IRL                       0.077125\n",
       "13     BGR                       0.071826\n",
       "14     HRV                       0.070102\n",
       "15     LVA                       0.060473\n",
       "16     FIN                       0.057311\n",
       "17     CZE                       0.057046\n",
       "18     CYP                       0.053544\n",
       "19     NLD                       0.045680\n",
       "20     AUT                       0.037437\n",
       "21     SVK                       0.027457\n",
       "22     BEL                       0.014824"
      ]
     },
     "execution_count": 27,
     "metadata": {},
     "output_type": "execute_result"
    }
   ],
   "source": [
    "# Compute the EP Group vs Nationality Index for all bills whose primary subject is 6 (among other potential primary subjects)\n",
    "primary_subject_6_ep_country_vs_nationality_index = compute_ep_group_vs_nationality_index(primary_subject_bills_6)\n",
    "\n",
    "primary_subject_6_ep_country_vs_nationality_index"
   ]
  },
  {
   "cell_type": "markdown",
   "id": "ddd1f435-effa-440e-a397-6147624233f1",
   "metadata": {},
   "source": [
    "### 2.8. Area of freedom, security and justice\n",
    "<a id=\"Area-of-freedom-security-and-justice\"></a>"
   ]
  },
  {
   "cell_type": "code",
   "execution_count": 28,
   "id": "57b5b3cb-9295-42c6-899c-983f8b8c56e2",
   "metadata": {},
   "outputs": [],
   "source": [
    "# Filter for bills whose primary subject is 7 (among other potential primary subjects)\n",
    "primary_subject_bills_7 = primary_subject_bills[primary_subject_bills[\"primary_subject\"] == 7]"
   ]
  },
  {
   "cell_type": "code",
   "execution_count": 29,
   "id": "20b23b66-967e-4c29-a080-f2818fb97435",
   "metadata": {},
   "outputs": [
    {
     "name": "stderr",
     "output_type": "stream",
     "text": [
      "Processing bills: 100%|██████████| 181/181 [02:35<00:00,  1.17it/s]\n"
     ]
    },
    {
     "data": {
      "text/html": [
       "<div>\n",
       "<style scoped>\n",
       "    .dataframe tbody tr th:only-of-type {\n",
       "        vertical-align: middle;\n",
       "    }\n",
       "\n",
       "    .dataframe tbody tr th {\n",
       "        vertical-align: top;\n",
       "    }\n",
       "\n",
       "    .dataframe thead th {\n",
       "        text-align: right;\n",
       "    }\n",
       "</style>\n",
       "<table border=\"1\" class=\"dataframe\">\n",
       "  <thead>\n",
       "    <tr style=\"text-align: right;\">\n",
       "      <th></th>\n",
       "      <th>Country</th>\n",
       "      <th>EP Group vs Nationality Index</th>\n",
       "    </tr>\n",
       "  </thead>\n",
       "  <tbody>\n",
       "    <tr>\n",
       "      <th>0</th>\n",
       "      <td>LUX</td>\n",
       "      <td>0.311308</td>\n",
       "    </tr>\n",
       "    <tr>\n",
       "      <th>1</th>\n",
       "      <td>SVN</td>\n",
       "      <td>0.232983</td>\n",
       "    </tr>\n",
       "    <tr>\n",
       "      <th>2</th>\n",
       "      <td>EST</td>\n",
       "      <td>0.189034</td>\n",
       "    </tr>\n",
       "    <tr>\n",
       "      <th>3</th>\n",
       "      <td>PRT</td>\n",
       "      <td>0.149034</td>\n",
       "    </tr>\n",
       "    <tr>\n",
       "      <th>4</th>\n",
       "      <td>ESP</td>\n",
       "      <td>0.143489</td>\n",
       "    </tr>\n",
       "    <tr>\n",
       "      <th>5</th>\n",
       "      <td>LTU</td>\n",
       "      <td>0.137800</td>\n",
       "    </tr>\n",
       "    <tr>\n",
       "      <th>6</th>\n",
       "      <td>SWE</td>\n",
       "      <td>0.137143</td>\n",
       "    </tr>\n",
       "    <tr>\n",
       "      <th>7</th>\n",
       "      <td>POL</td>\n",
       "      <td>0.136692</td>\n",
       "    </tr>\n",
       "    <tr>\n",
       "      <th>8</th>\n",
       "      <td>DNK</td>\n",
       "      <td>0.129550</td>\n",
       "    </tr>\n",
       "    <tr>\n",
       "      <th>9</th>\n",
       "      <td>MLT</td>\n",
       "      <td>0.128066</td>\n",
       "    </tr>\n",
       "    <tr>\n",
       "      <th>10</th>\n",
       "      <td>ROU</td>\n",
       "      <td>0.124787</td>\n",
       "    </tr>\n",
       "    <tr>\n",
       "      <th>11</th>\n",
       "      <td>BGR</td>\n",
       "      <td>0.119142</td>\n",
       "    </tr>\n",
       "    <tr>\n",
       "      <th>12</th>\n",
       "      <td>IRL</td>\n",
       "      <td>0.107837</td>\n",
       "    </tr>\n",
       "    <tr>\n",
       "      <th>13</th>\n",
       "      <td>LVA</td>\n",
       "      <td>0.101215</td>\n",
       "    </tr>\n",
       "    <tr>\n",
       "      <th>14</th>\n",
       "      <td>AUT</td>\n",
       "      <td>0.094423</td>\n",
       "    </tr>\n",
       "    <tr>\n",
       "      <th>15</th>\n",
       "      <td>CZE</td>\n",
       "      <td>0.082042</td>\n",
       "    </tr>\n",
       "    <tr>\n",
       "      <th>16</th>\n",
       "      <td>SVK</td>\n",
       "      <td>0.081540</td>\n",
       "    </tr>\n",
       "    <tr>\n",
       "      <th>17</th>\n",
       "      <td>HUN</td>\n",
       "      <td>0.081031</td>\n",
       "    </tr>\n",
       "    <tr>\n",
       "      <th>18</th>\n",
       "      <td>HRV</td>\n",
       "      <td>0.070628</td>\n",
       "    </tr>\n",
       "    <tr>\n",
       "      <th>19</th>\n",
       "      <td>CYP</td>\n",
       "      <td>0.070129</td>\n",
       "    </tr>\n",
       "    <tr>\n",
       "      <th>20</th>\n",
       "      <td>FIN</td>\n",
       "      <td>0.052779</td>\n",
       "    </tr>\n",
       "    <tr>\n",
       "      <th>21</th>\n",
       "      <td>NLD</td>\n",
       "      <td>0.039657</td>\n",
       "    </tr>\n",
       "    <tr>\n",
       "      <th>22</th>\n",
       "      <td>BEL</td>\n",
       "      <td>0.025446</td>\n",
       "    </tr>\n",
       "  </tbody>\n",
       "</table>\n",
       "</div>"
      ],
      "text/plain": [
       "   Country  EP Group vs Nationality Index\n",
       "0      LUX                       0.311308\n",
       "1      SVN                       0.232983\n",
       "2      EST                       0.189034\n",
       "3      PRT                       0.149034\n",
       "4      ESP                       0.143489\n",
       "5      LTU                       0.137800\n",
       "6      SWE                       0.137143\n",
       "7      POL                       0.136692\n",
       "8      DNK                       0.129550\n",
       "9      MLT                       0.128066\n",
       "10     ROU                       0.124787\n",
       "11     BGR                       0.119142\n",
       "12     IRL                       0.107837\n",
       "13     LVA                       0.101215\n",
       "14     AUT                       0.094423\n",
       "15     CZE                       0.082042\n",
       "16     SVK                       0.081540\n",
       "17     HUN                       0.081031\n",
       "18     HRV                       0.070628\n",
       "19     CYP                       0.070129\n",
       "20     FIN                       0.052779\n",
       "21     NLD                       0.039657\n",
       "22     BEL                       0.025446"
      ]
     },
     "execution_count": 29,
     "metadata": {},
     "output_type": "execute_result"
    }
   ],
   "source": [
    "# Compute the EP Group vs Nationality Index for all bills whose primary subject is 7 (among other potential primary subjects)\n",
    "primary_subject_7_ep_country_vs_nationality_index = compute_ep_group_vs_nationality_index(primary_subject_bills_7)\n",
    "\n",
    "primary_subject_7_ep_country_vs_nationality_index"
   ]
  },
  {
   "cell_type": "markdown",
   "id": "4d57fcc5-bcec-4d02-b255-7dd3e5e4f4c0",
   "metadata": {},
   "source": [
    "### 2.9. State and evolution of the Union\n",
    "<a id=\"State-and-evolution-of-the-Union\"></a>"
   ]
  },
  {
   "cell_type": "code",
   "execution_count": 30,
   "id": "80765bdf-dedd-43fe-8ed9-7d68c7ba8c4f",
   "metadata": {},
   "outputs": [],
   "source": [
    "# Filter for bills whose primary subject is 8 (among other potential primary subjects)\n",
    "primary_subject_bills_8 = primary_subject_bills[primary_subject_bills[\"primary_subject\"] == 8]"
   ]
  },
  {
   "cell_type": "code",
   "execution_count": 31,
   "id": "d487e00a-eed2-43d7-8913-ad4309d6727d",
   "metadata": {
    "scrolled": true
   },
   "outputs": [
    {
     "name": "stderr",
     "output_type": "stream",
     "text": [
      "Processing bills: 100%|██████████| 569/569 [08:03<00:00,  1.18it/s]\n"
     ]
    },
    {
     "data": {
      "text/html": [
       "<div>\n",
       "<style scoped>\n",
       "    .dataframe tbody tr th:only-of-type {\n",
       "        vertical-align: middle;\n",
       "    }\n",
       "\n",
       "    .dataframe tbody tr th {\n",
       "        vertical-align: top;\n",
       "    }\n",
       "\n",
       "    .dataframe thead th {\n",
       "        text-align: right;\n",
       "    }\n",
       "</style>\n",
       "<table border=\"1\" class=\"dataframe\">\n",
       "  <thead>\n",
       "    <tr style=\"text-align: right;\">\n",
       "      <th></th>\n",
       "      <th>Country</th>\n",
       "      <th>EP Group vs Nationality Index</th>\n",
       "    </tr>\n",
       "  </thead>\n",
       "  <tbody>\n",
       "    <tr>\n",
       "      <th>0</th>\n",
       "      <td>LUX</td>\n",
       "      <td>0.316719</td>\n",
       "    </tr>\n",
       "    <tr>\n",
       "      <th>1</th>\n",
       "      <td>SVN</td>\n",
       "      <td>0.269578</td>\n",
       "    </tr>\n",
       "    <tr>\n",
       "      <th>2</th>\n",
       "      <td>IRL</td>\n",
       "      <td>0.231990</td>\n",
       "    </tr>\n",
       "    <tr>\n",
       "      <th>3</th>\n",
       "      <td>LTU</td>\n",
       "      <td>0.198156</td>\n",
       "    </tr>\n",
       "    <tr>\n",
       "      <th>4</th>\n",
       "      <td>PRT</td>\n",
       "      <td>0.177625</td>\n",
       "    </tr>\n",
       "    <tr>\n",
       "      <th>5</th>\n",
       "      <td>LVA</td>\n",
       "      <td>0.176977</td>\n",
       "    </tr>\n",
       "    <tr>\n",
       "      <th>6</th>\n",
       "      <td>CYP</td>\n",
       "      <td>0.171646</td>\n",
       "    </tr>\n",
       "    <tr>\n",
       "      <th>7</th>\n",
       "      <td>ESP</td>\n",
       "      <td>0.158064</td>\n",
       "    </tr>\n",
       "    <tr>\n",
       "      <th>8</th>\n",
       "      <td>DNK</td>\n",
       "      <td>0.152592</td>\n",
       "    </tr>\n",
       "    <tr>\n",
       "      <th>9</th>\n",
       "      <td>MLT</td>\n",
       "      <td>0.142507</td>\n",
       "    </tr>\n",
       "    <tr>\n",
       "      <th>10</th>\n",
       "      <td>BGR</td>\n",
       "      <td>0.128814</td>\n",
       "    </tr>\n",
       "    <tr>\n",
       "      <th>11</th>\n",
       "      <td>HUN</td>\n",
       "      <td>0.123321</td>\n",
       "    </tr>\n",
       "    <tr>\n",
       "      <th>12</th>\n",
       "      <td>ROU</td>\n",
       "      <td>0.121983</td>\n",
       "    </tr>\n",
       "    <tr>\n",
       "      <th>13</th>\n",
       "      <td>POL</td>\n",
       "      <td>0.120850</td>\n",
       "    </tr>\n",
       "    <tr>\n",
       "      <th>14</th>\n",
       "      <td>EST</td>\n",
       "      <td>0.102365</td>\n",
       "    </tr>\n",
       "    <tr>\n",
       "      <th>15</th>\n",
       "      <td>SWE</td>\n",
       "      <td>0.087882</td>\n",
       "    </tr>\n",
       "    <tr>\n",
       "      <th>16</th>\n",
       "      <td>DEU</td>\n",
       "      <td>0.055819</td>\n",
       "    </tr>\n",
       "    <tr>\n",
       "      <th>17</th>\n",
       "      <td>AUT</td>\n",
       "      <td>0.054827</td>\n",
       "    </tr>\n",
       "    <tr>\n",
       "      <th>18</th>\n",
       "      <td>HRV</td>\n",
       "      <td>0.041060</td>\n",
       "    </tr>\n",
       "    <tr>\n",
       "      <th>19</th>\n",
       "      <td>BEL</td>\n",
       "      <td>0.020648</td>\n",
       "    </tr>\n",
       "    <tr>\n",
       "      <th>20</th>\n",
       "      <td>SVK</td>\n",
       "      <td>0.018596</td>\n",
       "    </tr>\n",
       "    <tr>\n",
       "      <th>21</th>\n",
       "      <td>CZE</td>\n",
       "      <td>0.016922</td>\n",
       "    </tr>\n",
       "  </tbody>\n",
       "</table>\n",
       "</div>"
      ],
      "text/plain": [
       "   Country  EP Group vs Nationality Index\n",
       "0      LUX                       0.316719\n",
       "1      SVN                       0.269578\n",
       "2      IRL                       0.231990\n",
       "3      LTU                       0.198156\n",
       "4      PRT                       0.177625\n",
       "5      LVA                       0.176977\n",
       "6      CYP                       0.171646\n",
       "7      ESP                       0.158064\n",
       "8      DNK                       0.152592\n",
       "9      MLT                       0.142507\n",
       "10     BGR                       0.128814\n",
       "11     HUN                       0.123321\n",
       "12     ROU                       0.121983\n",
       "13     POL                       0.120850\n",
       "14     EST                       0.102365\n",
       "15     SWE                       0.087882\n",
       "16     DEU                       0.055819\n",
       "17     AUT                       0.054827\n",
       "18     HRV                       0.041060\n",
       "19     BEL                       0.020648\n",
       "20     SVK                       0.018596\n",
       "21     CZE                       0.016922"
      ]
     },
     "execution_count": 31,
     "metadata": {},
     "output_type": "execute_result"
    }
   ],
   "source": [
    "# Compute the EP Group vs Nationality Index for all bills whose primary subject is 8 (among other potential primary subjects)\n",
    "primary_subject_8_ep_country_vs_nationality_index = compute_ep_group_vs_nationality_index(primary_subject_bills_8)\n",
    "\n",
    "primary_subject_8_ep_country_vs_nationality_index"
   ]
  },
  {
   "cell_type": "markdown",
   "id": "76db11b2-0029-4f02-a720-54e5cf36f768",
   "metadata": {},
   "source": [
    "### 2.10. Secondary Subjects\n",
    "<a id=\"Secondary-Subjects\"></a>"
   ]
  },
  {
   "cell_type": "code",
   "execution_count": 38,
   "id": "26bdf120-3442-44ca-908e-a6f474bcc011",
   "metadata": {
    "scrolled": true
   },
   "outputs": [
    {
     "name": "stdout",
     "output_type": "stream",
     "text": [
      "Secondary subject: 3.2\n"
     ]
    },
    {
     "name": "stderr",
     "output_type": "stream",
     "text": [
      "Processing bills: 100%|██████████| 89/89 [01:17<00:00,  1.15it/s]\n"
     ]
    },
    {
     "name": "stdout",
     "output_type": "stream",
     "text": [
      "   Country  EP Group vs Nationality Index\n",
      "0      SVN                       0.241798\n",
      "1      LUX                       0.212060\n",
      "2      BGR                       0.145459\n",
      "3      EST                       0.133077\n",
      "4      IRL                       0.132468\n",
      "5      ROU                       0.110090\n",
      "6      POL                       0.104940\n",
      "7      ESP                       0.100524\n",
      "8      MLT                       0.087640\n",
      "9      AUT                       0.082188\n",
      "10     LTU                       0.072217\n",
      "11     CYP                       0.064494\n",
      "12     DNK                       0.063766\n",
      "13     PRT                       0.059572\n",
      "14     HUN                       0.057175\n",
      "15     CZE                       0.051974\n",
      "16     BEL                       0.045821\n",
      "17     NLD                       0.045179\n",
      "18     ITA                       0.044693\n",
      "19     SVK                       0.032043\n",
      "\n",
      "\n",
      "--------------------\n",
      "\n",
      "\n",
      "Secondary subject: 6.4\n"
     ]
    },
    {
     "name": "stderr",
     "output_type": "stream",
     "text": [
      "Processing bills: 100%|██████████| 116/116 [01:42<00:00,  1.13it/s]\n"
     ]
    },
    {
     "name": "stdout",
     "output_type": "stream",
     "text": [
      "   Country  EP Group vs Nationality Index\n",
      "0      LUX                       0.370057\n",
      "1      SVN                       0.317241\n",
      "2      EST                       0.192603\n",
      "3      ROU                       0.176315\n",
      "4      LTU                       0.161144\n",
      "5      SWE                       0.159466\n",
      "6      POL                       0.151733\n",
      "7      MLT                       0.144138\n",
      "8      DNK                       0.141385\n",
      "9      ESP                       0.135955\n",
      "10     PRT                       0.118079\n",
      "11     HUN                       0.110082\n",
      "12     BGR                       0.104899\n",
      "13     LVA                       0.088707\n",
      "14     SVK                       0.077005\n",
      "15     FIN                       0.071309\n",
      "16     AUT                       0.068382\n",
      "17     HRV                       0.065272\n",
      "18     CZE                       0.057299\n",
      "19     IRL                       0.054854\n",
      "20     NLD                       0.053413\n",
      "\n",
      "\n",
      "--------------------\n",
      "\n",
      "\n",
      "Secondary subject: 2.1\n"
     ]
    },
    {
     "name": "stderr",
     "output_type": "stream",
     "text": [
      "Processing bills: 100%|██████████| 39/39 [00:34<00:00,  1.12it/s]\n"
     ]
    },
    {
     "name": "stdout",
     "output_type": "stream",
     "text": [
      "   Country  EP Group vs Nationality Index\n",
      "0      SVN                       0.279744\n",
      "1      LUX                       0.225128\n",
      "2      EST                       0.171673\n",
      "3      IRL                       0.162806\n",
      "4      LTU                       0.162098\n",
      "5      MLT                       0.144786\n",
      "6      ROU                       0.140915\n",
      "7      PRT                       0.130794\n",
      "8      ESP                       0.128944\n",
      "9      CYP                       0.125128\n",
      "10     DNK                       0.116089\n",
      "11     BGR                       0.113846\n",
      "12     LVA                       0.104872\n",
      "13     HRV                       0.098026\n",
      "14     POL                       0.087830\n",
      "15     FIN                       0.078422\n",
      "16     NLD                       0.054866\n",
      "17     AUT                       0.052485\n",
      "\n",
      "\n",
      "--------------------\n",
      "\n",
      "\n",
      "Secondary subject: 5.03\n"
     ]
    },
    {
     "name": "stderr",
     "output_type": "stream",
     "text": [
      "Processing bills: 100%|██████████| 4/4 [00:03<00:00,  1.15it/s]\n"
     ]
    },
    {
     "name": "stdout",
     "output_type": "stream",
     "text": [
      "  Country  EP Group vs Nationality Index\n",
      "0     LUX                       0.393333\n",
      "1     ROU                       0.388011\n",
      "2     AUT                       0.350380\n",
      "3     LTU                       0.312273\n",
      "4     IRL                       0.298322\n",
      "5     FIN                       0.251154\n",
      "6     PRT                       0.247857\n",
      "7     BGR                       0.222647\n",
      "\n",
      "\n",
      "--------------------\n",
      "\n",
      "\n",
      "Secondary subject: 6.2\n"
     ]
    },
    {
     "name": "stderr",
     "output_type": "stream",
     "text": [
      "Processing bills: 100%|██████████| 112/112 [01:37<00:00,  1.15it/s]\n"
     ]
    },
    {
     "name": "stdout",
     "output_type": "stream",
     "text": [
      "   Country  EP Group vs Nationality Index\n",
      "0      SVN                       0.351875\n",
      "1      LUX                       0.263036\n",
      "2      EST                       0.233206\n",
      "3      DNK                       0.185861\n",
      "4      POL                       0.162716\n",
      "5      LTU                       0.161672\n",
      "6      ROU                       0.138947\n",
      "7      SVK                       0.128842\n",
      "8      SWE                       0.122772\n",
      "9      BGR                       0.118845\n",
      "10     MLT                       0.114881\n",
      "11     PRT                       0.098997\n",
      "12     ESP                       0.098568\n",
      "13     HUN                       0.097806\n",
      "14     LVA                       0.097589\n",
      "15     HRV                       0.090281\n",
      "16     AUT                       0.078012\n",
      "17     CZE                       0.063401\n",
      "18     IRL                       0.053802\n",
      "19     NLD                       0.044236\n",
      "20     FIN                       0.041287\n",
      "\n",
      "\n",
      "--------------------\n",
      "\n",
      "\n",
      "Secondary subject: 6.3\n"
     ]
    },
    {
     "name": "stderr",
     "output_type": "stream",
     "text": [
      "Processing bills: 100%|██████████| 33/33 [00:29<00:00,  1.12it/s]\n"
     ]
    },
    {
     "name": "stdout",
     "output_type": "stream",
     "text": [
      "   Country  EP Group vs Nationality Index\n",
      "0      LUX                       0.403030\n",
      "1      IRL                       0.252681\n",
      "2      SVN                       0.238788\n",
      "3      EST                       0.182280\n",
      "4      DNK                       0.179913\n",
      "5      PRT                       0.169524\n",
      "6      MLT                       0.169495\n",
      "7      CYP                       0.133939\n",
      "8      ROU                       0.128809\n",
      "9      LVA                       0.116364\n",
      "10     AUT                       0.115821\n",
      "11     LTU                       0.109642\n",
      "12     ESP                       0.101809\n",
      "13     SWE                       0.079481\n",
      "\n",
      "\n",
      "--------------------\n",
      "\n",
      "\n",
      "Secondary subject: 7.1\n"
     ]
    },
    {
     "name": "stderr",
     "output_type": "stream",
     "text": [
      "Processing bills: 100%|██████████| 78/78 [01:12<00:00,  1.07it/s]\n"
     ]
    },
    {
     "name": "stdout",
     "output_type": "stream",
     "text": [
      "   Country  EP Group vs Nationality Index\n",
      "0      LUX                       0.308376\n",
      "1      SVN                       0.252821\n",
      "2      EST                       0.245568\n",
      "3      POL                       0.236000\n",
      "4      MLT                       0.214530\n",
      "5      BGR                       0.196501\n",
      "6      LTU                       0.174336\n",
      "7      HUN                       0.170830\n",
      "8      PRT                       0.158938\n",
      "9      ESP                       0.146056\n",
      "10     ROU                       0.143347\n",
      "11     SVK                       0.129901\n",
      "12     LVA                       0.111026\n",
      "13     CZE                       0.109414\n",
      "14     SWE                       0.108291\n",
      "15     AUT                       0.098728\n",
      "16     DNK                       0.095689\n",
      "17     IRL                       0.092770\n",
      "18     HRV                       0.091197\n",
      "19     CYP                       0.061282\n",
      "20     NLD                       0.045338\n",
      "\n",
      "\n",
      "--------------------\n",
      "\n",
      "\n",
      "Secondary subject: 8.4\n"
     ]
    },
    {
     "name": "stderr",
     "output_type": "stream",
     "text": [
      "Processing bills: 100%|██████████| 92/92 [01:22<00:00,  1.11it/s]\n"
     ]
    },
    {
     "name": "stdout",
     "output_type": "stream",
     "text": [
      "   Country  EP Group vs Nationality Index\n",
      "0      SVN                       0.298152\n",
      "1      LUX                       0.294565\n",
      "2      DNK                       0.185463\n",
      "3      ESP                       0.184030\n",
      "4      EST                       0.179886\n",
      "5      MLT                       0.170725\n",
      "6      CYP                       0.164928\n",
      "7      IRL                       0.148871\n",
      "8      PRT                       0.146346\n",
      "9      LTU                       0.136700\n",
      "10     ROU                       0.133511\n",
      "11     SWE                       0.120404\n",
      "12     FIN                       0.103521\n",
      "13     AUT                       0.088989\n",
      "14     BGR                       0.088862\n",
      "15     HRV                       0.084631\n",
      "16     LVA                       0.076304\n",
      "17     DEU                       0.054395\n",
      "18     NLD                       0.031609\n",
      "\n",
      "\n",
      "--------------------\n",
      "\n",
      "\n",
      "Secondary subject: 4.1\n"
     ]
    },
    {
     "name": "stderr",
     "output_type": "stream",
     "text": [
      "Processing bills: 100%|██████████| 128/128 [01:51<00:00,  1.15it/s]\n"
     ]
    },
    {
     "name": "stdout",
     "output_type": "stream",
     "text": [
      "   Country  EP Group vs Nationality Index\n",
      "0      LUX                       0.406042\n",
      "1      IRL                       0.378283\n",
      "2      CYP                       0.334323\n",
      "3      PRT                       0.300662\n",
      "4      MLT                       0.207656\n",
      "5      SVN                       0.206406\n",
      "6      ESP                       0.188788\n",
      "7      ROU                       0.169474\n",
      "8      LTU                       0.167216\n",
      "9      EST                       0.161109\n",
      "10     DNK                       0.147945\n",
      "11     DEU                       0.112360\n",
      "12     FIN                       0.111094\n",
      "13     SWE                       0.107619\n",
      "14     LVA                       0.099062\n",
      "15     HRV                       0.070052\n",
      "16     AUT                       0.069836\n",
      "17     BGR                       0.068603\n",
      "18     HUN                       0.066280\n",
      "19     BEL                       0.058125\n",
      "\n",
      "\n",
      "--------------------\n",
      "\n",
      "\n",
      "Secondary subject: 7.3\n"
     ]
    },
    {
     "name": "stderr",
     "output_type": "stream",
     "text": [
      "Processing bills: 100%|██████████| 82/82 [01:11<00:00,  1.14it/s]\n"
     ]
    },
    {
     "name": "stdout",
     "output_type": "stream",
     "text": [
      "   Country  EP Group vs Nationality Index\n",
      "0      LUX                       0.337154\n",
      "1      SVN                       0.186951\n",
      "2      SWE                       0.162311\n",
      "3      EST                       0.159431\n",
      "4      DNK                       0.147909\n",
      "5      ESP                       0.147861\n",
      "6      LTU                       0.146253\n",
      "7      ROU                       0.123113\n",
      "8      PRT                       0.122358\n",
      "9      AUT                       0.106931\n",
      "10     MLT                       0.105366\n",
      "11     IRL                       0.104045\n",
      "12     LVA                       0.089146\n",
      "13     BGR                       0.087245\n",
      "14     CYP                       0.083659\n",
      "15     HRV                       0.073437\n",
      "16     POL                       0.072850\n",
      "17     FIN                       0.068386\n",
      "18     BEL                       0.051359\n",
      "19     NLD                       0.047007\n",
      "\n",
      "\n",
      "--------------------\n",
      "\n",
      "\n",
      "Secondary subject: 7.4\n"
     ]
    },
    {
     "name": "stderr",
     "output_type": "stream",
     "text": [
      "Processing bills: 100%|██████████| 46/46 [00:38<00:00,  1.19it/s]\n"
     ]
    },
    {
     "name": "stdout",
     "output_type": "stream",
     "text": [
      "   Country  EP Group vs Nationality Index\n",
      "0      SVN                       0.254130\n",
      "1      EST                       0.234161\n",
      "2      LUX                       0.206087\n",
      "3      POL                       0.139125\n",
      "4      SWE                       0.136770\n",
      "5      PRT                       0.132899\n",
      "6      DNK                       0.123746\n",
      "7      ESP                       0.112203\n",
      "8      IRL                       0.098230\n",
      "9      CZE                       0.090725\n",
      "10     BGR                       0.090409\n",
      "11     SVK                       0.070382\n",
      "12     AUT                       0.067928\n",
      "13     FIN                       0.056469\n",
      "14     LTU                       0.045652\n",
      "\n",
      "\n",
      "--------------------\n",
      "\n",
      "\n",
      "Secondary subject: 4.15\n"
     ]
    },
    {
     "name": "stderr",
     "output_type": "stream",
     "text": [
      "Processing bills: 100%|██████████| 89/89 [01:16<00:00,  1.16it/s]\n"
     ]
    },
    {
     "name": "stdout",
     "output_type": "stream",
     "text": [
      "   Country  EP Group vs Nationality Index\n",
      "0      LUX                       0.340674\n",
      "1      IRL                       0.302464\n",
      "2      PRT                       0.279090\n",
      "3      SVN                       0.238876\n",
      "4      CYP                       0.211236\n",
      "5      ESP                       0.192881\n",
      "6      MLT                       0.173558\n",
      "7      LTU                       0.158264\n",
      "8      ROU                       0.155512\n",
      "9      LVA                       0.141011\n",
      "10     BGR                       0.130972\n",
      "11     HUN                       0.124312\n",
      "12     EST                       0.121445\n",
      "13     HRV                       0.112462\n",
      "14     AUT                       0.080999\n",
      "15     BEL                       0.039722\n",
      "\n",
      "\n",
      "--------------------\n",
      "\n",
      "\n",
      "Secondary subject: 6.1\n"
     ]
    },
    {
     "name": "stderr",
     "output_type": "stream",
     "text": [
      "Processing bills: 100%|██████████| 247/247 [03:37<00:00,  1.13it/s]\n"
     ]
    },
    {
     "name": "stdout",
     "output_type": "stream",
     "text": [
      "   Country  EP Group vs Nationality Index\n",
      "0      LUX                       0.317841\n",
      "1      SVN                       0.246032\n",
      "2      SWE                       0.194475\n",
      "3      POL                       0.189399\n",
      "4      EST                       0.162803\n",
      "5      ROU                       0.152664\n",
      "6      DNK                       0.151663\n",
      "7      LTU                       0.143070\n",
      "8      PRT                       0.140201\n",
      "9      HUN                       0.135103\n",
      "10     ESP                       0.129614\n",
      "11     MLT                       0.123617\n",
      "12     CYP                       0.088799\n",
      "13     HRV                       0.071115\n",
      "14     FIN                       0.071048\n",
      "15     IRL                       0.067749\n",
      "16     CZE                       0.047955\n",
      "17     LVA                       0.042794\n",
      "18     NLD                       0.039050\n",
      "19     ITA                       0.034766\n",
      "20     BGR                       0.034327\n",
      "\n",
      "\n",
      "--------------------\n",
      "\n",
      "\n",
      "Secondary subject: 8.5\n"
     ]
    },
    {
     "name": "stderr",
     "output_type": "stream",
     "text": [
      "Processing bills: 100%|██████████| 16/16 [00:13<00:00,  1.16it/s]\n"
     ]
    },
    {
     "name": "stdout",
     "output_type": "stream",
     "text": [
      "   Country  EP Group vs Nationality Index\n",
      "0      LUX                       0.425000\n",
      "1      SVN                       0.286250\n",
      "2      CYP                       0.270417\n",
      "3      IRL                       0.203814\n",
      "4      ESP                       0.195181\n",
      "5      DNK                       0.184821\n",
      "6      MLT                       0.182083\n",
      "7      EST                       0.177679\n",
      "8      ROU                       0.174621\n",
      "9      PRT                       0.171131\n",
      "10     LTU                       0.149545\n",
      "11     FIN                       0.123214\n",
      "12     NLD                       0.113060\n",
      "13     DEU                       0.103125\n",
      "14     HRV                       0.077917\n",
      "\n",
      "\n",
      "--------------------\n",
      "\n",
      "\n",
      "Secondary subject: 3.7\n"
     ]
    },
    {
     "name": "stderr",
     "output_type": "stream",
     "text": [
      "Processing bills: 100%|██████████| 157/157 [02:17<00:00,  1.14it/s]\n"
     ]
    },
    {
     "name": "stdout",
     "output_type": "stream",
     "text": [
      "   Country  EP Group vs Nationality Index\n",
      "0      SVN                       0.286178\n",
      "1      LUX                       0.278981\n",
      "2      IRL                       0.271063\n",
      "3      CYP                       0.251762\n",
      "4      PRT                       0.210312\n",
      "5      DNK                       0.181042\n",
      "6      MLT                       0.175329\n",
      "7      EST                       0.162396\n",
      "8      LTU                       0.153468\n",
      "9      ESP                       0.144605\n",
      "10     ROU                       0.144242\n",
      "11     HUN                       0.113133\n",
      "12     LVA                       0.086624\n",
      "13     HRV                       0.082308\n",
      "14     BGR                       0.072709\n",
      "15     SVK                       0.065749\n",
      "16     SWE                       0.048487\n",
      "17     FRA                       0.043652\n",
      "18     NLD                       0.035568\n",
      "19     FIN                       0.033425\n",
      "20     DEU                       0.032825\n",
      "21     BEL                       0.028687\n",
      "\n",
      "\n",
      "--------------------\n",
      "\n",
      "\n",
      "Secondary subject: 8.3\n"
     ]
    },
    {
     "name": "stderr",
     "output_type": "stream",
     "text": [
      "Processing bills: 100%|██████████| 39/39 [00:33<00:00,  1.17it/s]\n"
     ]
    },
    {
     "name": "stdout",
     "output_type": "stream",
     "text": [
      "   Country  EP Group vs Nationality Index\n",
      "0      LUX                       0.501368\n",
      "1      IRL                       0.390149\n",
      "2      DNK                       0.334173\n",
      "3      PRT                       0.311746\n",
      "4      ESP                       0.300114\n",
      "5      MLT                       0.297436\n",
      "6      CYP                       0.273333\n",
      "7      SWE                       0.256996\n",
      "8      FIN                       0.200434\n",
      "9      DEU                       0.198956\n",
      "10     EST                       0.182589\n",
      "11     AUT                       0.159110\n",
      "12     ROU                       0.155284\n",
      "13     BGR                       0.153725\n",
      "14     NLD                       0.125963\n",
      "15     LTU                       0.122098\n",
      "16     GRC                       0.107937\n",
      "17     SVN                       0.092308\n",
      "18     LVA                       0.087436\n",
      "19     HUN                       0.083639\n",
      "\n",
      "\n",
      "--------------------\n",
      "\n",
      "\n",
      "Secondary subject: 2.7\n"
     ]
    },
    {
     "name": "stderr",
     "output_type": "stream",
     "text": [
      "Processing bills: 100%|██████████| 42/42 [00:34<00:00,  1.22it/s]\n"
     ]
    },
    {
     "name": "stdout",
     "output_type": "stream",
     "text": [
      "   Country  EP Group vs Nationality Index\n",
      "0      SVN                       0.317857\n",
      "1      LUX                       0.229048\n",
      "2      LTU                       0.182251\n",
      "3      ROU                       0.159868\n",
      "4      EST                       0.149184\n",
      "5      IRL                       0.117822\n",
      "6      PRT                       0.115306\n",
      "7      MLT                       0.106349\n",
      "8      BGR                       0.102801\n",
      "9      AUT                       0.100270\n",
      "10     ESP                       0.094749\n",
      "11     LVA                       0.085714\n",
      "12     DNK                       0.064505\n",
      "\n",
      "\n",
      "--------------------\n",
      "\n",
      "\n",
      "Secondary subject: 3.45\n"
     ]
    },
    {
     "name": "stderr",
     "output_type": "stream",
     "text": [
      "Processing bills: 100%|██████████| 48/48 [00:39<00:00,  1.20it/s]\n"
     ]
    },
    {
     "name": "stdout",
     "output_type": "stream",
     "text": [
      "   Country  EP Group vs Nationality Index\n",
      "0      SVN                       0.326875\n",
      "1      LUX                       0.303333\n",
      "2      IRL                       0.285277\n",
      "3      EST                       0.192024\n",
      "4      LTU                       0.181364\n",
      "5      ESP                       0.174632\n",
      "6      PRT                       0.159028\n",
      "7      MLT                       0.156389\n",
      "8      CYP                       0.138056\n",
      "9      HRV                       0.134091\n",
      "10     BGR                       0.127868\n",
      "11     ROU                       0.107249\n",
      "12     DNK                       0.099679\n",
      "13     AUT                       0.084155\n",
      "14     FRA                       0.083415\n",
      "15     FIN                       0.072660\n",
      "16     LVA                       0.072500\n",
      "\n",
      "\n",
      "--------------------\n",
      "\n",
      "\n",
      "Secondary subject: 2.5\n"
     ]
    },
    {
     "name": "stderr",
     "output_type": "stream",
     "text": [
      "Processing bills: 100%|██████████| 65/65 [00:54<00:00,  1.19it/s]\n"
     ]
    },
    {
     "name": "stdout",
     "output_type": "stream",
     "text": [
      "   Country  EP Group vs Nationality Index\n",
      "0      SVN                       0.418154\n",
      "1      LUX                       0.288821\n",
      "2      EST                       0.198769\n",
      "3      MLT                       0.181641\n",
      "4      BGR                       0.173448\n",
      "5      DNK                       0.160747\n",
      "6      ROU                       0.153967\n",
      "7      POL                       0.153546\n",
      "8      HUN                       0.150271\n",
      "9      LTU                       0.144755\n",
      "10     ESP                       0.135448\n",
      "11     PRT                       0.085377\n",
      "12     HRV                       0.083385\n",
      "13     SVK                       0.081011\n",
      "14     FIN                       0.072527\n",
      "15     LVA                       0.059692\n",
      "16     NLD                       0.045146\n",
      "\n",
      "\n",
      "--------------------\n",
      "\n",
      "\n",
      "Secondary subject: 2.4\n"
     ]
    },
    {
     "name": "stderr",
     "output_type": "stream",
     "text": [
      "Processing bills: 100%|██████████| 19/19 [00:16<00:00,  1.17it/s]\n"
     ]
    },
    {
     "name": "stdout",
     "output_type": "stream",
     "text": [
      "   Country  EP Group vs Nationality Index\n",
      "0      SVN                       0.377895\n",
      "1      MLT                       0.363509\n",
      "2      LUX                       0.294386\n",
      "3      ROU                       0.244912\n",
      "4      LTU                       0.210813\n",
      "5      BGR                       0.210031\n",
      "6      HUN                       0.201353\n",
      "7      EST                       0.189774\n",
      "8      POL                       0.182591\n",
      "9      PRT                       0.138847\n",
      "10     HRV                       0.118596\n",
      "11     LVA                       0.118421\n",
      "12     ESP                       0.108494\n",
      "13     DNK                       0.082105\n",
      "\n",
      "\n",
      "--------------------\n",
      "\n",
      "\n",
      "Secondary subject: 3.3\n"
     ]
    },
    {
     "name": "stderr",
     "output_type": "stream",
     "text": [
      "Processing bills: 100%|██████████| 102/102 [01:27<00:00,  1.16it/s]\n"
     ]
    },
    {
     "name": "stdout",
     "output_type": "stream",
     "text": [
      "   Country  EP Group vs Nationality Index\n",
      "0      SVN                       0.322941\n",
      "1      LUX                       0.283268\n",
      "2      LTU                       0.177968\n",
      "3      ROU                       0.177244\n",
      "4      EST                       0.172866\n",
      "5      MLT                       0.155817\n",
      "6      ESP                       0.120217\n",
      "7      BGR                       0.112122\n",
      "8      POL                       0.110806\n",
      "9      PRT                       0.101653\n",
      "10     HRV                       0.101236\n",
      "11     IRL                       0.094550\n",
      "12     DNK                       0.086977\n",
      "13     LVA                       0.078235\n",
      "14     HUN                       0.077143\n",
      "15     SWE                       0.045938\n",
      "\n",
      "\n",
      "--------------------\n",
      "\n",
      "\n",
      "Secondary subject: 8.7\n"
     ]
    },
    {
     "name": "stderr",
     "output_type": "stream",
     "text": [
      "Processing bills: 100%|██████████| 395/395 [05:35<00:00,  1.18it/s]\n"
     ]
    },
    {
     "name": "stdout",
     "output_type": "stream",
     "text": [
      "   Country  EP Group vs Nationality Index\n",
      "0      LUX                       0.290245\n",
      "1      SVN                       0.258759\n",
      "2      IRL                       0.252777\n",
      "3      LTU                       0.228419\n",
      "4      LVA                       0.209291\n",
      "5      PRT                       0.172104\n",
      "6      CYP                       0.163527\n",
      "7      POL                       0.144862\n",
      "8      ESP                       0.142767\n",
      "9      HUN                       0.139617\n",
      "10     BGR                       0.135077\n",
      "11     DNK                       0.134555\n",
      "12     MLT                       0.118987\n",
      "13     ROU                       0.107088\n",
      "14     EST                       0.069784\n",
      "15     DEU                       0.049364\n",
      "16     SWE                       0.047797\n",
      "17     AUT                       0.035602\n",
      "18     CZE                       0.021736\n",
      "19     HRV                       0.020959\n",
      "\n",
      "\n",
      "--------------------\n",
      "\n",
      "\n",
      "Secondary subject: 4.6\n"
     ]
    },
    {
     "name": "stderr",
     "output_type": "stream",
     "text": [
      "Processing bills: 100%|██████████| 68/68 [00:57<00:00,  1.17it/s]\n"
     ]
    },
    {
     "name": "stdout",
     "output_type": "stream",
     "text": [
      "   Country  EP Group vs Nationality Index\n",
      "0      SVN                       0.233971\n",
      "1      LUX                       0.229020\n",
      "2      IRL                       0.214554\n",
      "3      CYP                       0.164216\n",
      "4      POL                       0.146516\n",
      "5      EST                       0.145406\n",
      "6      PRT                       0.144566\n",
      "7      MLT                       0.120490\n",
      "8      DNK                       0.113022\n",
      "9      FRA                       0.111391\n",
      "10     HRV                       0.107665\n",
      "11     LVA                       0.103676\n",
      "12     ESP                       0.098997\n",
      "13     LTU                       0.096578\n",
      "14     HUN                       0.094622\n",
      "15     SVK                       0.087631\n",
      "16     BGR                       0.069827\n",
      "17     FIN                       0.069509\n",
      "18     BEL                       0.066863\n",
      "\n",
      "\n",
      "--------------------\n",
      "\n",
      "\n",
      "Secondary subject: 4.45\n"
     ]
    },
    {
     "name": "stderr",
     "output_type": "stream",
     "text": [
      "Processing bills: 100%|██████████| 17/17 [00:14<00:00,  1.17it/s]\n"
     ]
    },
    {
     "name": "stdout",
     "output_type": "stream",
     "text": [
      "   Country  EP Group vs Nationality Index\n",
      "0      LUX                       0.373725\n",
      "1      IRL                       0.346425\n",
      "2      CYP                       0.342353\n",
      "3      PRT                       0.316078\n",
      "4      SVN                       0.285882\n",
      "5      ROU                       0.235437\n",
      "6      LTU                       0.216364\n",
      "7      MLT                       0.181176\n",
      "8      ESP                       0.166439\n",
      "9      EST                       0.161008\n",
      "10     FIN                       0.131933\n",
      "11     HRV                       0.122353\n",
      "12     HUN                       0.105938\n",
      "13     DEU                       0.100980\n",
      "\n",
      "\n",
      "--------------------\n",
      "\n",
      "\n",
      "Secondary subject: 3.15\n"
     ]
    },
    {
     "name": "stderr",
     "output_type": "stream",
     "text": [
      "Processing bills: 100%|██████████| 68/68 [00:59<00:00,  1.14it/s]\n"
     ]
    },
    {
     "name": "stdout",
     "output_type": "stream",
     "text": [
      "   Country  EP Group vs Nationality Index\n",
      "0      SVN                       0.315588\n",
      "1      LUX                       0.248824\n",
      "2      POL                       0.209185\n",
      "3      ROU                       0.186038\n",
      "4      PRT                       0.179482\n",
      "5      CYP                       0.176078\n",
      "6      EST                       0.165644\n",
      "7      BGR                       0.144412\n",
      "8      LTU                       0.137888\n",
      "9      LVA                       0.137059\n",
      "10     MLT                       0.135686\n",
      "11     HRV                       0.134153\n",
      "12     ESP                       0.126189\n",
      "13     CZE                       0.124356\n",
      "14     DNK                       0.115087\n",
      "15     HUN                       0.112339\n",
      "16     IRL                       0.072805\n",
      "17     SWE                       0.056359\n",
      "18     SVK                       0.048975\n",
      "19     NLD                       0.039858\n",
      "\n",
      "\n",
      "--------------------\n",
      "\n",
      "\n",
      "Secondary subject: 3.1\n"
     ]
    },
    {
     "name": "stderr",
     "output_type": "stream",
     "text": [
      "Processing bills: 100%|██████████| 120/120 [01:41<00:00,  1.18it/s]\n"
     ]
    },
    {
     "name": "stdout",
     "output_type": "stream",
     "text": [
      "   Country  EP Group vs Nationality Index\n",
      "0      CYP                       0.378722\n",
      "1      SVN                       0.309917\n",
      "2      MLT                       0.274333\n",
      "3      FRA                       0.265707\n",
      "4      HUN                       0.226016\n",
      "5      AUT                       0.211201\n",
      "6      HRV                       0.205727\n",
      "7      LUX                       0.202389\n",
      "8      LVA                       0.195583\n",
      "9      PRT                       0.156381\n",
      "10     BGR                       0.149716\n",
      "11     SVK                       0.141075\n",
      "12     POL                       0.131023\n",
      "13     ITA                       0.111610\n",
      "14     EST                       0.092484\n",
      "15     ROU                       0.069114\n",
      "16     BEL                       0.063421\n",
      "17     GRC                       0.062008\n",
      "18     LTU                       0.060985\n",
      "19     ESP                       0.043618\n",
      "20     CZE                       0.035452\n",
      "\n",
      "\n",
      "--------------------\n",
      "\n",
      "\n",
      "Secondary subject: 5.2\n"
     ]
    },
    {
     "name": "stderr",
     "output_type": "stream",
     "text": [
      "Processing bills: 100%|██████████| 17/17 [00:14<00:00,  1.18it/s]\n"
     ]
    },
    {
     "name": "stdout",
     "output_type": "stream",
     "text": [
      "   Country  EP Group vs Nationality Index\n",
      "0      SVN                       0.447059\n",
      "1      LUX                       0.409804\n",
      "2      CYP                       0.227059\n",
      "3      BGR                       0.218478\n",
      "4      LTU                       0.207914\n",
      "5      ROU                       0.198975\n",
      "6      ESP                       0.192217\n",
      "7      MLT                       0.192157\n",
      "8      HUN                       0.167171\n",
      "9      AUT                       0.166646\n",
      "10     PRT                       0.160056\n",
      "11     EST                       0.156471\n",
      "12     IRL                       0.094216\n",
      "\n",
      "\n",
      "--------------------\n",
      "\n",
      "\n",
      "Secondary subject: 3.5\n"
     ]
    },
    {
     "name": "stderr",
     "output_type": "stream",
     "text": [
      "Processing bills: 100%|██████████| 47/47 [00:39<00:00,  1.20it/s]\n"
     ]
    },
    {
     "name": "stdout",
     "output_type": "stream",
     "text": [
      "   Country  EP Group vs Nationality Index\n",
      "0      SVN                       0.323617\n",
      "1      EST                       0.233921\n",
      "2      POL                       0.184429\n",
      "3      LUX                       0.184255\n",
      "4      ROU                       0.134636\n",
      "5      LTU                       0.129052\n",
      "6      HRV                       0.114468\n",
      "7      LVA                       0.091489\n",
      "8      BGR                       0.087685\n",
      "9      MLT                       0.086383\n",
      "10     ESP                       0.070155\n",
      "11     DNK                       0.069422\n",
      "\n",
      "\n",
      "--------------------\n",
      "\n",
      "\n",
      "Secondary subject: 3.6\n"
     ]
    },
    {
     "name": "stderr",
     "output_type": "stream",
     "text": [
      "Processing bills: 100%|██████████| 44/44 [00:38<00:00,  1.15it/s]\n"
     ]
    },
    {
     "name": "stdout",
     "output_type": "stream",
     "text": [
      "   Country  EP Group vs Nationality Index\n",
      "0      SVN                       0.362500\n",
      "1      LUX                       0.337424\n",
      "2      EST                       0.297922\n",
      "3      MLT                       0.254848\n",
      "4      ROU                       0.252094\n",
      "5      HUN                       0.227532\n",
      "6      PRT                       0.204416\n",
      "7      LTU                       0.201983\n",
      "8      BGR                       0.174893\n",
      "9      HRV                       0.163485\n",
      "10     CYP                       0.155303\n",
      "11     DNK                       0.152013\n",
      "12     ESP                       0.143531\n",
      "13     LVA                       0.136591\n",
      "14     IRL                       0.128427\n",
      "15     POL                       0.122941\n",
      "16     SVK                       0.093312\n",
      "17     SWE                       0.084221\n",
      "18     BEL                       0.055476\n",
      "\n",
      "\n",
      "--------------------\n",
      "\n",
      "\n",
      "Secondary subject: 4.7\n"
     ]
    },
    {
     "name": "stderr",
     "output_type": "stream",
     "text": [
      "Processing bills: 100%|██████████| 49/49 [00:41<00:00,  1.18it/s]\n"
     ]
    },
    {
     "name": "stdout",
     "output_type": "stream",
     "text": [
      "   Country  EP Group vs Nationality Index\n",
      "0      SVN                       0.310816\n",
      "1      LUX                       0.246395\n",
      "2      IRL                       0.201486\n",
      "3      CYP                       0.191565\n",
      "4      PRT                       0.190398\n",
      "5      LVA                       0.178980\n",
      "6      MLT                       0.174422\n",
      "7      LTU                       0.167755\n",
      "8      BGR                       0.156423\n",
      "9      ESP                       0.147765\n",
      "10     ROU                       0.144225\n",
      "11     EST                       0.099086\n",
      "12     HRV                       0.070674\n",
      "13     DEU                       0.056894\n",
      "14     AUT                       0.050226\n",
      "\n",
      "\n",
      "--------------------\n",
      "\n",
      "\n",
      "Secondary subject: 8.2\n"
     ]
    },
    {
     "name": "stderr",
     "output_type": "stream",
     "text": [
      "Processing bills: 100%|██████████| 31/31 [00:25<00:00,  1.20it/s]\n"
     ]
    },
    {
     "name": "stdout",
     "output_type": "stream",
     "text": [
      "   Country  EP Group vs Nationality Index\n",
      "0      SVN                       0.425161\n",
      "1      LUX                       0.418925\n",
      "2      POL                       0.260633\n",
      "3      LTU                       0.239648\n",
      "4      SWE                       0.207588\n",
      "5      CYP                       0.195269\n",
      "6      ROU                       0.193380\n",
      "7      EST                       0.186421\n",
      "8      PRT                       0.176559\n",
      "9      DNK                       0.170868\n",
      "10     IRL                       0.142396\n",
      "11     ESP                       0.129100\n",
      "12     LVA                       0.127097\n",
      "13     HUN                       0.124147\n",
      "14     MLT                       0.118925\n",
      "15     DEU                       0.107903\n",
      "16     CZE                       0.053856\n",
      "\n",
      "\n",
      "--------------------\n",
      "\n",
      "\n",
      "Secondary subject: 3.4\n"
     ]
    },
    {
     "name": "stderr",
     "output_type": "stream",
     "text": [
      "Processing bills: 100%|██████████| 70/70 [00:58<00:00,  1.20it/s]\n"
     ]
    },
    {
     "name": "stdout",
     "output_type": "stream",
     "text": [
      "   Country  EP Group vs Nationality Index\n",
      "0      SVN                       0.303286\n",
      "1      LUX                       0.213524\n",
      "2      ROU                       0.169129\n",
      "3      EST                       0.163034\n",
      "4      MLT                       0.151810\n",
      "5      CYP                       0.148000\n",
      "6      HRV                       0.146606\n",
      "7      LTU                       0.143273\n",
      "8      BGR                       0.141513\n",
      "9      POL                       0.126732\n",
      "10     HUN                       0.126422\n",
      "11     LVA                       0.126143\n",
      "12     ESP                       0.123149\n",
      "13     PRT                       0.119483\n",
      "14     DNK                       0.098402\n",
      "15     IRL                       0.077756\n",
      "16     FRA                       0.061505\n",
      "17     BEL                       0.045007\n",
      "\n",
      "\n",
      "--------------------\n",
      "\n",
      "\n",
      "Secondary subject: 2.8\n"
     ]
    },
    {
     "name": "stderr",
     "output_type": "stream",
     "text": [
      "Processing bills: 100%|██████████| 31/31 [00:25<00:00,  1.20it/s]\n"
     ]
    },
    {
     "name": "stdout",
     "output_type": "stream",
     "text": [
      "  Country  EP Group vs Nationality Index\n",
      "0     SVN                       0.292258\n",
      "1     LUX                       0.183656\n",
      "2     EST                       0.165131\n",
      "3     LTU                       0.148739\n",
      "4     CZE                       0.124424\n",
      "5     IRL                       0.115434\n",
      "6     ESP                       0.115376\n",
      "7     POL                       0.105669\n",
      "8     ROU                       0.097456\n",
      "9     PRT                       0.077880\n",
      "\n",
      "\n",
      "--------------------\n",
      "\n",
      "\n",
      "Secondary subject: 4.4\n"
     ]
    },
    {
     "name": "stderr",
     "output_type": "stream",
     "text": [
      "Processing bills: 100%|██████████| 37/37 [00:31<00:00,  1.19it/s]\n"
     ]
    },
    {
     "name": "stdout",
     "output_type": "stream",
     "text": [
      "   Country  EP Group vs Nationality Index\n",
      "0      IRL                       0.375252\n",
      "1      CYP                       0.357477\n",
      "2      LUX                       0.299099\n",
      "3      PRT                       0.292021\n",
      "4      ROU                       0.240586\n",
      "5      LTU                       0.213907\n",
      "6      MLT                       0.190450\n",
      "7      LVA                       0.186486\n",
      "8      SVN                       0.178108\n",
      "9      ESP                       0.176780\n",
      "10     EST                       0.096036\n",
      "11     BGR                       0.091733\n",
      "12     HUN                       0.075701\n",
      "13     HRV                       0.065520\n",
      "14     AUT                       0.059738\n",
      "\n",
      "\n",
      "--------------------\n",
      "\n",
      "\n",
      "Secondary subject: 1.2\n"
     ]
    },
    {
     "name": "stderr",
     "output_type": "stream",
     "text": [
      "Processing bills: 100%|██████████| 68/68 [00:59<00:00,  1.15it/s]\n"
     ]
    },
    {
     "name": "stdout",
     "output_type": "stream",
     "text": [
      "   Country  EP Group vs Nationality Index\n",
      "0      LUX                       0.280686\n",
      "1      EST                       0.220182\n",
      "2      SVN                       0.205882\n",
      "3      IRL                       0.205872\n",
      "4      DNK                       0.169270\n",
      "5      PRT                       0.152227\n",
      "6      SWE                       0.124090\n",
      "7      ESP                       0.121300\n",
      "8      CYP                       0.121176\n",
      "9      LTU                       0.120374\n",
      "10     HRV                       0.089082\n",
      "11     AUT                       0.088752\n",
      "12     FIN                       0.086312\n",
      "13     ROU                       0.086239\n",
      "14     POL                       0.072341\n",
      "15     LVA                       0.057794\n",
      "16     CZE                       0.053123\n",
      "\n",
      "\n",
      "--------------------\n",
      "\n",
      "\n",
      "Secondary subject: 2.6\n"
     ]
    },
    {
     "name": "stderr",
     "output_type": "stream",
     "text": [
      "Processing bills: 100%|██████████| 10/10 [00:08<00:00,  1.13it/s]\n"
     ]
    },
    {
     "name": "stdout",
     "output_type": "stream",
     "text": [
      "  Country  EP Group vs Nationality Index\n",
      "0     SVN                       0.496000\n",
      "1     LUX                       0.437333\n",
      "2     LTU                       0.318909\n",
      "3     MLT                       0.298667\n",
      "4     DNK                       0.252286\n",
      "5     ROU                       0.238788\n",
      "6     SVK                       0.185714\n",
      "7     HRV                       0.158667\n",
      "8     ESP                       0.150069\n",
      "9     NLD                       0.121655\n",
      "\n",
      "\n",
      "--------------------\n",
      "\n",
      "\n",
      "Secondary subject: 6.5\n"
     ]
    },
    {
     "name": "stderr",
     "output_type": "stream",
     "text": [
      "Processing bills: 100%|██████████| 20/20 [00:17<00:00,  1.14it/s]\n"
     ]
    },
    {
     "name": "stdout",
     "output_type": "stream",
     "text": [
      "   Country  EP Group vs Nationality Index\n",
      "0      SVN                       0.395000\n",
      "1      LUX                       0.305000\n",
      "2      HUN                       0.213524\n",
      "3      EST                       0.210286\n",
      "4      ROU                       0.209273\n",
      "5      PRT                       0.189762\n",
      "6      HRV                       0.180000\n",
      "7      ESP                       0.148899\n",
      "8      POL                       0.142709\n",
      "9      BGR                       0.141706\n",
      "10     LTU                       0.140727\n",
      "11     LVA                       0.136000\n",
      "12     DNK                       0.099286\n",
      "\n",
      "\n",
      "--------------------\n",
      "\n",
      "\n",
      "Secondary subject: 1.1\n"
     ]
    },
    {
     "name": "stderr",
     "output_type": "stream",
     "text": [
      "Processing bills: 100%|██████████| 28/28 [00:24<00:00,  1.14it/s]\n"
     ]
    },
    {
     "name": "stdout",
     "output_type": "stream",
     "text": [
      "   Country  EP Group vs Nationality Index\n",
      "0      LUX                       0.531905\n",
      "1      IRL                       0.444451\n",
      "2      CYP                       0.279762\n",
      "3      PRT                       0.268844\n",
      "4      FIN                       0.254184\n",
      "5      DNK                       0.246122\n",
      "6      MLT                       0.244286\n",
      "7      SWE                       0.234388\n",
      "8      ESP                       0.223816\n",
      "9      EST                       0.212959\n",
      "10     SVN                       0.202857\n",
      "11     HUN                       0.181633\n",
      "12     LVA                       0.138214\n",
      "13     LTU                       0.131818\n",
      "14     ROU                       0.106926\n",
      "15     DEU                       0.098606\n",
      "16     AUT                       0.088346\n",
      "17     HRV                       0.086905\n",
      "18     BGR                       0.077479\n",
      "19     BEL                       0.067449\n",
      "20     NLD                       0.066379\n",
      "\n",
      "\n",
      "--------------------\n",
      "\n",
      "\n",
      "Secondary subject: 4.2\n"
     ]
    },
    {
     "name": "stderr",
     "output_type": "stream",
     "text": [
      "Processing bills: 100%|██████████| 69/69 [01:00<00:00,  1.15it/s]\n"
     ]
    },
    {
     "name": "stdout",
     "output_type": "stream",
     "text": [
      "   Country  EP Group vs Nationality Index\n",
      "0      LUX                       0.274879\n",
      "1      SVN                       0.263913\n",
      "2      IRL                       0.242787\n",
      "3      MLT                       0.209855\n",
      "4      LVA                       0.192029\n",
      "5      PRT                       0.178647\n",
      "6      ESP                       0.158509\n",
      "7      CYP                       0.154879\n",
      "8      ROU                       0.146753\n",
      "9      LTU                       0.140237\n",
      "10     BGR                       0.128474\n",
      "11     EST                       0.112298\n",
      "12     HUN                       0.098689\n",
      "13     DNK                       0.090021\n",
      "14     HRV                       0.063961\n",
      "\n",
      "\n",
      "--------------------\n",
      "\n",
      "\n",
      "Secondary subject: 4.5\n"
     ]
    },
    {
     "name": "stderr",
     "output_type": "stream",
     "text": [
      "Processing bills: 100%|██████████| 8/8 [00:06<00:00,  1.15it/s]\n"
     ]
    },
    {
     "name": "stdout",
     "output_type": "stream",
     "text": [
      "  Country  EP Group vs Nationality Index\n",
      "0     SVN                       0.335000\n",
      "1     EST                       0.249524\n",
      "2     LUX                       0.243333\n",
      "3     IRL                       0.227937\n",
      "4     ROU                       0.215284\n",
      "5     BGR                       0.181618\n",
      "\n",
      "\n",
      "--------------------\n",
      "\n",
      "\n",
      "Secondary subject: 4.3\n"
     ]
    },
    {
     "name": "stderr",
     "output_type": "stream",
     "text": [
      "Processing bills: 100%|██████████| 2/2 [00:01<00:00,  1.08it/s]\n"
     ]
    },
    {
     "name": "stdout",
     "output_type": "stream",
     "text": [
      "  Country  EP Group vs Nationality Index\n",
      "0     SVN                       0.220000\n",
      "1     SVK                       0.085714\n",
      "\n",
      "\n",
      "--------------------\n",
      "\n",
      "\n",
      "Secondary subject: 2.3\n"
     ]
    },
    {
     "name": "stderr",
     "output_type": "stream",
     "text": [
      "Processing bills: 100%|██████████| 3/3 [00:02<00:00,  1.16it/s]\n"
     ]
    },
    {
     "name": "stdout",
     "output_type": "stream",
     "text": [
      "  Country  EP Group vs Nationality Index\n",
      "0     SVN                       0.413333\n",
      "1     IRL                       0.402051\n",
      "2     LUX                       0.346667\n",
      "\n",
      "\n",
      "--------------------\n",
      "\n",
      "\n",
      "Secondary subject: 5.1\n"
     ]
    },
    {
     "name": "stderr",
     "output_type": "stream",
     "text": [
      "Processing bills: 100%|██████████| 11/11 [00:08<00:00,  1.23it/s]\n"
     ]
    },
    {
     "name": "stdout",
     "output_type": "stream",
     "text": [
      "   Country  EP Group vs Nationality Index\n",
      "0      SVN                       0.460000\n",
      "1      POL                       0.434685\n",
      "2      LUX                       0.356364\n",
      "3      CZE                       0.255584\n",
      "4      HUN                       0.234199\n",
      "5      PRT                       0.208658\n",
      "6      BGR                       0.197540\n",
      "7      SVK                       0.196623\n",
      "8      DNK                       0.185455\n",
      "9      HRV                       0.178182\n",
      "10     SWE                       0.176017\n",
      "11     LVA                       0.174545\n",
      "12     ROU                       0.168926\n",
      "13     EST                       0.168571\n",
      "14     LTU                       0.090248\n",
      "\n",
      "\n",
      "--------------------\n",
      "\n",
      "\n",
      "Secondary subject: 5.05\n"
     ]
    },
    {
     "name": "stderr",
     "output_type": "stream",
     "text": [
      "Processing bills: 100%|██████████| 4/4 [00:03<00:00,  1.14it/s]\n"
     ]
    },
    {
     "name": "stdout",
     "output_type": "stream",
     "text": [
      "  Country  EP Group vs Nationality Index\n",
      "0     HRV                       0.316667\n",
      "1     BGR                       0.310294\n",
      "2     LVA                       0.300000\n",
      "3     PRT                       0.275714\n",
      "4     ESP                       0.176017\n",
      "\n",
      "\n",
      "--------------------\n",
      "\n",
      "\n",
      "Secondary subject: 2.2\n"
     ]
    },
    {
     "name": "stderr",
     "output_type": "stream",
     "text": [
      "Processing bills: 100%|██████████| 4/4 [00:03<00:00,  1.14it/s]\n"
     ]
    },
    {
     "name": "stdout",
     "output_type": "stream",
     "text": [
      "  Country  EP Group vs Nationality Index\n",
      "0     EST                       0.384286\n",
      "1     SVN                       0.355000\n",
      "2     LUX                       0.353333\n",
      "3     MLT                       0.346667\n",
      "4     ESP                       0.313337\n",
      "5     SWE                       0.290238\n",
      "6     IRL                       0.173462\n",
      "7     DEU                       0.143750\n",
      "\n",
      "\n",
      "--------------------\n",
      "\n",
      "\n",
      "Secondary subject: 8.6\n"
     ]
    },
    {
     "name": "stderr",
     "output_type": "stream",
     "text": [
      "Processing bills: 100%|██████████| 4/4 [00:03<00:00,  1.19it/s]\n"
     ]
    },
    {
     "name": "stdout",
     "output_type": "stream",
     "text": [
      "  Country  EP Group vs Nationality Index\n",
      "0     SVN                       0.345000\n",
      "1     PRT                       0.210476\n",
      "2     ESP                       0.189915\n",
      "\n",
      "\n",
      "--------------------\n",
      "\n",
      "\n",
      "Secondary subject: 8.1\n"
     ]
    },
    {
     "name": "stderr",
     "output_type": "stream",
     "text": [
      "Processing bills: 100%|██████████| 1/1 [00:00<00:00,  1.19it/s]"
     ]
    },
    {
     "name": "stdout",
     "output_type": "stream",
     "text": [
      "Empty DataFrame\n",
      "Columns: [Country, EP Group vs Nationality Index]\n",
      "Index: []\n",
      "\n",
      "\n",
      "--------------------\n",
      "\n",
      "\n"
     ]
    },
    {
     "name": "stderr",
     "output_type": "stream",
     "text": [
      "\n"
     ]
    }
   ],
   "source": [
    "# Iterate over each unique secondary subject and calculate the EP Country vs Nationality Index for each secondary subject\n",
    "for secondary_subject in secondary_subject_bills['secondary_subject'].unique():\n",
    "    print(f\"Secondary subject: {secondary_subject}\")\n",
    "    subject_bills = secondary_subject_bills[secondary_subject_bills['secondary_subject'] == secondary_subject]\n",
    "    results = compute_ep_group_vs_nationality_index(subject_bills)\n",
    "    print(results)\n",
    "    print('\\n')\n",
    "    print(\"--------------------\")\n",
    "    print('\\n')"
   ]
  },
  {
   "cell_type": "markdown",
   "id": "5042ad6e-ee38-4351-8b81-3f7b2ec96060",
   "metadata": {},
   "source": [
    "### 2.11. Tertiary Subjects\n",
    "<a id=\"Tertiary-Subjects\"></a>"
   ]
  },
  {
   "cell_type": "code",
   "execution_count": 39,
   "id": "cd99e432-d4c5-45ae-963b-72034d737303",
   "metadata": {},
   "outputs": [
    {
     "name": "stdout",
     "output_type": "stream",
     "text": [
      "Tertiary subject: 3.20.15\n"
     ]
    },
    {
     "name": "stderr",
     "output_type": "stream",
     "text": [
      "Processing bills: 100%|██████████| 26/26 [00:23<00:00,  1.12it/s]\n"
     ]
    },
    {
     "name": "stdout",
     "output_type": "stream",
     "text": [
      "   Country  EP Group vs Nationality Index\n",
      "0      LUX                       0.253846\n",
      "1      SVN                       0.176154\n",
      "2      BGR                       0.159548\n",
      "3      LTU                       0.143287\n",
      "4      IRL                       0.140134\n",
      "5      HUN                       0.111319\n",
      "6      SWE                       0.109853\n",
      "7      LVA                       0.103846\n",
      "8      EST                       0.103114\n",
      "9      AUT                       0.088785\n",
      "10     ROU                       0.087547\n",
      "11     SVK                       0.080676\n",
      "12     ESP                       0.078855\n",
      "13     DEU                       0.065032\n",
      "\n",
      "\n",
      "--------------------\n",
      "\n",
      "\n",
      "Tertiary subject: 6.40.05\n"
     ]
    },
    {
     "name": "stderr",
     "output_type": "stream",
     "text": [
      "Processing bills: 100%|██████████| 10/10 [00:08<00:00,  1.13it/s]\n"
     ]
    },
    {
     "name": "stdout",
     "output_type": "stream",
     "text": [
      "   Country  EP Group vs Nationality Index\n",
      "0      LUX                       0.452000\n",
      "1      SVN                       0.297000\n",
      "2      LTU                       0.255091\n",
      "3      ROU                       0.222598\n",
      "4      CYP                       0.195333\n",
      "5      AUT                       0.194632\n",
      "6      BGR                       0.183529\n",
      "7      PRT                       0.159524\n",
      "8      EST                       0.129810\n",
      "9      SWE                       0.117429\n",
      "10     ESP                       0.102024\n",
      "\n",
      "\n",
      "--------------------\n",
      "\n",
      "\n",
      "Tertiary subject: 2.10.02\n"
     ]
    },
    {
     "name": "stderr",
     "output_type": "stream",
     "text": [
      "Processing bills: 100%|██████████| 3/3 [00:02<00:00,  1.12it/s]\n"
     ]
    },
    {
     "name": "stdout",
     "output_type": "stream",
     "text": [
      "  Country  EP Group vs Nationality Index\n",
      "0     EST                       0.284762\n",
      "1     LUX                       0.228889\n",
      "2     BEL                       0.044127\n",
      "\n",
      "\n",
      "--------------------\n",
      "\n",
      "\n",
      "Tertiary subject: 6.20.01\n"
     ]
    },
    {
     "name": "stderr",
     "output_type": "stream",
     "text": [
      "Processing bills: 100%|██████████| 18/18 [00:16<00:00,  1.07it/s]\n"
     ]
    },
    {
     "name": "stdout",
     "output_type": "stream",
     "text": [
      "   Country  EP Group vs Nationality Index\n",
      "0      SVN                       0.229444\n",
      "1      ROU                       0.189642\n",
      "2      SVK                       0.182845\n",
      "3      LVA                       0.175556\n",
      "4      EST                       0.175026\n",
      "5      MLT                       0.160370\n",
      "6      LUX                       0.150000\n",
      "7      HUN                       0.139365\n",
      "8      BGR                       0.112026\n",
      "9      LTU                       0.099394\n",
      "10     AUT                       0.093632\n",
      "11     ESP                       0.066199\n",
      "\n",
      "\n",
      "--------------------\n",
      "\n",
      "\n",
      "Tertiary subject: 6.20.02\n"
     ]
    },
    {
     "name": "stderr",
     "output_type": "stream",
     "text": [
      "Processing bills: 100%|██████████| 23/23 [00:21<00:00,  1.09it/s]\n"
     ]
    },
    {
     "name": "stdout",
     "output_type": "stream",
     "text": [
      "   Country  EP Group vs Nationality Index\n",
      "0      SVN                       0.255217\n",
      "1      LUX                       0.250145\n",
      "2      DNK                       0.244099\n",
      "3      EST                       0.188944\n",
      "4      IRL                       0.163233\n",
      "5      BEL                       0.107909\n",
      "6      FIN                       0.107702\n",
      "7      SWE                       0.092464\n",
      "8      SVK                       0.082609\n",
      "9      ESP                       0.078978\n",
      "10     PRT                       0.072257\n",
      "\n",
      "\n",
      "--------------------\n",
      "\n",
      "\n",
      "Tertiary subject: 6.20.03\n"
     ]
    },
    {
     "name": "stderr",
     "output_type": "stream",
     "text": [
      "Processing bills: 100%|██████████| 59/59 [00:52<00:00,  1.13it/s]\n"
     ]
    },
    {
     "name": "stdout",
     "output_type": "stream",
     "text": [
      "   Country  EP Group vs Nationality Index\n",
      "0      SVN                       0.437119\n",
      "1      LUX                       0.342712\n",
      "2      EST                       0.290573\n",
      "3      POL                       0.208110\n",
      "4      LTU                       0.181202\n",
      "5      DNK                       0.176595\n",
      "6      BGR                       0.170409\n",
      "7      SWE                       0.169443\n",
      "8      ROU                       0.164810\n",
      "9      SVK                       0.162060\n",
      "10     LVA                       0.123051\n",
      "11     HRV                       0.110159\n",
      "12     MLT                       0.106328\n",
      "13     PRT                       0.101453\n",
      "14     AUT                       0.098581\n",
      "15     ESP                       0.094593\n",
      "16     CZE                       0.091057\n",
      "17     HUN                       0.067458\n",
      "\n",
      "\n",
      "--------------------\n",
      "\n",
      "\n",
      "Tertiary subject: 6.20.04\n"
     ]
    },
    {
     "name": "stderr",
     "output_type": "stream",
     "text": [
      "Processing bills: 100%|██████████| 22/22 [00:19<00:00,  1.13it/s]\n"
     ]
    },
    {
     "name": "stdout",
     "output_type": "stream",
     "text": [
      "  Country  EP Group vs Nationality Index\n",
      "0     SVN                       0.238182\n",
      "1     EST                       0.185584\n",
      "2     AUT                       0.167608\n",
      "3     LUX                       0.114242\n",
      "4     POL                       0.110699\n",
      "5     SVK                       0.106753\n",
      "6     DNK                       0.094026\n",
      "7     LTU                       0.073223\n",
      "8     NLD                       0.072539\n",
      "9     DEU                       0.054547\n",
      "\n",
      "\n",
      "--------------------\n",
      "\n",
      "\n",
      "Tertiary subject: 6.30.01\n"
     ]
    },
    {
     "name": "stderr",
     "output_type": "stream",
     "text": [
      "Processing bills: 100%|██████████| 5/5 [00:04<00:00,  1.11it/s]\n"
     ]
    },
    {
     "name": "stdout",
     "output_type": "stream",
     "text": [
      "  Country  EP Group vs Nationality Index\n",
      "0     SVN                       0.244000\n",
      "1     DNK                       0.205714\n",
      "2     FIN                       0.204088\n",
      "3     ROU                       0.121652\n",
      "\n",
      "\n",
      "--------------------\n",
      "\n",
      "\n",
      "Tertiary subject: 6.40.01\n"
     ]
    },
    {
     "name": "stderr",
     "output_type": "stream",
     "text": [
      "Processing bills: 100%|██████████| 7/7 [00:05<00:00,  1.18it/s]\n"
     ]
    },
    {
     "name": "stdout",
     "output_type": "stream",
     "text": [
      "  Country  EP Group vs Nationality Index\n",
      "0     SVN                       0.278571\n",
      "1     EST                       0.233061\n",
      "2     SWE                       0.192925\n",
      "3     ESP                       0.173947\n",
      "4     POL                       0.167253\n",
      "5     BGR                       0.148571\n",
      "6     HUN                       0.135782\n",
      "7     LUX                       0.134286\n",
      "\n",
      "\n",
      "--------------------\n",
      "\n",
      "\n",
      "Tertiary subject: 7.10.06\n"
     ]
    },
    {
     "name": "stderr",
     "output_type": "stream",
     "text": [
      "Processing bills: 100%|██████████| 30/30 [00:26<00:00,  1.15it/s]\n"
     ]
    },
    {
     "name": "stdout",
     "output_type": "stream",
     "text": [
      "   Country  EP Group vs Nationality Index\n",
      "0      LUX                       0.342667\n",
      "1      EST                       0.292857\n",
      "2      POL                       0.264412\n",
      "3      MLT                       0.258889\n",
      "4      SVN                       0.248000\n",
      "5      HUN                       0.226635\n",
      "6      PRT                       0.210444\n",
      "7      DNK                       0.210315\n",
      "8      LTU                       0.181636\n",
      "9      BGR                       0.181608\n",
      "10     ESP                       0.176967\n",
      "11     CZE                       0.163365\n",
      "12     SWE                       0.159556\n",
      "13     AUT                       0.148869\n",
      "14     ROU                       0.132500\n",
      "15     SVK                       0.123267\n",
      "16     CYP                       0.108667\n",
      "17     HRV                       0.093778\n",
      "18     LVA                       0.092667\n",
      "19     NLD                       0.090821\n",
      "\n",
      "\n",
      "--------------------\n",
      "\n",
      "\n",
      "Tertiary subject: 8.40.08\n"
     ]
    },
    {
     "name": "stderr",
     "output_type": "stream",
     "text": [
      "Processing bills: 100%|██████████| 21/21 [00:17<00:00,  1.18it/s]\n"
     ]
    },
    {
     "name": "stdout",
     "output_type": "stream",
     "text": [
      "   Country  EP Group vs Nationality Index\n",
      "0      SVN                       0.340476\n",
      "1      LUX                       0.231111\n",
      "2      EST                       0.164490\n",
      "3      DNK                       0.163537\n",
      "4      MLT                       0.162540\n",
      "5      ESP                       0.152474\n",
      "6      PRT                       0.146576\n",
      "7      IRL                       0.144493\n",
      "8      LVA                       0.130000\n",
      "9      BGR                       0.103137\n",
      "10     LTU                       0.095411\n",
      "11     DEU                       0.069881\n",
      "\n",
      "\n",
      "--------------------\n",
      "\n",
      "\n",
      "Tertiary subject: 6.40.08\n"
     ]
    },
    {
     "name": "stderr",
     "output_type": "stream",
     "text": [
      "Processing bills: 100%|██████████| 17/17 [00:14<00:00,  1.17it/s]\n"
     ]
    },
    {
     "name": "stdout",
     "output_type": "stream",
     "text": [
      "   Country  EP Group vs Nationality Index\n",
      "0      SVN                       0.395294\n",
      "1      BGR                       0.235640\n",
      "2      EST                       0.232101\n",
      "3      LUX                       0.200784\n",
      "4      POL                       0.172776\n",
      "5      LTU                       0.159893\n",
      "6      ROU                       0.151586\n",
      "7      SWE                       0.149916\n",
      "8      FIN                       0.103866\n",
      "9      ESP                       0.096903\n",
      "10     SVK                       0.094454\n",
      "11     CZE                       0.072381\n",
      "\n",
      "\n",
      "--------------------\n",
      "\n",
      "\n",
      "Tertiary subject: 4.10.09\n"
     ]
    },
    {
     "name": "stderr",
     "output_type": "stream",
     "text": [
      "Processing bills: 100%|██████████| 33/33 [00:28<00:00,  1.16it/s]\n"
     ]
    },
    {
     "name": "stdout",
     "output_type": "stream",
     "text": [
      "   Country  EP Group vs Nationality Index\n",
      "0      LUX                       0.478182\n",
      "1      CYP                       0.442626\n",
      "2      IRL                       0.429557\n",
      "3      PRT                       0.322857\n",
      "4      DNK                       0.234992\n",
      "5      SWE                       0.225195\n",
      "6      SVN                       0.195455\n",
      "7      MLT                       0.187879\n",
      "8      FIN                       0.184009\n",
      "9      ESP                       0.182685\n",
      "10     EST                       0.173795\n",
      "11     LVA                       0.115455\n",
      "12     AUT                       0.109229\n",
      "13     ROU                       0.107068\n",
      "14     DEU                       0.092620\n",
      "15     FRA                       0.092528\n",
      "16     BEL                       0.082136\n",
      "17     NLD                       0.055827\n",
      "\n",
      "\n",
      "--------------------\n",
      "\n",
      "\n",
      "Tertiary subject: 7.30.30\n"
     ]
    },
    {
     "name": "stderr",
     "output_type": "stream",
     "text": [
      "Processing bills: 100%|██████████| 51/51 [00:43<00:00,  1.17it/s]\n"
     ]
    },
    {
     "name": "stdout",
     "output_type": "stream",
     "text": [
      "   Country  EP Group vs Nationality Index\n",
      "0      LUX                       0.343399\n",
      "1      SVN                       0.239412\n",
      "2      SWE                       0.189561\n",
      "3      DNK                       0.174467\n",
      "4      CYP                       0.168497\n",
      "5      PRT                       0.153763\n",
      "6      ESP                       0.149018\n",
      "7      IRL                       0.130715\n",
      "8      EST                       0.123810\n",
      "9      LTU                       0.109840\n",
      "10     AUT                       0.102899\n",
      "11     LVA                       0.091765\n",
      "12     ROU                       0.078630\n",
      "13     BGR                       0.068997\n",
      "14     CZE                       0.067544\n",
      "15     FIN                       0.064749\n",
      "16     BEL                       0.052269\n",
      "\n",
      "\n",
      "--------------------\n",
      "\n",
      "\n",
      "Tertiary subject: 7.10.08\n"
     ]
    },
    {
     "name": "stderr",
     "output_type": "stream",
     "text": [
      "Processing bills: 100%|██████████| 16/16 [00:14<00:00,  1.13it/s]\n"
     ]
    },
    {
     "name": "stdout",
     "output_type": "stream",
     "text": [
      "   Country  EP Group vs Nationality Index\n",
      "0      LUX                       0.437917\n",
      "1      IRL                       0.348462\n",
      "2      ESP                       0.307564\n",
      "3      EST                       0.263036\n",
      "4      PRT                       0.236190\n",
      "5      MLT                       0.231667\n",
      "6      SVN                       0.180625\n",
      "7      FIN                       0.178214\n",
      "8      POL                       0.177885\n",
      "9      BGR                       0.174044\n",
      "10     AUT                       0.169013\n",
      "11     ROU                       0.153333\n",
      "12     SWE                       0.152500\n",
      "13     CYP                       0.146250\n",
      "14     NLD                       0.132069\n",
      "15     DEU                       0.123980\n",
      "16     LTU                       0.083523\n",
      "\n",
      "\n",
      "--------------------\n",
      "\n",
      "\n",
      "Tertiary subject: 7.40.04\n"
     ]
    },
    {
     "name": "stderr",
     "output_type": "stream",
     "text": [
      "Processing bills: 100%|██████████| 24/24 [00:21<00:00,  1.14it/s]\n"
     ]
    },
    {
     "name": "stdout",
     "output_type": "stream",
     "text": [
      "   Country  EP Group vs Nationality Index\n",
      "0      SVN                       0.285833\n",
      "1      LUX                       0.228056\n",
      "2      EST                       0.214286\n",
      "3      POL                       0.168379\n",
      "4      SWE                       0.167024\n",
      "5      DNK                       0.165751\n",
      "6      SVK                       0.149185\n",
      "7      PRT                       0.125198\n",
      "8      BGR                       0.121324\n",
      "9      ESP                       0.116942\n",
      "10     CZE                       0.104484\n",
      "11     LTU                       0.093712\n",
      "12     FIN                       0.081685\n",
      "\n",
      "\n",
      "--------------------\n",
      "\n",
      "\n",
      "Tertiary subject: 4.15.04\n"
     ]
    },
    {
     "name": "stderr",
     "output_type": "stream",
     "text": [
      "Processing bills: 100%|██████████| 12/12 [00:10<00:00,  1.13it/s]\n"
     ]
    },
    {
     "name": "stdout",
     "output_type": "stream",
     "text": [
      "   Country  EP Group vs Nationality Index\n",
      "0      LUX                       0.570556\n",
      "1      SVN                       0.469167\n",
      "2      IRL                       0.421795\n",
      "3      MLT                       0.418889\n",
      "4      PRT                       0.345238\n",
      "5      ROU                       0.322323\n",
      "6      ESP                       0.292412\n",
      "7      LTU                       0.285000\n",
      "8      LVA                       0.219167\n",
      "9      HUN                       0.203254\n",
      "10     BGR                       0.187647\n",
      "11     EST                       0.187381\n",
      "12     FIN                       0.136905\n",
      "13     GRC                       0.133016\n",
      "14     AUT                       0.129211\n",
      "15     BEL                       0.126746\n",
      "16     DEU                       0.114306\n",
      "\n",
      "\n",
      "--------------------\n",
      "\n",
      "\n",
      "Tertiary subject: 7.10.04\n"
     ]
    },
    {
     "name": "stderr",
     "output_type": "stream",
     "text": [
      "Processing bills: 100%|██████████| 39/39 [00:33<00:00,  1.16it/s]\n"
     ]
    },
    {
     "name": "stdout",
     "output_type": "stream",
     "text": [
      "   Country  EP Group vs Nationality Index\n",
      "0      SVN                       0.304359\n",
      "1      EST                       0.300952\n",
      "2      POL                       0.257806\n",
      "3      LUX                       0.212821\n",
      "4      BGR                       0.189955\n",
      "5      SVK                       0.179560\n",
      "6      MLT                       0.163590\n",
      "7      HUN                       0.134017\n",
      "8      ROU                       0.133908\n",
      "9      LVA                       0.121538\n",
      "10     LTU                       0.116970\n",
      "11     HRV                       0.114017\n",
      "12     PRT                       0.107912\n",
      "13     SWE                       0.100488\n",
      "14     ESP                       0.093635\n",
      "15     ITA                       0.090886\n",
      "16     AUT                       0.070850\n",
      "17     CZE                       0.067204\n",
      "\n",
      "\n",
      "--------------------\n",
      "\n",
      "\n",
      "Tertiary subject: 6.10.03\n"
     ]
    },
    {
     "name": "stderr",
     "output_type": "stream",
     "text": [
      "Processing bills: 100%|██████████| 4/4 [00:03<00:00,  1.18it/s]\n"
     ]
    },
    {
     "name": "stdout",
     "output_type": "stream",
     "text": [
      "  Country  EP Group vs Nationality Index\n",
      "0     MLT                       0.505000\n",
      "1     POL                       0.343846\n",
      "2     HUN                       0.285714\n",
      "3     ITA                       0.203684\n",
      "4     LVA                       0.172500\n",
      "5     LUX                       0.155000\n",
      "\n",
      "\n",
      "--------------------\n",
      "\n",
      "\n",
      "Tertiary subject: 6.20.05\n"
     ]
    },
    {
     "name": "stderr",
     "output_type": "stream",
     "text": [
      "Processing bills: 100%|██████████| 11/11 [00:09<00:00,  1.12it/s]\n"
     ]
    },
    {
     "name": "stdout",
     "output_type": "stream",
     "text": [
      "   Country  EP Group vs Nationality Index\n",
      "0      SVN                       0.353636\n",
      "1      LVA                       0.255455\n",
      "2      SVK                       0.233027\n",
      "3      BGR                       0.219144\n",
      "4      EST                       0.217229\n",
      "5      LUX                       0.204242\n",
      "6      POL                       0.186091\n",
      "7      SWE                       0.176883\n",
      "8      DNK                       0.160120\n",
      "9      ESP                       0.157342\n",
      "10     ROU                       0.150406\n",
      "11     HUN                       0.136797\n",
      "12     LTU                       0.066612\n",
      "\n",
      "\n",
      "--------------------\n",
      "\n",
      "\n",
      "Tertiary subject: 8.40.10\n"
     ]
    },
    {
     "name": "stderr",
     "output_type": "stream",
     "text": [
      "Processing bills: 100%|██████████| 11/11 [00:09<00:00,  1.17it/s]\n"
     ]
    },
    {
     "name": "stdout",
     "output_type": "stream",
     "text": [
      "   Country  EP Group vs Nationality Index\n",
      "0      DNK                       0.374286\n",
      "1      CYP                       0.330909\n",
      "2      IRL                       0.279860\n",
      "3      EST                       0.264935\n",
      "4      HUN                       0.256797\n",
      "5      LUX                       0.221818\n",
      "6      FIN                       0.201039\n",
      "7      SVN                       0.190909\n",
      "8      ESP                       0.178764\n",
      "9      BEL                       0.133247\n",
      "10     PRT                       0.129177\n",
      "11     LTU                       0.121983\n",
      "12     FRA                       0.118297\n",
      "\n",
      "\n",
      "--------------------\n",
      "\n",
      "\n",
      "Tertiary subject: 8.50.01\n"
     ]
    },
    {
     "name": "stderr",
     "output_type": "stream",
     "text": [
      "Processing bills: 100%|██████████| 11/11 [00:09<00:00,  1.18it/s]\n"
     ]
    },
    {
     "name": "stdout",
     "output_type": "stream",
     "text": [
      "   Country  EP Group vs Nationality Index\n",
      "0      LUX                       0.512121\n",
      "1      CYP                       0.341818\n",
      "2      SVN                       0.323636\n",
      "3      MLT                       0.246667\n",
      "4      IRL                       0.234965\n",
      "5      DNK                       0.207532\n",
      "6      ESP                       0.205167\n",
      "7      PRT                       0.196537\n",
      "8      ROU                       0.187879\n",
      "9      DEU                       0.168636\n",
      "10     LTU                       0.160496\n",
      "11     HRV                       0.141212\n",
      "12     NLD                       0.131348\n",
      "13     BGR                       0.124813\n",
      "\n",
      "\n",
      "--------------------\n",
      "\n",
      "\n",
      "Tertiary subject: 3.20.05\n"
     ]
    },
    {
     "name": "stderr",
     "output_type": "stream",
     "text": [
      "Processing bills: 100%|██████████| 24/24 [00:20<00:00,  1.19it/s]\n"
     ]
    },
    {
     "name": "stdout",
     "output_type": "stream",
     "text": [
      "   Country  EP Group vs Nationality Index\n",
      "0      IRL                       0.220962\n",
      "1      SVN                       0.218750\n",
      "2      LUX                       0.196389\n",
      "3      BGR                       0.193873\n",
      "4      SWE                       0.193571\n",
      "5      ROU                       0.192449\n",
      "6      EST                       0.160595\n",
      "7      POL                       0.148443\n",
      "8      ESP                       0.134003\n",
      "9      CZE                       0.133214\n",
      "10     BEL                       0.116071\n",
      "11     AUT                       0.112939\n",
      "12     NLD                       0.105086\n",
      "\n",
      "\n",
      "--------------------\n",
      "\n",
      "\n",
      "Tertiary subject: 3.70.02\n"
     ]
    },
    {
     "name": "stderr",
     "output_type": "stream",
     "text": [
      "Processing bills: 100%|██████████| 28/28 [00:23<00:00,  1.20it/s]\n"
     ]
    },
    {
     "name": "stdout",
     "output_type": "stream",
     "text": [
      "   Country  EP Group vs Nationality Index\n",
      "0      SVN                       0.386071\n",
      "1      LUX                       0.366905\n",
      "2      MLT                       0.332143\n",
      "3      IRL                       0.270110\n",
      "4      ESP                       0.234561\n",
      "5      PRT                       0.229116\n",
      "6      CYP                       0.224286\n",
      "7      DNK                       0.214490\n",
      "8      EST                       0.200408\n",
      "9      LTU                       0.193701\n",
      "10     ROU                       0.188333\n",
      "11     SWE                       0.184456\n",
      "12     BGR                       0.148739\n",
      "13     HRV                       0.140952\n",
      "14     HUN                       0.128741\n",
      "15     NLD                       0.116059\n",
      "16     FIN                       0.108469\n",
      "17     DEU                       0.107292\n",
      "18     AUT                       0.080865\n",
      "19     BEL                       0.049490\n",
      "\n",
      "\n",
      "--------------------\n",
      "\n",
      "\n",
      "Tertiary subject: 3.70.15\n"
     ]
    },
    {
     "name": "stderr",
     "output_type": "stream",
     "text": [
      "Processing bills: 100%|██████████| 2/2 [00:01<00:00,  1.10it/s]\n"
     ]
    },
    {
     "name": "stdout",
     "output_type": "stream",
     "text": [
      "  Country  EP Group vs Nationality Index\n",
      "0     ESP                       0.267119\n",
      "1     PRT                       0.186667\n",
      "2     IRL                       0.175385\n",
      "\n",
      "\n",
      "--------------------\n",
      "\n",
      "\n",
      "Tertiary subject: 3.20.06\n"
     ]
    },
    {
     "name": "stderr",
     "output_type": "stream",
     "text": [
      "Processing bills: 100%|██████████| 12/12 [00:09<00:00,  1.21it/s]\n"
     ]
    },
    {
     "name": "stdout",
     "output_type": "stream",
     "text": [
      "   Country  EP Group vs Nationality Index\n",
      "0      MLT                       0.280556\n",
      "1      IRL                       0.270897\n",
      "2      SVN                       0.267500\n",
      "3      POL                       0.267433\n",
      "4      BGR                       0.245882\n",
      "5      ESP                       0.239831\n",
      "6      AUT                       0.231053\n",
      "7      LUX                       0.227778\n",
      "8      EST                       0.227143\n",
      "9      LVA                       0.188333\n",
      "10     CYP                       0.181111\n",
      "11     SWE                       0.170794\n",
      "12     ROU                       0.167828\n",
      "13     ITA                       0.159825\n",
      "14     NLD                       0.157356\n",
      "15     DNK                       0.156667\n",
      "16     PRT                       0.156587\n",
      "17     BEL                       0.104841\n",
      "\n",
      "\n",
      "--------------------\n",
      "\n",
      "\n",
      "Tertiary subject: 3.20.10\n"
     ]
    },
    {
     "name": "stderr",
     "output_type": "stream",
     "text": [
      "Processing bills: 100%|██████████| 10/10 [00:08<00:00,  1.21it/s]\n"
     ]
    },
    {
     "name": "stdout",
     "output_type": "stream",
     "text": [
      "  Country  EP Group vs Nationality Index\n",
      "0     POL                       0.236154\n",
      "1     EST                       0.213714\n",
      "2     LUX                       0.204667\n",
      "3     ESP                       0.201308\n",
      "4     SVN                       0.201000\n",
      "5     ITA                       0.186842\n",
      "6     AUT                       0.182105\n",
      "7     IRL                       0.179538\n",
      "8     LVA                       0.171000\n",
      "9     BEL                       0.146095\n",
      "\n",
      "\n",
      "--------------------\n",
      "\n",
      "\n",
      "Tertiary subject: 4.15.03\n"
     ]
    },
    {
     "name": "stderr",
     "output_type": "stream",
     "text": [
      "Processing bills: 100%|██████████| 4/4 [00:03<00:00,  1.20it/s]\n"
     ]
    },
    {
     "name": "stdout",
     "output_type": "stream",
     "text": [
      "   Country  EP Group vs Nationality Index\n",
      "0      ITA                       0.441316\n",
      "1      CZE                       0.430952\n",
      "2      ESP                       0.417931\n",
      "3      LVA                       0.415000\n",
      "4      POL                       0.410000\n",
      "5      MLT                       0.401667\n",
      "6      EST                       0.392143\n",
      "7      ROU                       0.377879\n",
      "8      BGR                       0.368529\n",
      "9      FRA                       0.363481\n",
      "10     BEL                       0.337143\n",
      "11     SVK                       0.336429\n",
      "12     AUT                       0.256842\n",
      "\n",
      "\n",
      "--------------------\n",
      "\n",
      "\n",
      "Tertiary subject: 3.20.02\n"
     ]
    },
    {
     "name": "stderr",
     "output_type": "stream",
     "text": [
      "Processing bills: 100%|██████████| 11/11 [00:09<00:00,  1.20it/s]\n"
     ]
    },
    {
     "name": "stdout",
     "output_type": "stream",
     "text": [
      "  Country  EP Group vs Nationality Index\n",
      "0     SVN                       0.269091\n",
      "1     POL                       0.201259\n",
      "2     ROU                       0.192562\n",
      "3     LUX                       0.190909\n",
      "4     BGR                       0.182246\n",
      "5     HRV                       0.158788\n",
      "6     CZE                       0.086147\n",
      "7     ESP                       0.074341\n",
      "\n",
      "\n",
      "--------------------\n",
      "\n",
      "\n",
      "Tertiary subject: 8.30.10\n"
     ]
    },
    {
     "name": "stderr",
     "output_type": "stream",
     "text": [
      "Processing bills: 100%|██████████| 34/34 [00:28<00:00,  1.17it/s]\n"
     ]
    },
    {
     "name": "stdout",
     "output_type": "stream",
     "text": [
      "   Country  EP Group vs Nationality Index\n",
      "0      LUX                       0.494902\n",
      "1      IRL                       0.425668\n",
      "2      DNK                       0.350543\n",
      "3      PRT                       0.328711\n",
      "4      CYP                       0.293529\n",
      "5      SWE                       0.272493\n",
      "6      ESP                       0.272200\n",
      "7      MLT                       0.267843\n",
      "8      FIN                       0.217977\n",
      "9      DEU                       0.181156\n",
      "10     EST                       0.164650\n",
      "11     AUT                       0.161735\n",
      "12     ROU                       0.147852\n",
      "13     BGR                       0.135952\n",
      "14     NLD                       0.108727\n",
      "15     GRC                       0.105070\n",
      "16     LTU                       0.094920\n",
      "17     LVA                       0.085882\n",
      "\n",
      "\n",
      "--------------------\n",
      "\n",
      "\n",
      "Tertiary subject: 2.70.02\n"
     ]
    },
    {
     "name": "stderr",
     "output_type": "stream",
     "text": [
      "Processing bills: 100%|██████████| 27/27 [00:23<00:00,  1.17it/s]\n"
     ]
    },
    {
     "name": "stdout",
     "output_type": "stream",
     "text": [
      "   Country  EP Group vs Nationality Index\n",
      "0      SVN                       0.292963\n",
      "1      LUX                       0.214074\n",
      "2      LTU                       0.187744\n",
      "3      ROU                       0.139834\n",
      "4      BGR                       0.135599\n",
      "5      ESP                       0.121093\n",
      "6      LVA                       0.116296\n",
      "7      IRL                       0.110272\n",
      "8      MLT                       0.100988\n",
      "9      PRT                       0.097601\n",
      "10     EST                       0.088078\n",
      "11     DNK                       0.078055\n",
      "\n",
      "\n",
      "--------------------\n",
      "\n",
      "\n",
      "Tertiary subject: 3.45.02\n"
     ]
    },
    {
     "name": "stderr",
     "output_type": "stream",
     "text": [
      "Processing bills: 100%|██████████| 10/10 [00:08<00:00,  1.12it/s]\n"
     ]
    },
    {
     "name": "stdout",
     "output_type": "stream",
     "text": [
      "  Country  EP Group vs Nationality Index\n",
      "0     MLT                       0.294667\n",
      "1     LUX                       0.282000\n",
      "2     SVN                       0.282000\n",
      "3     ESP                       0.269827\n",
      "4     PRT                       0.255238\n",
      "5     EST                       0.210381\n",
      "6     DNK                       0.193473\n",
      "7     POL                       0.172009\n",
      "8     AUT                       0.159709\n",
      "9     LTU                       0.147818\n",
      "\n",
      "\n",
      "--------------------\n",
      "\n",
      "\n",
      "Tertiary subject: 2.50.04\n"
     ]
    },
    {
     "name": "stderr",
     "output_type": "stream",
     "text": [
      "Processing bills: 100%|██████████| 28/28 [00:24<00:00,  1.16it/s]\n"
     ]
    },
    {
     "name": "stdout",
     "output_type": "stream",
     "text": [
      "   Country  EP Group vs Nationality Index\n",
      "0      SVN                       0.507143\n",
      "1      LUX                       0.299762\n",
      "2      EST                       0.207143\n",
      "3      HUN                       0.204082\n",
      "4      POL                       0.192023\n",
      "5      DNK                       0.181429\n",
      "6      MLT                       0.177857\n",
      "7      ROU                       0.175584\n",
      "8      BGR                       0.175252\n",
      "9      LTU                       0.166623\n",
      "10     ESP                       0.162650\n",
      "11     LVA                       0.149643\n",
      "12     SWE                       0.113061\n",
      "13     NLD                       0.094064\n",
      "14     CZE                       0.089864\n",
      "15     HRV                       0.085952\n",
      "16     SVK                       0.083265\n",
      "\n",
      "\n",
      "--------------------\n",
      "\n",
      "\n",
      "Tertiary subject: 2.50.08\n"
     ]
    },
    {
     "name": "stderr",
     "output_type": "stream",
     "text": [
      "Processing bills: 100%|██████████| 34/34 [00:29<00:00,  1.17it/s]\n"
     ]
    },
    {
     "name": "stdout",
     "output_type": "stream",
     "text": [
      "   Country  EP Group vs Nationality Index\n",
      "0      SVN                       0.452059\n",
      "1      LUX                       0.268235\n",
      "2      EST                       0.250588\n",
      "3      HUN                       0.246443\n",
      "4      BGR                       0.239827\n",
      "5      MLT                       0.226667\n",
      "6      ROU                       0.204884\n",
      "7      POL                       0.196892\n",
      "8      DNK                       0.127647\n",
      "9      LTU                       0.120642\n",
      "10     NLD                       0.116978\n",
      "11     ESP                       0.114948\n",
      "12     SVK                       0.108908\n",
      "13     LVA                       0.099412\n",
      "\n",
      "\n",
      "--------------------\n",
      "\n",
      "\n",
      "Tertiary subject: 2.50.10\n"
     ]
    },
    {
     "name": "stderr",
     "output_type": "stream",
     "text": [
      "Processing bills: 100%|██████████| 32/32 [00:26<00:00,  1.19it/s]\n"
     ]
    },
    {
     "name": "stdout",
     "output_type": "stream",
     "text": [
      "   Country  EP Group vs Nationality Index\n",
      "0      SVN                       0.374063\n",
      "1      LUX                       0.344375\n",
      "2      POL                       0.283357\n",
      "3      BGR                       0.240074\n",
      "4      EST                       0.203482\n",
      "5      HUN                       0.188036\n",
      "6      MLT                       0.172708\n",
      "7      ROU                       0.170436\n",
      "8      SVK                       0.157321\n",
      "9      LTU                       0.150227\n",
      "10     DNK                       0.132946\n",
      "11     NLD                       0.132866\n",
      "12     ESP                       0.106417\n",
      "13     ITA                       0.095636\n",
      "14     HRV                       0.071875\n",
      "\n",
      "\n",
      "--------------------\n",
      "\n",
      "\n",
      "Tertiary subject: 3.30.25\n"
     ]
    },
    {
     "name": "stderr",
     "output_type": "stream",
     "text": [
      "Processing bills: 100%|██████████| 28/28 [00:23<00:00,  1.19it/s]\n"
     ]
    },
    {
     "name": "stdout",
     "output_type": "stream",
     "text": [
      "   Country  EP Group vs Nationality Index\n",
      "0      SVN                       0.373929\n",
      "1      LUX                       0.263810\n",
      "2      EST                       0.262211\n",
      "3      MLT                       0.165238\n",
      "4      BGR                       0.157857\n",
      "5      POL                       0.153785\n",
      "6      LTU                       0.145000\n",
      "7      ROU                       0.141364\n",
      "8      SWE                       0.111871\n",
      "9      HRV                       0.104221\n",
      "10     ESP                       0.092074\n",
      "11     DNK                       0.090251\n",
      "12     PRT                       0.083061\n",
      "13     AUT                       0.081479\n",
      "\n",
      "\n",
      "--------------------\n",
      "\n",
      "\n",
      "Tertiary subject: 8.70.01\n"
     ]
    },
    {
     "name": "stderr",
     "output_type": "stream",
     "text": [
      "Processing bills: 100%|██████████| 22/22 [00:18<00:00,  1.20it/s]\n"
     ]
    },
    {
     "name": "stdout",
     "output_type": "stream",
     "text": [
      "   Country  EP Group vs Nationality Index\n",
      "0      SVN                       0.438636\n",
      "1      ROU                       0.379229\n",
      "2      MLT                       0.364242\n",
      "3      LUX                       0.334848\n",
      "4      LTU                       0.277355\n",
      "5      ESP                       0.270719\n",
      "6      BGR                       0.251444\n",
      "7      LVA                       0.186364\n",
      "8      IRL                       0.173013\n",
      "9      HUN                       0.140130\n",
      "10     EST                       0.137013\n",
      "11     PRT                       0.122165\n",
      "12     HRV                       0.101956\n",
      "13     FIN                       0.099021\n",
      "14     DEU                       0.091998\n",
      "15     AUT                       0.086534\n",
      "\n",
      "\n",
      "--------------------\n",
      "\n",
      "\n",
      "Tertiary subject: 8.70.02\n"
     ]
    },
    {
     "name": "stderr",
     "output_type": "stream",
     "text": [
      "Processing bills: 100%|██████████| 10/10 [00:08<00:00,  1.18it/s]\n"
     ]
    },
    {
     "name": "stdout",
     "output_type": "stream",
     "text": [
      "   Country  EP Group vs Nationality Index\n",
      "0      LUX                       0.417333\n",
      "1      SVN                       0.352000\n",
      "2      LTU                       0.321273\n",
      "3      MLT                       0.310667\n",
      "4      IRL                       0.262000\n",
      "5      EST                       0.248000\n",
      "6      ROU                       0.244121\n",
      "7      ESP                       0.171932\n",
      "8      HUN                       0.168857\n",
      "9      LVA                       0.168000\n",
      "10     BGR                       0.167412\n",
      "11     DNK                       0.152000\n",
      "\n",
      "\n",
      "--------------------\n",
      "\n",
      "\n",
      "Tertiary subject: 4.60.08\n"
     ]
    },
    {
     "name": "stderr",
     "output_type": "stream",
     "text": [
      "Processing bills: 100%|██████████| 17/17 [00:14<00:00,  1.20it/s]\n"
     ]
    },
    {
     "name": "stdout",
     "output_type": "stream",
     "text": [
      "   Country  EP Group vs Nationality Index\n",
      "0      CYP                       0.274118\n",
      "1      SVN                       0.261765\n",
      "2      IRL                       0.258100\n",
      "3      LUX                       0.178824\n",
      "4      EST                       0.146555\n",
      "5      LVA                       0.128235\n",
      "6      PRT                       0.112941\n",
      "7      SVK                       0.105378\n",
      "8      DNK                       0.101345\n",
      "9      LTU                       0.096471\n",
      "10     ESP                       0.085312\n",
      "\n",
      "\n",
      "--------------------\n",
      "\n",
      "\n",
      "Tertiary subject: 3.30.01\n"
     ]
    },
    {
     "name": "stderr",
     "output_type": "stream",
     "text": [
      "Processing bills: 100%|██████████| 9/9 [00:07<00:00,  1.21it/s]\n"
     ]
    },
    {
     "name": "stdout",
     "output_type": "stream",
     "text": [
      "   Country  EP Group vs Nationality Index\n",
      "0      IRL                       0.392991\n",
      "1      LUX                       0.334074\n",
      "2      SVN                       0.307778\n",
      "3      LTU                       0.295758\n",
      "4      ROU                       0.259596\n",
      "5      PRT                       0.256085\n",
      "6      CYP                       0.255556\n",
      "7      EST                       0.211429\n",
      "8      ESP                       0.190919\n",
      "9      FIN                       0.146667\n",
      "10     SVK                       0.138413\n",
      "\n",
      "\n",
      "--------------------\n",
      "\n",
      "\n",
      "Tertiary subject: 4.45.02\n"
     ]
    },
    {
     "name": "stderr",
     "output_type": "stream",
     "text": [
      "Processing bills: 100%|██████████| 8/8 [00:06<00:00,  1.20it/s]\n"
     ]
    },
    {
     "name": "stdout",
     "output_type": "stream",
     "text": [
      "   Country  EP Group vs Nationality Index\n",
      "0      IRL                       0.431538\n",
      "1      SVN                       0.410000\n",
      "2      LUX                       0.311667\n",
      "3      PRT                       0.282143\n",
      "4      LTU                       0.270682\n",
      "5      CYP                       0.255833\n",
      "6      ESP                       0.241737\n",
      "7      MLT                       0.227500\n",
      "8      ROU                       0.195076\n",
      "9      HRV                       0.134167\n",
      "10     DEU                       0.123542\n",
      "11     EST                       0.116071\n",
      "\n",
      "\n",
      "--------------------\n",
      "\n",
      "\n",
      "Tertiary subject: 3.15.01\n"
     ]
    },
    {
     "name": "stderr",
     "output_type": "stream",
     "text": [
      "Processing bills: 100%|██████████| 27/27 [00:22<00:00,  1.18it/s]\n"
     ]
    },
    {
     "name": "stdout",
     "output_type": "stream",
     "text": [
      "   Country  EP Group vs Nationality Index\n",
      "0      SVN                       0.232222\n",
      "1      LUX                       0.186420\n",
      "2      CZE                       0.154815\n",
      "3      LVA                       0.145185\n",
      "4      PRT                       0.132381\n",
      "5      POL                       0.124982\n",
      "6      EST                       0.115661\n",
      "7      CYP                       0.111605\n",
      "8      ESP                       0.106290\n",
      "9      ROU                       0.103232\n",
      "10     DNK                       0.091111\n",
      "11     NLD                       0.066973\n",
      "\n",
      "\n",
      "--------------------\n",
      "\n",
      "\n",
      "Tertiary subject: 3.15.04\n"
     ]
    },
    {
     "name": "stderr",
     "output_type": "stream",
     "text": [
      "Processing bills: 100%|██████████| 20/20 [00:16<00:00,  1.18it/s]\n"
     ]
    },
    {
     "name": "stdout",
     "output_type": "stream",
     "text": [
      "   Country  EP Group vs Nationality Index\n",
      "0      LUX                       0.235000\n",
      "1      SVN                       0.205000\n",
      "2      ROU                       0.164697\n",
      "3      CZE                       0.163143\n",
      "4      LVA                       0.147000\n",
      "5      CYP                       0.138667\n",
      "6      EST                       0.125524\n",
      "7      DNK                       0.112593\n",
      "8      HRV                       0.112485\n",
      "9      POL                       0.108161\n",
      "10     LTU                       0.105000\n",
      "11     PRT                       0.103048\n",
      "12     SWE                       0.100048\n",
      "13     IRL                       0.091935\n",
      "14     ESP                       0.086584\n",
      "15     NLD                       0.070515\n",
      "\n",
      "\n",
      "--------------------\n",
      "\n",
      "\n",
      "Tertiary subject: 3.15.06\n"
     ]
    },
    {
     "name": "stderr",
     "output_type": "stream",
     "text": [
      "Processing bills: 100%|██████████| 7/7 [00:05<00:00,  1.19it/s]\n"
     ]
    },
    {
     "name": "stdout",
     "output_type": "stream",
     "text": [
      "  Country  EP Group vs Nationality Index\n",
      "0     SVN                       0.475714\n",
      "1     LUX                       0.303810\n",
      "2     EST                       0.261633\n",
      "3     ROU                       0.228571\n",
      "4     DNK                       0.228163\n",
      "5     HRV                       0.221905\n",
      "6     IRL                       0.159780\n",
      "7     LTU                       0.110390\n",
      "\n",
      "\n",
      "--------------------\n",
      "\n",
      "\n",
      "Tertiary subject: 3.15.07\n"
     ]
    },
    {
     "name": "stderr",
     "output_type": "stream",
     "text": [
      "Processing bills: 100%|██████████| 10/10 [00:08<00:00,  1.19it/s]\n"
     ]
    },
    {
     "name": "stdout",
     "output_type": "stream",
     "text": [
      "  Country  EP Group vs Nationality Index\n",
      "0     SVN                       0.278000\n",
      "1     LUX                       0.166667\n",
      "2     LVA                       0.144000\n",
      "3     PRT                       0.133333\n",
      "4     POL                       0.126669\n",
      "5     ESP                       0.123307\n",
      "6     CZE                       0.100286\n",
      "7     NLD                       0.082966\n",
      "8     BEL                       0.061238\n",
      "\n",
      "\n",
      "--------------------\n",
      "\n",
      "\n",
      "Tertiary subject: 3.15.17\n"
     ]
    },
    {
     "name": "stderr",
     "output_type": "stream",
     "text": [
      "Processing bills: 100%|██████████| 4/4 [00:03<00:00,  1.14it/s]\n"
     ]
    },
    {
     "name": "stdout",
     "output_type": "stream",
     "text": [
      "  Country  EP Group vs Nationality Index\n",
      "0     POL                       0.331154\n",
      "1     DNK                       0.147857\n",
      "\n",
      "\n",
      "--------------------\n",
      "\n",
      "\n",
      "Tertiary subject: 3.10.01\n"
     ]
    },
    {
     "name": "stderr",
     "output_type": "stream",
     "text": [
      "Processing bills: 100%|██████████| 8/8 [00:07<00:00,  1.14it/s]\n"
     ]
    },
    {
     "name": "stdout",
     "output_type": "stream",
     "text": [
      "  Country  EP Group vs Nationality Index\n",
      "0     SVN                       0.528750\n",
      "1     LTU                       0.422955\n",
      "2     CYP                       0.357500\n",
      "3     BGR                       0.292353\n",
      "4     POL                       0.264635\n",
      "5     BEL                       0.212024\n",
      "6     LVA                       0.197500\n",
      "7     LUX                       0.188333\n",
      "8     ROU                       0.173485\n",
      "9     PRT                       0.161310\n",
      "\n",
      "\n",
      "--------------------\n",
      "\n",
      "\n",
      "Tertiary subject: 3.10.13\n"
     ]
    },
    {
     "name": "stderr",
     "output_type": "stream",
     "text": [
      "Processing bills: 100%|██████████| 3/3 [00:02<00:00,  1.10it/s]\n"
     ]
    },
    {
     "name": "stdout",
     "output_type": "stream",
     "text": [
      "  Country  EP Group vs Nationality Index\n",
      "0     POL                       0.397949\n",
      "1     ROU                       0.263838\n",
      "2     SVN                       0.253333\n",
      "\n",
      "\n",
      "--------------------\n",
      "\n",
      "\n",
      "Tertiary subject: 3.10.12\n"
     ]
    },
    {
     "name": "stderr",
     "output_type": "stream",
     "text": [
      "Processing bills: 100%|██████████| 2/2 [00:01<00:00,  1.12it/s]\n"
     ]
    },
    {
     "name": "stdout",
     "output_type": "stream",
     "text": [
      "  Country  EP Group vs Nationality Index\n",
      "0     LUX                       0.216667\n",
      "1     DEU                       0.203750\n",
      "2     DNK                       0.157363\n",
      "3     NLD                       0.107215\n",
      "\n",
      "\n",
      "--------------------\n",
      "\n",
      "\n",
      "Tertiary subject: 3.10.03\n"
     ]
    },
    {
     "name": "stderr",
     "output_type": "stream",
     "text": [
      "Processing bills: 100%|██████████| 12/12 [00:11<00:00,  1.09it/s]\n"
     ]
    },
    {
     "name": "stdout",
     "output_type": "stream",
     "text": [
      "   Country  EP Group vs Nationality Index\n",
      "0      SVN                       0.332500\n",
      "1      MLT                       0.270000\n",
      "2      CYP                       0.267222\n",
      "3      PRT                       0.205952\n",
      "4      LVA                       0.204167\n",
      "5      ESP                       0.203178\n",
      "6      ROU                       0.190928\n",
      "7      EST                       0.189921\n",
      "8      LTU                       0.188030\n",
      "9      LUX                       0.176111\n",
      "10     BGR                       0.143039\n",
      "11     HRV                       0.140909\n",
      "\n",
      "\n",
      "--------------------\n",
      "\n",
      "\n",
      "Tertiary subject: 5.20.02\n"
     ]
    },
    {
     "name": "stderr",
     "output_type": "stream",
     "text": [
      "Processing bills: 100%|██████████| 9/9 [00:08<00:00,  1.11it/s]\n"
     ]
    },
    {
     "name": "stdout",
     "output_type": "stream",
     "text": [
      "  Country  EP Group vs Nationality Index\n",
      "0     LUX                       0.331111\n",
      "1     SVN                       0.252222\n",
      "2     LTU                       0.221010\n",
      "3     ESP                       0.189091\n",
      "4     AUT                       0.158168\n",
      "5     DEU                       0.104259\n",
      "\n",
      "\n",
      "--------------------\n",
      "\n",
      "\n",
      "Tertiary subject: 3.50.02\n"
     ]
    },
    {
     "name": "stderr",
     "output_type": "stream",
     "text": [
      "Processing bills: 100%|██████████| 7/7 [00:06<00:00,  1.12it/s]\n"
     ]
    },
    {
     "name": "stdout",
     "output_type": "stream",
     "text": [
      "  Country  EP Group vs Nationality Index\n",
      "0     SVN                       0.262857\n",
      "1     POL                       0.247253\n",
      "2     LUX                       0.198095\n",
      "3     LVA                       0.124286\n",
      "4     ITA                       0.111880\n",
      "5     DNK                       0.105306\n",
      "6     ESP                       0.060969\n",
      "\n",
      "\n",
      "--------------------\n",
      "\n",
      "\n",
      "Tertiary subject: 3.50.04\n"
     ]
    },
    {
     "name": "stderr",
     "output_type": "stream",
     "text": [
      "Processing bills: 100%|██████████| 19/19 [00:16<00:00,  1.13it/s]\n"
     ]
    },
    {
     "name": "stdout",
     "output_type": "stream",
     "text": [
      "  Country  EP Group vs Nationality Index\n",
      "0     SVN                       0.199474\n",
      "1     POL                       0.190898\n",
      "2     LUX                       0.181404\n",
      "3     EST                       0.169023\n",
      "4     LVA                       0.146316\n",
      "5     LTU                       0.132536\n",
      "6     ROU                       0.109506\n",
      "7     ESP                       0.075181\n",
      "\n",
      "\n",
      "--------------------\n",
      "\n",
      "\n",
      "Tertiary subject: 3.20.11\n"
     ]
    },
    {
     "name": "stderr",
     "output_type": "stream",
     "text": [
      "Processing bills: 100%|██████████| 5/5 [00:04<00:00,  1.08it/s]\n"
     ]
    },
    {
     "name": "stdout",
     "output_type": "stream",
     "text": [
      "  Country  EP Group vs Nationality Index\n",
      "0     SVN                       0.310000\n",
      "1     BGR                       0.264941\n",
      "2     EST                       0.257714\n",
      "3     HRV                       0.206667\n",
      "4     POL                       0.170154\n",
      "5     SVK                       0.168571\n",
      "6     CZE                       0.144571\n",
      "\n",
      "\n",
      "--------------------\n",
      "\n",
      "\n",
      "Tertiary subject: 3.30.20\n"
     ]
    },
    {
     "name": "stderr",
     "output_type": "stream",
     "text": [
      "Processing bills: 100%|██████████| 2/2 [00:01<00:00,  1.12it/s]\n"
     ]
    },
    {
     "name": "stdout",
     "output_type": "stream",
     "text": [
      "  Country  EP Group vs Nationality Index\n",
      "0     SVN                       0.270000\n",
      "1     BEL                       0.059524\n",
      "\n",
      "\n",
      "--------------------\n",
      "\n",
      "\n",
      "Tertiary subject: 3.60.06\n"
     ]
    },
    {
     "name": "stderr",
     "output_type": "stream",
     "text": [
      "Processing bills: 100%|██████████| 9/9 [00:08<00:00,  1.11it/s]\n"
     ]
    },
    {
     "name": "stdout",
     "output_type": "stream",
     "text": [
      "   Country  EP Group vs Nationality Index\n",
      "0      EST                       0.538095\n",
      "1      MLT                       0.338519\n",
      "2      POL                       0.321197\n",
      "3      BGR                       0.312157\n",
      "4      SVN                       0.291111\n",
      "5      LTU                       0.274545\n",
      "6      SVK                       0.198730\n",
      "7      HUN                       0.194603\n",
      "8      ROU                       0.189360\n",
      "9      LVA                       0.177778\n",
      "10     ESP                       0.141803\n",
      "11     CZE                       0.109947\n",
      "\n",
      "\n",
      "--------------------\n",
      "\n",
      "\n",
      "Tertiary subject: 6.40.15\n"
     ]
    },
    {
     "name": "stderr",
     "output_type": "stream",
     "text": [
      "Processing bills: 100%|██████████| 22/22 [00:20<00:00,  1.10it/s]\n"
     ]
    },
    {
     "name": "stdout",
     "output_type": "stream",
     "text": [
      "   Country  EP Group vs Nationality Index\n",
      "0      LUX                       0.420909\n",
      "1      SVN                       0.401818\n",
      "2      SWE                       0.251342\n",
      "3      POL                       0.215315\n",
      "4      EST                       0.190519\n",
      "5      LTU                       0.184876\n",
      "6      PRT                       0.176364\n",
      "7      DNK                       0.166753\n",
      "8      HUN                       0.141126\n",
      "9      NLD                       0.131630\n",
      "10     ROU                       0.129118\n",
      "11     LVA                       0.125455\n",
      "12     ESP                       0.120856\n",
      "13     HRV                       0.090909\n",
      "14     CZE                       0.085455\n",
      "15     AUT                       0.079569\n",
      "\n",
      "\n",
      "--------------------\n",
      "\n",
      "\n",
      "Tertiary subject: 4.70.06\n"
     ]
    },
    {
     "name": "stderr",
     "output_type": "stream",
     "text": [
      "Processing bills: 100%|██████████| 14/14 [00:12<00:00,  1.12it/s]\n"
     ]
    },
    {
     "name": "stdout",
     "output_type": "stream",
     "text": [
      "  Country  EP Group vs Nationality Index\n",
      "0     CYP                       0.178571\n",
      "1     SVN                       0.173571\n",
      "2     LUX                       0.153333\n",
      "3     LVA                       0.150000\n",
      "4     BGR                       0.132269\n",
      "5     MLT                       0.128571\n",
      "6     IRL                       0.123626\n",
      "7     LTU                       0.074545\n",
      "8     ESP                       0.047940\n",
      "\n",
      "\n",
      "--------------------\n",
      "\n",
      "\n",
      "Tertiary subject: 8.20.04\n"
     ]
    },
    {
     "name": "stderr",
     "output_type": "stream",
     "text": [
      "Processing bills: 100%|██████████| 2/2 [00:01<00:00,  1.11it/s]\n"
     ]
    },
    {
     "name": "stdout",
     "output_type": "stream",
     "text": [
      "  Country  EP Group vs Nationality Index\n",
      "0     LVA                       0.375000\n",
      "1     SVN                       0.295000\n",
      "2     DNK                       0.174286\n",
      "3     DEU                       0.136667\n",
      "\n",
      "\n",
      "--------------------\n",
      "\n",
      "\n",
      "Tertiary subject: 7.30.09\n"
     ]
    },
    {
     "name": "stderr",
     "output_type": "stream",
     "text": [
      "Processing bills: 100%|██████████| 5/5 [00:04<00:00,  1.15it/s]\n"
     ]
    },
    {
     "name": "stdout",
     "output_type": "stream",
     "text": [
      "  Country  EP Group vs Nationality Index\n",
      "0     SVN                       0.326000\n",
      "1     LUX                       0.273333\n",
      "2     POL                       0.182769\n",
      "3     LTU                       0.166182\n",
      "\n",
      "\n",
      "--------------------\n",
      "\n",
      "\n",
      "Tertiary subject: 3.30.07\n"
     ]
    },
    {
     "name": "stderr",
     "output_type": "stream",
     "text": [
      "Processing bills: 100%|██████████| 10/10 [00:08<00:00,  1.16it/s]\n"
     ]
    },
    {
     "name": "stdout",
     "output_type": "stream",
     "text": [
      "  Country  EP Group vs Nationality Index\n",
      "0     SVN                       0.388000\n",
      "1     EST                       0.276000\n",
      "2     LUX                       0.226667\n",
      "3     LTU                       0.159091\n",
      "4     HRV                       0.146000\n",
      "5     ESP                       0.113757\n",
      "\n",
      "\n",
      "--------------------\n",
      "\n",
      "\n",
      "Tertiary subject: 3.40.09\n"
     ]
    },
    {
     "name": "stderr",
     "output_type": "stream",
     "text": [
      "Processing bills: 100%|██████████| 4/4 [00:03<00:00,  1.15it/s]\n"
     ]
    },
    {
     "name": "stdout",
     "output_type": "stream",
     "text": [
      "   Country  EP Group vs Nationality Index\n",
      "0      EST                       0.472143\n",
      "1      SVN                       0.460000\n",
      "2      HUN                       0.424524\n",
      "3      ROU                       0.383636\n",
      "4      POL                       0.335385\n",
      "5      BGR                       0.314118\n",
      "6      LTU                       0.287727\n",
      "7      CZE                       0.267857\n",
      "8      HRV                       0.253333\n",
      "9      LVA                       0.167500\n",
      "10     LUX                       0.151667\n",
      "\n",
      "\n",
      "--------------------\n",
      "\n",
      "\n",
      "Tertiary subject: 3.50.01\n"
     ]
    },
    {
     "name": "stderr",
     "output_type": "stream",
     "text": [
      "Processing bills: 100%|██████████| 8/8 [00:06<00:00,  1.18it/s]\n"
     ]
    },
    {
     "name": "stdout",
     "output_type": "stream",
     "text": [
      "  Country  EP Group vs Nationality Index\n",
      "0     EST                       0.255357\n",
      "1     MLT                       0.210000\n",
      "2     ROU                       0.193409\n",
      "3     SVN                       0.177500\n",
      "4     LVA                       0.143750\n",
      "5     LUX                       0.143333\n",
      "6     LTU                       0.100227\n",
      "\n",
      "\n",
      "--------------------\n",
      "\n",
      "\n",
      "Tertiary subject: 6.10.02\n"
     ]
    },
    {
     "name": "stderr",
     "output_type": "stream",
     "text": [
      "Processing bills: 100%|██████████| 18/18 [00:15<00:00,  1.16it/s]\n"
     ]
    },
    {
     "name": "stdout",
     "output_type": "stream",
     "text": [
      "   Country  EP Group vs Nationality Index\n",
      "0      SVN                       0.517222\n",
      "1      LUX                       0.380370\n",
      "2      ROU                       0.369663\n",
      "3      EST                       0.344444\n",
      "4      HUN                       0.245661\n",
      "5      LTU                       0.229192\n",
      "6      PRT                       0.211852\n",
      "7      ESP                       0.178878\n",
      "8      CZE                       0.165661\n",
      "9      ITA                       0.161462\n",
      "10     HRV                       0.128889\n",
      "11     NLD                       0.086284\n",
      "\n",
      "\n",
      "--------------------\n",
      "\n",
      "\n",
      "Tertiary subject: 6.20.06\n"
     ]
    },
    {
     "name": "stderr",
     "output_type": "stream",
     "text": [
      "Processing bills: 100%|██████████| 4/4 [00:03<00:00,  1.18it/s]\n"
     ]
    },
    {
     "name": "stdout",
     "output_type": "stream",
     "text": [
      "  Country  EP Group vs Nationality Index\n",
      "0     SVN                       0.517500\n",
      "1     MLT                       0.480000\n",
      "2     LUX                       0.460000\n",
      "3     ROU                       0.371818\n",
      "4     HRV                       0.343333\n",
      "5     DNK                       0.296429\n",
      "6     LTU                       0.244545\n",
      "\n",
      "\n",
      "--------------------\n",
      "\n",
      "\n",
      "Tertiary subject: 3.30.03\n"
     ]
    },
    {
     "name": "stderr",
     "output_type": "stream",
     "text": [
      "Processing bills: 100%|██████████| 3/3 [00:02<00:00,  1.15it/s]\n"
     ]
    },
    {
     "name": "stdout",
     "output_type": "stream",
     "text": [
      "  Country  EP Group vs Nationality Index\n",
      "0     LUX                       0.366667\n",
      "1     AUT                       0.154737\n",
      "2     POL                       0.094359\n",
      "\n",
      "\n",
      "--------------------\n",
      "\n",
      "\n",
      "Tertiary subject: 3.40.05\n"
     ]
    },
    {
     "name": "stderr",
     "output_type": "stream",
     "text": [
      "Processing bills: 100%|██████████| 2/2 [00:01<00:00,  1.11it/s]\n"
     ]
    },
    {
     "name": "stdout",
     "output_type": "stream",
     "text": [
      "  Country  EP Group vs Nationality Index\n",
      "0     LUX                           0.26\n",
      "1     DNK                           0.25\n",
      "2     SVN                           0.22\n",
      "\n",
      "\n",
      "--------------------\n",
      "\n",
      "\n",
      "Tertiary subject: 3.50.20\n"
     ]
    },
    {
     "name": "stderr",
     "output_type": "stream",
     "text": [
      "Processing bills: 100%|██████████| 7/7 [00:06<00:00,  1.14it/s]\n"
     ]
    },
    {
     "name": "stdout",
     "output_type": "stream",
     "text": [
      "  Country  EP Group vs Nationality Index\n",
      "0     EST                       0.206122\n",
      "1     AUT                       0.108571\n",
      "\n",
      "\n",
      "--------------------\n",
      "\n",
      "\n",
      "Tertiary subject: 8.70.03\n"
     ]
    },
    {
     "name": "stderr",
     "output_type": "stream",
     "text": [
      "Processing bills: 100%|██████████| 271/271 [03:55<00:00,  1.15it/s]\n"
     ]
    },
    {
     "name": "stdout",
     "output_type": "stream",
     "text": [
      "   Country  EP Group vs Nationality Index\n",
      "0      LUX                       0.288831\n",
      "1      IRL                       0.260954\n",
      "2      LVA                       0.249262\n",
      "3      SVN                       0.243985\n",
      "4      LTU                       0.227581\n",
      "5      PRT                       0.184136\n",
      "6      POL                       0.158150\n",
      "7      CYP                       0.157220\n",
      "8      HUN                       0.157189\n",
      "9      DNK                       0.152484\n",
      "10     ESP                       0.145308\n",
      "11     BGR                       0.130914\n",
      "12     MLT                       0.078721\n",
      "13     SWE                       0.074005\n",
      "14     ROU                       0.066590\n",
      "15     EST                       0.055878\n",
      "16     CZE                       0.055168\n",
      "17     DEU                       0.047900\n",
      "18     BEL                       0.024070\n",
      "19     SVK                       0.021669\n",
      "\n",
      "\n",
      "--------------------\n",
      "\n",
      "\n",
      "Tertiary subject: 7.30.05\n"
     ]
    },
    {
     "name": "stderr",
     "output_type": "stream",
     "text": [
      "Processing bills: 100%|██████████| 19/19 [00:16<00:00,  1.16it/s]\n"
     ]
    },
    {
     "name": "stdout",
     "output_type": "stream",
     "text": [
      "   Country  EP Group vs Nationality Index\n",
      "0      POL                       0.235959\n",
      "1      SVN                       0.208421\n",
      "2      LUX                       0.204912\n",
      "3      ROU                       0.189334\n",
      "4      EST                       0.186717\n",
      "5      CZE                       0.184862\n",
      "6      DNK                       0.169520\n",
      "7      SVK                       0.152932\n",
      "8      HRV                       0.145072\n",
      "9      BGR                       0.124211\n",
      "10     ITA                       0.123021\n",
      "11     SWE                       0.113133\n",
      "\n",
      "\n",
      "--------------------\n",
      "\n",
      "\n",
      "Tertiary subject: 7.30.20\n"
     ]
    },
    {
     "name": "stderr",
     "output_type": "stream",
     "text": [
      "Processing bills: 100%|██████████| 18/18 [00:15<00:00,  1.15it/s]\n"
     ]
    },
    {
     "name": "stdout",
     "output_type": "stream",
     "text": [
      "  Country  EP Group vs Nationality Index\n",
      "0     LUX                       0.265926\n",
      "1     EST                       0.222804\n",
      "2     SVN                       0.218333\n",
      "3     DNK                       0.204811\n",
      "4     SWE                       0.201958\n",
      "5     CZE                       0.167407\n",
      "6     LTU                       0.156970\n",
      "7     POL                       0.146166\n",
      "8     HRV                       0.139798\n",
      "9     AUT                       0.111696\n",
      "\n",
      "\n",
      "--------------------\n",
      "\n",
      "\n",
      "Tertiary subject: 3.20.03\n"
     ]
    },
    {
     "name": "stderr",
     "output_type": "stream",
     "text": [
      "Processing bills: 100%|██████████| 15/15 [00:13<00:00,  1.15it/s]\n"
     ]
    },
    {
     "name": "stdout",
     "output_type": "stream",
     "text": [
      "  Country  EP Group vs Nationality Index\n",
      "0     LUX                       0.263111\n",
      "1     SVN                       0.234667\n",
      "2     EST                       0.164952\n",
      "3     ESP                       0.147014\n",
      "4     SWE                       0.129524\n",
      "5     BEL                       0.125460\n",
      "6     SVK                       0.120952\n",
      "7     NLD                       0.091126\n",
      "8     AUT                       0.040211\n",
      "\n",
      "\n",
      "--------------------\n",
      "\n",
      "\n",
      "Tertiary subject: 3.60.02\n"
     ]
    },
    {
     "name": "stderr",
     "output_type": "stream",
     "text": [
      "Processing bills: 100%|██████████| 5/5 [00:04<00:00,  1.22it/s]\n"
     ]
    },
    {
     "name": "stdout",
     "output_type": "stream",
     "text": [
      "  Country  EP Group vs Nationality Index\n",
      "0     SVN                       0.538000\n",
      "1     LUX                       0.480000\n",
      "2     MLT                       0.370667\n",
      "3     ROU                       0.361333\n",
      "4     EST                       0.344000\n",
      "5     BGR                       0.248941\n",
      "6     PRT                       0.169714\n",
      "7     ESP                       0.148746\n",
      "8     SWE                       0.148571\n",
      "9     NLD                       0.132276\n",
      "\n",
      "\n",
      "--------------------\n",
      "\n",
      "\n",
      "Tertiary subject: 3.70.18\n"
     ]
    },
    {
     "name": "stderr",
     "output_type": "stream",
     "text": [
      "Processing bills: 100%|██████████| 31/31 [00:26<00:00,  1.17it/s]\n"
     ]
    },
    {
     "name": "stdout",
     "output_type": "stream",
     "text": [
      "   Country  EP Group vs Nationality Index\n",
      "0      SVN                       0.379032\n",
      "1      LUX                       0.354624\n",
      "2      IRL                       0.344074\n",
      "3      CYP                       0.275054\n",
      "4      DNK                       0.233832\n",
      "5      ROU                       0.201909\n",
      "6      MLT                       0.188602\n",
      "7      EST                       0.169923\n",
      "8      PRT                       0.169002\n",
      "9      LTU                       0.149560\n",
      "10     ESP                       0.143657\n",
      "11     SWE                       0.127250\n",
      "12     SVK                       0.121141\n",
      "13     HUN                       0.119386\n",
      "14     FIN                       0.115413\n",
      "15     DEU                       0.103414\n",
      "16     AUT                       0.080263\n",
      "17     NLD                       0.059317\n",
      "\n",
      "\n",
      "--------------------\n",
      "\n",
      "\n",
      "Tertiary subject: 3.15.15\n"
     ]
    },
    {
     "name": "stderr",
     "output_type": "stream",
     "text": [
      "Processing bills: 100%|██████████| 36/36 [00:31<00:00,  1.16it/s]\n"
     ]
    },
    {
     "name": "stdout",
     "output_type": "stream",
     "text": [
      "   Country  EP Group vs Nationality Index\n",
      "0      SVN                       0.329444\n",
      "1      POL                       0.257042\n",
      "2      BGR                       0.246634\n",
      "3      LUX                       0.231481\n",
      "4      LVA                       0.228611\n",
      "5      ROU                       0.205715\n",
      "6      CYP                       0.196111\n",
      "7      PRT                       0.187513\n",
      "8      ESP                       0.166965\n",
      "9      MLT                       0.158148\n",
      "10     LTU                       0.154646\n",
      "11     HUN                       0.154259\n",
      "12     EST                       0.145291\n",
      "13     DNK                       0.119438\n",
      "14     CZE                       0.108016\n",
      "15     SVK                       0.106294\n",
      "16     SWE                       0.067566\n",
      "17     HRV                       0.067391\n",
      "\n",
      "\n",
      "--------------------\n",
      "\n",
      "\n",
      "Tertiary subject: 6.40.06\n"
     ]
    },
    {
     "name": "stderr",
     "output_type": "stream",
     "text": [
      "Processing bills: 100%|██████████| 6/6 [00:05<00:00,  1.07it/s]\n"
     ]
    },
    {
     "name": "stdout",
     "output_type": "stream",
     "text": [
      "  Country  EP Group vs Nationality Index\n",
      "0     SVN                       0.435000\n",
      "1     LUX                       0.415556\n",
      "2     SVK                       0.341172\n",
      "3     BGR                       0.317843\n",
      "4     EST                       0.267619\n",
      "5     PRT                       0.230476\n",
      "6     SWE                       0.221746\n",
      "7     ESP                       0.198824\n",
      "8     HUN                       0.175397\n",
      "9     CZE                       0.139524\n",
      "\n",
      "\n",
      "--------------------\n",
      "\n",
      "\n",
      "Tertiary subject: 2.10.03\n"
     ]
    },
    {
     "name": "stderr",
     "output_type": "stream",
     "text": [
      "Processing bills: 100%|██████████| 26/26 [00:22<00:00,  1.17it/s]\n"
     ]
    },
    {
     "name": "stdout",
     "output_type": "stream",
     "text": [
      "   Country  EP Group vs Nationality Index\n",
      "0      SVN                       0.238846\n",
      "1      IRL                       0.233027\n",
      "2      LUX                       0.196154\n",
      "3      LTU                       0.163776\n",
      "4      EST                       0.155348\n",
      "5      CYP                       0.139744\n",
      "6      BGR                       0.137602\n",
      "7      HRV                       0.119161\n",
      "8      LVA                       0.098846\n",
      "9      PRT                       0.097106\n",
      "10     FIN                       0.096374\n",
      "11     ROU                       0.088438\n",
      "12     ESP                       0.081936\n",
      "13     CZE                       0.079341\n",
      "\n",
      "\n",
      "--------------------\n",
      "\n",
      "\n",
      "Tertiary subject: 3.40.03\n"
     ]
    },
    {
     "name": "stderr",
     "output_type": "stream",
     "text": [
      "Processing bills: 100%|██████████| 10/10 [00:08<00:00,  1.15it/s]\n"
     ]
    },
    {
     "name": "stdout",
     "output_type": "stream",
     "text": [
      "  Country  EP Group vs Nationality Index\n",
      "0     SVN                       0.268000\n",
      "1     CYP                       0.261333\n",
      "2     EST                       0.226286\n",
      "3     LUX                       0.210000\n",
      "4     HRV                       0.195333\n",
      "5     PRT                       0.161714\n",
      "6     ESP                       0.148588\n",
      "7     ROU                       0.146303\n",
      "8     BEL                       0.107429\n",
      "\n",
      "\n",
      "--------------------\n",
      "\n",
      "\n",
      "Tertiary subject: 3.10.05\n"
     ]
    },
    {
     "name": "stderr",
     "output_type": "stream",
     "text": [
      "Processing bills: 100%|██████████| 6/6 [00:05<00:00,  1.12it/s]\n"
     ]
    },
    {
     "name": "stdout",
     "output_type": "stream",
     "text": [
      "  Country  EP Group vs Nationality Index\n",
      "0     SVN                       0.423333\n",
      "1     LVA                       0.308333\n",
      "2     MLT                       0.238889\n",
      "3     HUN                       0.217619\n",
      "4     SVK                       0.212418\n",
      "5     LTU                       0.206667\n",
      "6     LUX                       0.198889\n",
      "7     CYP                       0.160000\n",
      "8     ESP                       0.150665\n",
      "9     BEL                       0.122540\n",
      "\n",
      "\n",
      "--------------------\n",
      "\n",
      "\n",
      "Tertiary subject: 4.15.05\n"
     ]
    },
    {
     "name": "stderr",
     "output_type": "stream",
     "text": [
      "Processing bills: 100%|██████████| 28/28 [00:24<00:00,  1.15it/s]\n"
     ]
    },
    {
     "name": "stdout",
     "output_type": "stream",
     "text": [
      "   Country  EP Group vs Nationality Index\n",
      "0      LUX                       0.223095\n",
      "1      CYP                       0.221667\n",
      "2      IRL                       0.184201\n",
      "3      PRT                       0.178537\n",
      "4      HRV                       0.155996\n",
      "5      SVN                       0.137857\n",
      "6      LTU                       0.137078\n",
      "7      POL                       0.136797\n",
      "8      BGR                       0.117311\n",
      "9      ESP                       0.114906\n",
      "10     ROU                       0.093953\n",
      "11     AUT                       0.092410\n",
      "12     FRA                       0.054571\n",
      "\n",
      "\n",
      "--------------------\n",
      "\n",
      "\n",
      "Tertiary subject: 3.70.11\n"
     ]
    },
    {
     "name": "stderr",
     "output_type": "stream",
     "text": [
      "Processing bills: 100%|██████████| 19/19 [00:16<00:00,  1.12it/s]\n"
     ]
    },
    {
     "name": "stdout",
     "output_type": "stream",
     "text": [
      "   Country  EP Group vs Nationality Index\n",
      "0      CYP                       0.218947\n",
      "1      SVN                       0.215263\n",
      "2      IRL                       0.182591\n",
      "3      LTU                       0.159043\n",
      "4      LUX                       0.131579\n",
      "5      LVA                       0.121053\n",
      "6      PRT                       0.117794\n",
      "7      ESP                       0.104470\n",
      "8      ROU                       0.104422\n",
      "9      ITA                       0.081735\n",
      "10     HUN                       0.081654\n",
      "\n",
      "\n",
      "--------------------\n",
      "\n",
      "\n",
      "Tertiary subject: 8.70.50\n"
     ]
    },
    {
     "name": "stderr",
     "output_type": "stream",
     "text": [
      "Processing bills: 100%|██████████| 15/15 [00:13<00:00,  1.15it/s]\n"
     ]
    },
    {
     "name": "stdout",
     "output_type": "stream",
     "text": [
      "   Country  EP Group vs Nationality Index\n",
      "0      LUX                       0.241333\n",
      "1      LTU                       0.234303\n",
      "2      IRL                       0.218182\n",
      "3      MLT                       0.192000\n",
      "4      HUN                       0.182159\n",
      "5      ROU                       0.173727\n",
      "6      BGR                       0.173412\n",
      "7      CYP                       0.162222\n",
      "8      LVA                       0.162000\n",
      "9      POL                       0.151763\n",
      "10     PRT                       0.147048\n",
      "11     SVN                       0.136000\n",
      "12     AUT                       0.109076\n",
      "13     SVK                       0.097597\n",
      "14     ESP                       0.092432\n",
      "\n",
      "\n",
      "--------------------\n",
      "\n",
      "\n",
      "Tertiary subject: 2.40.02\n"
     ]
    },
    {
     "name": "stderr",
     "output_type": "stream",
     "text": [
      "Processing bills: 100%|██████████| 3/3 [00:02<00:00,  1.12it/s]\n"
     ]
    },
    {
     "name": "stdout",
     "output_type": "stream",
     "text": [
      "  Country  EP Group vs Nationality Index\n",
      "0     LUX                       0.393333\n",
      "1     POL                       0.245641\n",
      "2     DNK                       0.155238\n",
      "\n",
      "\n",
      "--------------------\n",
      "\n",
      "\n",
      "Tertiary subject: 4.15.02\n"
     ]
    },
    {
     "name": "stderr",
     "output_type": "stream",
     "text": [
      "Processing bills: 100%|██████████| 8/8 [00:07<00:00,  1.13it/s]\n"
     ]
    },
    {
     "name": "stdout",
     "output_type": "stream",
     "text": [
      "   Country  EP Group vs Nationality Index\n",
      "0      LUX                       0.351667\n",
      "1      MLT                       0.324167\n",
      "2      SVN                       0.302500\n",
      "3      HUN                       0.263333\n",
      "4      IRL                       0.261923\n",
      "5      POL                       0.238846\n",
      "6      PRT                       0.237024\n",
      "7      ROU                       0.220455\n",
      "8      LTU                       0.220227\n",
      "9      HRV                       0.210833\n",
      "10     CYP                       0.202500\n",
      "11     BGR                       0.182206\n",
      "12     ESP                       0.170682\n",
      "13     LVA                       0.152500\n",
      "\n",
      "\n",
      "--------------------\n",
      "\n",
      "\n",
      "Tertiary subject: 6.20.07\n"
     ]
    },
    {
     "name": "stderr",
     "output_type": "stream",
     "text": [
      "Processing bills: 100%|██████████| 5/5 [00:04<00:00,  1.20it/s]\n"
     ]
    },
    {
     "name": "stdout",
     "output_type": "stream",
     "text": [
      "  Country  EP Group vs Nationality Index\n",
      "0     DNK                       0.226857\n",
      "1     CZE                       0.161333\n",
      "2     LTU                       0.085818\n",
      "\n",
      "\n",
      "--------------------\n",
      "\n",
      "\n",
      "Tertiary subject: 3.10.14\n"
     ]
    },
    {
     "name": "stderr",
     "output_type": "stream",
     "text": [
      "Processing bills: 100%|██████████| 2/2 [00:01<00:00,  1.10it/s]\n"
     ]
    },
    {
     "name": "stdout",
     "output_type": "stream",
     "text": [
      "  Country  EP Group vs Nationality Index\n",
      "0     MLT                       0.343333\n",
      "\n",
      "\n",
      "--------------------\n",
      "\n",
      "\n",
      "Tertiary subject: 3.15.05\n"
     ]
    },
    {
     "name": "stderr",
     "output_type": "stream",
     "text": [
      "Processing bills: 100%|██████████| 2/2 [00:01<00:00,  1.14it/s]\n"
     ]
    },
    {
     "name": "stdout",
     "output_type": "stream",
     "text": [
      "  Country  EP Group vs Nationality Index\n",
      "0     AUT                           0.20\n",
      "1     ROU                           0.18\n",
      "\n",
      "\n",
      "--------------------\n",
      "\n",
      "\n",
      "Tertiary subject: 7.40.02\n"
     ]
    },
    {
     "name": "stderr",
     "output_type": "stream",
     "text": [
      "Processing bills: 100%|██████████| 21/21 [00:17<00:00,  1.17it/s]\n"
     ]
    },
    {
     "name": "stdout",
     "output_type": "stream",
     "text": [
      "   Country  EP Group vs Nationality Index\n",
      "0      EST                       0.267755\n",
      "1      IRL                       0.243077\n",
      "2      LUX                       0.218730\n",
      "3      SVN                       0.145238\n",
      "4      ESP                       0.123686\n",
      "5      POL                       0.101554\n",
      "6      PRT                       0.096689\n",
      "7      SWE                       0.095011\n",
      "8      ROU                       0.082597\n",
      "9      FIN                       0.078231\n",
      "10     DNK                       0.076599\n",
      "11     AUT                       0.055388\n",
      "\n",
      "\n",
      "--------------------\n",
      "\n",
      "\n",
      "Tertiary subject: 1.20.09\n"
     ]
    },
    {
     "name": "stderr",
     "output_type": "stream",
     "text": [
      "Processing bills: 100%|██████████| 32/32 [00:27<00:00,  1.17it/s]\n"
     ]
    },
    {
     "name": "stdout",
     "output_type": "stream",
     "text": [
      "   Country  EP Group vs Nationality Index\n",
      "0      LUX                       0.215000\n",
      "1      EST                       0.194583\n",
      "2      DNK                       0.155907\n",
      "3      POL                       0.151315\n",
      "4      ROU                       0.147067\n",
      "5      SVN                       0.132187\n",
      "6      SWE                       0.128750\n",
      "7      MLT                       0.125625\n",
      "8      LTU                       0.123011\n",
      "9      HRV                       0.108845\n",
      "10     ESP                       0.097115\n",
      "11     FIN                       0.093764\n",
      "12     AUT                       0.088896\n",
      "\n",
      "\n",
      "--------------------\n",
      "\n",
      "\n",
      "Tertiary subject: 1.20.04\n"
     ]
    },
    {
     "name": "stderr",
     "output_type": "stream",
     "text": [
      "Processing bills: 100%|██████████| 8/8 [00:06<00:00,  1.17it/s]\n"
     ]
    },
    {
     "name": "stdout",
     "output_type": "stream",
     "text": [
      "  Country  EP Group vs Nationality Index\n",
      "0     IRL                       0.336626\n",
      "1     DNK                       0.329038\n",
      "2     LUX                       0.283333\n",
      "3     PRT                       0.245000\n",
      "4     EST                       0.244762\n",
      "5     AUT                       0.142005\n",
      "6     ESP                       0.140174\n",
      "\n",
      "\n",
      "--------------------\n",
      "\n",
      "\n",
      "Tertiary subject: 8.70.58\n"
     ]
    },
    {
     "name": "stderr",
     "output_type": "stream",
     "text": [
      "Processing bills: 100%|██████████| 1/1 [00:00<00:00,  1.08it/s]\n"
     ]
    },
    {
     "name": "stdout",
     "output_type": "stream",
     "text": [
      "Empty DataFrame\n",
      "Columns: [Country, EP Group vs Nationality Index]\n",
      "Index: []\n",
      "\n",
      "\n",
      "--------------------\n",
      "\n",
      "\n",
      "Tertiary subject: 8.70.59\n"
     ]
    },
    {
     "name": "stderr",
     "output_type": "stream",
     "text": [
      "Processing bills: 100%|██████████| 9/9 [00:08<00:00,  1.09it/s]\n"
     ]
    },
    {
     "name": "stdout",
     "output_type": "stream",
     "text": [
      "   Country  EP Group vs Nationality Index\n",
      "0      LTU                       0.335152\n",
      "1      CYP                       0.334074\n",
      "2      SVN                       0.325556\n",
      "3      MLT                       0.276296\n",
      "4      LUX                       0.274815\n",
      "5      IRL                       0.265455\n",
      "6      LVA                       0.231111\n",
      "7      POL                       0.214587\n",
      "8      ESP                       0.208230\n",
      "9      BGR                       0.188627\n",
      "10     HRV                       0.165791\n",
      "11     SVK                       0.163126\n",
      "12     BEL                       0.137249\n",
      "13     ROU                       0.114722\n",
      "\n",
      "\n",
      "--------------------\n",
      "\n",
      "\n",
      "Tertiary subject: 8.70.70\n"
     ]
    },
    {
     "name": "stderr",
     "output_type": "stream",
     "text": [
      "Processing bills: 100%|██████████| 2/2 [00:01<00:00,  1.22it/s]\n"
     ]
    },
    {
     "name": "stdout",
     "output_type": "stream",
     "text": [
      "  Country  EP Group vs Nationality Index\n",
      "0     NLD                       0.176154\n",
      "1     MLT                       0.103333\n",
      "2     ESP                       0.069259\n",
      "\n",
      "\n",
      "--------------------\n",
      "\n",
      "\n",
      "Tertiary subject: 3.40.17\n"
     ]
    },
    {
     "name": "stderr",
     "output_type": "stream",
     "text": [
      "Processing bills: 100%|██████████| 2/2 [00:01<00:00,  1.13it/s]\n"
     ]
    },
    {
     "name": "stdout",
     "output_type": "stream",
     "text": [
      "  Country  EP Group vs Nationality Index\n",
      "0     PRT                       0.327143\n",
      "1     ESP                       0.209220\n",
      "\n",
      "\n",
      "--------------------\n",
      "\n",
      "\n",
      "Tertiary subject: 6.10.09\n"
     ]
    },
    {
     "name": "stderr",
     "output_type": "stream",
     "text": [
      "Processing bills: 100%|██████████| 60/60 [00:51<00:00,  1.16it/s]\n"
     ]
    },
    {
     "name": "stdout",
     "output_type": "stream",
     "text": [
      "   Country  EP Group vs Nationality Index\n",
      "0      LUX                       0.356667\n",
      "1      SVN                       0.247833\n",
      "2      PRT                       0.202190\n",
      "3      DNK                       0.193593\n",
      "4      SWE                       0.185635\n",
      "5      LTU                       0.149576\n",
      "6      MLT                       0.120889\n",
      "7      ESP                       0.112228\n",
      "8      POL                       0.109029\n",
      "9      ROU                       0.108937\n",
      "10     EST                       0.104841\n",
      "11     HUN                       0.089016\n",
      "12     FIN                       0.061835\n",
      "13     DEU                       0.047192\n",
      "\n",
      "\n",
      "--------------------\n",
      "\n",
      "\n",
      "Tertiary subject: 8.40.07\n"
     ]
    },
    {
     "name": "stderr",
     "output_type": "stream",
     "text": [
      "Processing bills: 100%|██████████| 12/12 [00:10<00:00,  1.12it/s]\n"
     ]
    },
    {
     "name": "stdout",
     "output_type": "stream",
     "text": [
      "   Country  EP Group vs Nationality Index\n",
      "0      SVN                       0.461667\n",
      "1      MLT                       0.322778\n",
      "2      LUX                       0.320000\n",
      "3      IRL                       0.288718\n",
      "4      LTU                       0.270606\n",
      "5      ROU                       0.261061\n",
      "6      PRT                       0.247698\n",
      "7      DNK                       0.171190\n",
      "8      BGR                       0.137451\n",
      "9      ESP                       0.127931\n",
      "10     DEU                       0.118750\n",
      "\n",
      "\n",
      "--------------------\n",
      "\n",
      "\n",
      "Tertiary subject: 8.70.04\n"
     ]
    },
    {
     "name": "stderr",
     "output_type": "stream",
     "text": [
      "Processing bills: 100%|██████████| 15/15 [00:13<00:00,  1.11it/s]\n"
     ]
    },
    {
     "name": "stdout",
     "output_type": "stream",
     "text": [
      "   Country  EP Group vs Nationality Index\n",
      "0      IRL                       0.399897\n",
      "1      SVN                       0.398667\n",
      "2      MLT                       0.350222\n",
      "3      LUX                       0.345333\n",
      "4      ROU                       0.309091\n",
      "5      DNK                       0.256762\n",
      "6      CYP                       0.230222\n",
      "7      EST                       0.219429\n",
      "8      ESP                       0.218493\n",
      "9      SWE                       0.188825\n",
      "10     HRV                       0.166667\n",
      "11     DEU                       0.162111\n",
      "12     LTU                       0.161333\n",
      "13     NLD                       0.133425\n",
      "14     PRT                       0.128317\n",
      "15     FIN                       0.126667\n",
      "16     AUT                       0.109754\n",
      "\n",
      "\n",
      "--------------------\n",
      "\n",
      "\n",
      "Tertiary subject: 5.20.03\n"
     ]
    },
    {
     "name": "stderr",
     "output_type": "stream",
     "text": [
      "Processing bills: 100%|██████████| 6/6 [00:05<00:00,  1.11it/s]\n"
     ]
    },
    {
     "name": "stdout",
     "output_type": "stream",
     "text": [
      "  Country  EP Group vs Nationality Index\n",
      "0     SVN                       0.568333\n",
      "1     LUX                       0.515556\n",
      "2     BGR                       0.324706\n",
      "3     ROU                       0.296768\n",
      "4     LTU                       0.293030\n",
      "5     EST                       0.212381\n",
      "6     PRT                       0.186508\n",
      "7     ESP                       0.094820\n",
      "\n",
      "\n",
      "--------------------\n",
      "\n",
      "\n",
      "Tertiary subject: 3.10.11\n"
     ]
    },
    {
     "name": "stderr",
     "output_type": "stream",
     "text": [
      "Processing bills: 100%|██████████| 15/15 [00:13<00:00,  1.13it/s]\n"
     ]
    },
    {
     "name": "stdout",
     "output_type": "stream",
     "text": [
      "   Country  EP Group vs Nationality Index\n",
      "0      SVN                       0.410667\n",
      "1      LUX                       0.393778\n",
      "2      CYP                       0.268000\n",
      "3      SVK                       0.264381\n",
      "4      PRT                       0.245778\n",
      "5      HUN                       0.242349\n",
      "6      ESP                       0.232971\n",
      "7      EST                       0.218667\n",
      "8      MLT                       0.199556\n",
      "9      LTU                       0.188970\n",
      "10     IRL                       0.158051\n",
      "11     LVA                       0.156000\n",
      "12     DNK                       0.150857\n",
      "13     BGR                       0.105569\n",
      "14     CZE                       0.091683\n",
      "\n",
      "\n",
      "--------------------\n",
      "\n",
      "\n",
      "Tertiary subject: 3.70.01\n"
     ]
    },
    {
     "name": "stderr",
     "output_type": "stream",
     "text": [
      "Processing bills: 100%|██████████| 34/34 [00:29<00:00,  1.14it/s]\n"
     ]
    },
    {
     "name": "stdout",
     "output_type": "stream",
     "text": [
      "   Country  EP Group vs Nationality Index\n",
      "0      CYP                       0.343137\n",
      "1      LUX                       0.319412\n",
      "2      PRT                       0.279328\n",
      "3      SVN                       0.273529\n",
      "4      IRL                       0.266602\n",
      "5      DNK                       0.222553\n",
      "6      ESP                       0.174610\n",
      "7      EST                       0.168543\n",
      "8      MLT                       0.163333\n",
      "9      LVA                       0.159412\n",
      "10     HUN                       0.156275\n",
      "11     SVK                       0.147531\n",
      "12     HRV                       0.131301\n",
      "13     ROU                       0.125325\n",
      "14     LTU                       0.099893\n",
      "15     CZE                       0.091989\n",
      "16     BGR                       0.086436\n",
      "17     BEL                       0.076415\n",
      "18     FRA                       0.064736\n",
      "\n",
      "\n",
      "--------------------\n",
      "\n",
      "\n",
      "Tertiary subject: 3.60.05\n"
     ]
    },
    {
     "name": "stderr",
     "output_type": "stream",
     "text": [
      "Processing bills: 100%|██████████| 18/18 [00:15<00:00,  1.15it/s]\n"
     ]
    },
    {
     "name": "stdout",
     "output_type": "stream",
     "text": [
      "   Country  EP Group vs Nationality Index\n",
      "0      SVN                       0.507778\n",
      "1      EST                       0.426984\n",
      "2      LUX                       0.413704\n",
      "3      ROU                       0.266902\n",
      "4      HUN                       0.254974\n",
      "5      LTU                       0.234141\n",
      "6      HRV                       0.218519\n",
      "7      CYP                       0.208889\n",
      "8      MLT                       0.207037\n",
      "9      BGR                       0.168235\n",
      "10     PRT                       0.159894\n",
      "11     ESP                       0.156437\n",
      "12     POL                       0.130096\n",
      "13     CZE                       0.122698\n",
      "14     SWE                       0.121376\n",
      "15     DNK                       0.115397\n",
      "16     AUT                       0.088830\n",
      "\n",
      "\n",
      "--------------------\n",
      "\n",
      "\n",
      "Tertiary subject: 3.70.05\n"
     ]
    },
    {
     "name": "stderr",
     "output_type": "stream",
     "text": [
      "Processing bills: 100%|██████████| 9/9 [00:07<00:00,  1.13it/s]\n"
     ]
    },
    {
     "name": "stdout",
     "output_type": "stream",
     "text": [
      "  Country  EP Group vs Nationality Index\n",
      "0     LUX                       0.346667\n",
      "1     SVN                       0.223333\n",
      "2     DNK                       0.221270\n",
      "3     IRL                       0.215897\n",
      "4     BGR                       0.089673\n",
      "\n",
      "\n",
      "--------------------\n",
      "\n",
      "\n",
      "Tertiary subject: 3.15.08\n"
     ]
    },
    {
     "name": "stderr",
     "output_type": "stream",
     "text": [
      "Processing bills: 100%|██████████| 1/1 [00:00<00:00,  1.27it/s]\n"
     ]
    },
    {
     "name": "stdout",
     "output_type": "stream",
     "text": [
      "Empty DataFrame\n",
      "Columns: [Country, EP Group vs Nationality Index]\n",
      "Index: []\n",
      "\n",
      "\n",
      "--------------------\n",
      "\n",
      "\n",
      "Tertiary subject: 4.10.04\n"
     ]
    },
    {
     "name": "stderr",
     "output_type": "stream",
     "text": [
      "Processing bills: 100%|██████████| 18/18 [00:15<00:00,  1.13it/s]\n"
     ]
    },
    {
     "name": "stdout",
     "output_type": "stream",
     "text": [
      "   Country  EP Group vs Nationality Index\n",
      "0      LUX                       0.511481\n",
      "1      IRL                       0.429837\n",
      "2      PRT                       0.423968\n",
      "3      CYP                       0.367407\n",
      "4      SVN                       0.278889\n",
      "5      EST                       0.261481\n",
      "6      FIN                       0.256349\n",
      "7      ROU                       0.223077\n",
      "8      ESP                       0.222998\n",
      "9      MLT                       0.188148\n",
      "10     LTU                       0.177980\n",
      "11     LVA                       0.158889\n",
      "12     DNK                       0.153333\n",
      "13     DEU                       0.133889\n",
      "14     BEL                       0.111376\n",
      "\n",
      "\n",
      "--------------------\n",
      "\n",
      "\n",
      "Tertiary subject: 4.10.02\n"
     ]
    },
    {
     "name": "stderr",
     "output_type": "stream",
     "text": [
      "Processing bills: 100%|██████████| 9/9 [00:07<00:00,  1.17it/s]\n"
     ]
    },
    {
     "name": "stdout",
     "output_type": "stream",
     "text": [
      "  Country  EP Group vs Nationality Index\n",
      "0     IRL                       0.246667\n",
      "1     MLT                       0.168889\n",
      "2     EST                       0.131429\n",
      "3     CZE                       0.107407\n",
      "4     FIN                       0.103492\n",
      "5     HUN                       0.097460\n",
      "6     AUT                       0.090760\n",
      "\n",
      "\n",
      "--------------------\n",
      "\n",
      "\n",
      "Tertiary subject: 4.10.03\n"
     ]
    },
    {
     "name": "stderr",
     "output_type": "stream",
     "text": [
      "Processing bills: 100%|██████████| 31/31 [00:26<00:00,  1.15it/s]\n"
     ]
    },
    {
     "name": "stdout",
     "output_type": "stream",
     "text": [
      "   Country  EP Group vs Nationality Index\n",
      "0      LUX                       0.284086\n",
      "1      CYP                       0.265591\n",
      "2      IRL                       0.261520\n",
      "3      PRT                       0.250077\n",
      "4      SVN                       0.240000\n",
      "5      EST                       0.187281\n",
      "6      MLT                       0.170538\n",
      "7      ESP                       0.169979\n",
      "8      ROU                       0.156158\n",
      "9      LTU                       0.153783\n",
      "10     DNK                       0.143701\n",
      "11     HUN                       0.106482\n",
      "12     SWE                       0.099355\n",
      "13     BGR                       0.097913\n",
      "14     AUT                       0.087214\n",
      "15     LVA                       0.083226\n",
      "\n",
      "\n",
      "--------------------\n",
      "\n",
      "\n",
      "Tertiary subject: 4.10.25\n"
     ]
    },
    {
     "name": "stderr",
     "output_type": "stream",
     "text": [
      "Processing bills: 100%|██████████| 1/1 [00:00<00:00,  1.20it/s]\n"
     ]
    },
    {
     "name": "stdout",
     "output_type": "stream",
     "text": [
      "Empty DataFrame\n",
      "Columns: [Country, EP Group vs Nationality Index]\n",
      "Index: []\n",
      "\n",
      "\n",
      "--------------------\n",
      "\n",
      "\n",
      "Tertiary subject: 3.30.06\n"
     ]
    },
    {
     "name": "stderr",
     "output_type": "stream",
     "text": [
      "Processing bills: 100%|██████████| 59/59 [00:49<00:00,  1.18it/s]\n"
     ]
    },
    {
     "name": "stdout",
     "output_type": "stream",
     "text": [
      "   Country  EP Group vs Nationality Index\n",
      "0      SVN                       0.326102\n",
      "1      LUX                       0.253559\n",
      "2      LTU                       0.186040\n",
      "3      ROU                       0.152893\n",
      "4      BGR                       0.135892\n",
      "5      EST                       0.135093\n",
      "6      POL                       0.115274\n",
      "7      LVA                       0.103390\n",
      "8      MLT                       0.098983\n",
      "9      HRV                       0.085444\n",
      "10     HUN                       0.082906\n",
      "11     IRL                       0.082884\n",
      "12     ESP                       0.081563\n",
      "13     PRT                       0.067280\n",
      "14     DNK                       0.056349\n",
      "\n",
      "\n",
      "--------------------\n",
      "\n",
      "\n",
      "Tertiary subject: 8.20.01\n"
     ]
    },
    {
     "name": "stderr",
     "output_type": "stream",
     "text": [
      "Processing bills: 100%|██████████| 23/23 [00:19<00:00,  1.20it/s]\n"
     ]
    },
    {
     "name": "stdout",
     "output_type": "stream",
     "text": [
      "   Country  EP Group vs Nationality Index\n",
      "0      SVN                       0.414348\n",
      "1      LUX                       0.384638\n",
      "2      ROU                       0.234450\n",
      "3      POL                       0.218771\n",
      "4      EST                       0.202692\n",
      "5      LTU                       0.197154\n",
      "6      PRT                       0.169896\n",
      "7      IRL                       0.169650\n",
      "8      SWE                       0.164265\n",
      "9      ESP                       0.133645\n",
      "10     DNK                       0.131916\n",
      "11     HUN                       0.112257\n",
      "12     DEU                       0.102971\n",
      "13     LVA                       0.097391\n",
      "\n",
      "\n",
      "--------------------\n",
      "\n",
      "\n",
      "Tertiary subject: 8.40.01\n"
     ]
    },
    {
     "name": "stderr",
     "output_type": "stream",
     "text": [
      "Processing bills: 100%|██████████| 43/43 [00:37<00:00,  1.15it/s]\n"
     ]
    },
    {
     "name": "stdout",
     "output_type": "stream",
     "text": [
      "   Country  EP Group vs Nationality Index\n",
      "0      LUX                       0.322171\n",
      "1      SVN                       0.282791\n",
      "2      SWE                       0.177010\n",
      "3      EST                       0.173909\n",
      "4      DNK                       0.164779\n",
      "5      AUT                       0.162538\n",
      "6      MLT                       0.161240\n",
      "7      ESP                       0.157866\n",
      "8      CYP                       0.154574\n",
      "9      PRT                       0.150188\n",
      "10     IRL                       0.141831\n",
      "11     BGR                       0.119124\n",
      "12     ROU                       0.116350\n",
      "13     FIN                       0.105607\n",
      "14     LVA                       0.088140\n",
      "15     HRV                       0.085412\n",
      "16     LTU                       0.083383\n",
      "17     DEU                       0.067077\n",
      "\n",
      "\n",
      "--------------------\n",
      "\n",
      "\n",
      "Tertiary subject: 4.15.15\n"
     ]
    },
    {
     "name": "stderr",
     "output_type": "stream",
     "text": [
      "Processing bills: 100%|██████████| 13/13 [00:11<00:00,  1.10it/s]\n"
     ]
    },
    {
     "name": "stdout",
     "output_type": "stream",
     "text": [
      "   Country  EP Group vs Nationality Index\n",
      "0      LUX                       0.364103\n",
      "1      IRL                       0.318698\n",
      "2      SVN                       0.302308\n",
      "3      PRT                       0.267692\n",
      "4      ESP                       0.201721\n",
      "5      CYP                       0.195897\n",
      "6      DNK                       0.195385\n",
      "7      LVA                       0.173846\n",
      "8      ROU                       0.168019\n",
      "9      EST                       0.161538\n",
      "10     SWE                       0.157875\n",
      "11     LTU                       0.141818\n",
      "12     FIN                       0.123956\n",
      "\n",
      "\n",
      "--------------------\n",
      "\n",
      "\n",
      "Tertiary subject: 4.15.10\n"
     ]
    },
    {
     "name": "stderr",
     "output_type": "stream",
     "text": [
      "Processing bills: 100%|██████████| 2/2 [00:01<00:00,  1.19it/s]\n"
     ]
    },
    {
     "name": "stdout",
     "output_type": "stream",
     "text": [
      "  Country  EP Group vs Nationality Index\n",
      "0     LUX                       0.573333\n",
      "1     PRT                       0.557143\n",
      "2     MLT                       0.456667\n",
      "3     GRC                       0.258571\n",
      "4     DEU                       0.244759\n",
      "\n",
      "\n",
      "--------------------\n",
      "\n",
      "\n",
      "Tertiary subject: 6.30.02\n"
     ]
    },
    {
     "name": "stderr",
     "output_type": "stream",
     "text": [
      "Processing bills: 100%|██████████| 14/14 [00:12<00:00,  1.14it/s]\n"
     ]
    },
    {
     "name": "stdout",
     "output_type": "stream",
     "text": [
      "  Country  EP Group vs Nationality Index\n",
      "0     LUX                       0.407619\n",
      "1     DNK                       0.212449\n",
      "2     SVN                       0.196429\n",
      "3     SWE                       0.156122\n",
      "4     PRT                       0.155170\n",
      "5     AUT                       0.136466\n",
      "6     LTU                       0.120649\n",
      "7     MLT                       0.105238\n",
      "8     DEU                       0.105119\n",
      "9     EST                       0.101429\n",
      "\n",
      "\n",
      "--------------------\n",
      "\n",
      "\n",
      "Tertiary subject: 4.15.12\n"
     ]
    },
    {
     "name": "stderr",
     "output_type": "stream",
     "text": [
      "Processing bills: 100%|██████████| 11/11 [00:09<00:00,  1.14it/s]\n"
     ]
    },
    {
     "name": "stdout",
     "output_type": "stream",
     "text": [
      "   Country  EP Group vs Nationality Index\n",
      "0      LUX                       0.422424\n",
      "1      SVN                       0.417273\n",
      "2      IRL                       0.410490\n",
      "3      PRT                       0.363636\n",
      "4      MLT                       0.253333\n",
      "5      ESP                       0.247839\n",
      "6      LTU                       0.242149\n",
      "7      LVA                       0.229091\n",
      "8      ROU                       0.170964\n",
      "9      EST                       0.163117\n",
      "10     FIN                       0.148052\n",
      "11     AUT                       0.143062\n",
      "12     DEU                       0.110949\n",
      "\n",
      "\n",
      "--------------------\n",
      "\n",
      "\n",
      "Tertiary subject: 4.10.12\n"
     ]
    },
    {
     "name": "stderr",
     "output_type": "stream",
     "text": [
      "Processing bills: 100%|██████████| 2/2 [00:01<00:00,  1.18it/s]\n"
     ]
    },
    {
     "name": "stdout",
     "output_type": "stream",
     "text": [
      "  Country  EP Group vs Nationality Index\n",
      "0     ITA                       0.088947\n",
      "\n",
      "\n",
      "--------------------\n",
      "\n",
      "\n",
      "Tertiary subject: 4.15.08\n"
     ]
    },
    {
     "name": "stderr",
     "output_type": "stream",
     "text": [
      "Processing bills: 100%|██████████| 10/10 [00:08<00:00,  1.13it/s]\n"
     ]
    },
    {
     "name": "stdout",
     "output_type": "stream",
     "text": [
      "   Country  EP Group vs Nationality Index\n",
      "0      IRL                       0.543077\n",
      "1      LUX                       0.538000\n",
      "2      PRT                       0.473524\n",
      "3      CYP                       0.380667\n",
      "4      ESP                       0.317335\n",
      "5      SVN                       0.229000\n",
      "6      EST                       0.203429\n",
      "7      HUN                       0.200381\n",
      "8      LTU                       0.185455\n",
      "9      SWE                       0.156571\n",
      "10     DNK                       0.156286\n",
      "11     FIN                       0.130286\n",
      "\n",
      "\n",
      "--------------------\n",
      "\n",
      "\n",
      "Tertiary subject: 4.45.06\n"
     ]
    },
    {
     "name": "stderr",
     "output_type": "stream",
     "text": [
      "Processing bills: 100%|██████████| 4/4 [00:03<00:00,  1.15it/s]\n"
     ]
    },
    {
     "name": "stdout",
     "output_type": "stream",
     "text": [
      "  Country  EP Group vs Nationality Index\n",
      "0     LUX                       0.360000\n",
      "1     SVN                       0.252500\n",
      "2     PRT                       0.228333\n",
      "3     IRL                       0.221154\n",
      "4     HUN                       0.215952\n",
      "5     ROU                       0.198485\n",
      "6     CYP                       0.188333\n",
      "\n",
      "\n",
      "--------------------\n",
      "\n",
      "\n",
      "Tertiary subject: 4.10.13\n"
     ]
    },
    {
     "name": "stderr",
     "output_type": "stream",
     "text": [
      "Processing bills: 100%|██████████| 8/8 [00:06<00:00,  1.19it/s]\n"
     ]
    },
    {
     "name": "stdout",
     "output_type": "stream",
     "text": [
      "   Country  EP Group vs Nationality Index\n",
      "0      LUX                       0.483333\n",
      "1      MLT                       0.353333\n",
      "2      ROU                       0.328333\n",
      "3      PRT                       0.327024\n",
      "4      SVN                       0.316250\n",
      "5      IRL                       0.292692\n",
      "6      CYP                       0.240000\n",
      "7      LTU                       0.225227\n",
      "8      EST                       0.147857\n",
      "9      ESP                       0.137669\n",
      "10     DEU                       0.082396\n",
      "\n",
      "\n",
      "--------------------\n",
      "\n",
      "\n",
      "Tertiary subject: 4.45.08\n"
     ]
    },
    {
     "name": "stderr",
     "output_type": "stream",
     "text": [
      "Processing bills: 100%|██████████| 3/3 [00:02<00:00,  1.26it/s]\n"
     ]
    },
    {
     "name": "stdout",
     "output_type": "stream",
     "text": [
      "  Country  EP Group vs Nationality Index\n",
      "0     CYP                       0.493333\n",
      "1     PRT                       0.369841\n",
      "2     IRL                       0.337436\n",
      "3     EST                       0.302857\n",
      "4     ESP                       0.231412\n",
      "5     ROU                       0.211111\n",
      "6     DEU                       0.180556\n",
      "\n",
      "\n",
      "--------------------\n",
      "\n",
      "\n",
      "Tertiary subject: 7.10.02\n"
     ]
    },
    {
     "name": "stderr",
     "output_type": "stream",
     "text": [
      "Processing bills: 100%|██████████| 13/13 [00:11<00:00,  1.15it/s]\n"
     ]
    },
    {
     "name": "stdout",
     "output_type": "stream",
     "text": [
      "   Country  EP Group vs Nationality Index\n",
      "0      LUX                       0.385641\n",
      "1      SVN                       0.357692\n",
      "2      MLT                       0.300513\n",
      "3      HRV                       0.281026\n",
      "4      LTU                       0.276364\n",
      "5      BGR                       0.266697\n",
      "6      LVA                       0.245385\n",
      "7      IRL                       0.234675\n",
      "8      ESP                       0.233256\n",
      "9      EST                       0.212088\n",
      "10     SWE                       0.191282\n",
      "11     ROU                       0.171002\n",
      "12     SVK                       0.121099\n",
      "13     CZE                       0.105641\n",
      "\n",
      "\n",
      "--------------------\n",
      "\n",
      "\n",
      "Tertiary subject: 1.20.05\n"
     ]
    },
    {
     "name": "stderr",
     "output_type": "stream",
     "text": [
      "Processing bills: 100%|██████████| 13/13 [00:11<00:00,  1.16it/s]\n"
     ]
    },
    {
     "name": "stdout",
     "output_type": "stream",
     "text": [
      "  Country  EP Group vs Nationality Index\n",
      "0     SVN                       0.424615\n",
      "1     IRL                       0.268047\n",
      "2     EST                       0.247912\n",
      "3     CZE                       0.195092\n",
      "4     PRT                       0.188864\n",
      "5     CYP                       0.188718\n",
      "6     LUX                       0.152308\n",
      "7     HRV                       0.150256\n",
      "8     ESP                       0.097690\n",
      "9     LTU                       0.086993\n",
      "\n",
      "\n",
      "--------------------\n",
      "\n",
      "\n",
      "Tertiary subject: 2.10.01\n"
     ]
    },
    {
     "name": "stderr",
     "output_type": "stream",
     "text": [
      "Processing bills: 100%|██████████| 6/6 [00:05<00:00,  1.18it/s]\n"
     ]
    },
    {
     "name": "stdout",
     "output_type": "stream",
     "text": [
      "  Country  EP Group vs Nationality Index\n",
      "0     SVN                       0.330000\n",
      "1     LUX                       0.286667\n",
      "2     MLT                       0.235556\n",
      "3     IRL                       0.232564\n",
      "4     EST                       0.210952\n",
      "5     CYP                       0.164444\n",
      "6     ESP                       0.145480\n",
      "7     LTU                       0.140606\n",
      "\n",
      "\n",
      "--------------------\n",
      "\n",
      "\n",
      "Tertiary subject: 6.40.03\n"
     ]
    },
    {
     "name": "stderr",
     "output_type": "stream",
     "text": [
      "Processing bills: 100%|██████████| 6/6 [00:05<00:00,  1.12it/s]\n"
     ]
    },
    {
     "name": "stdout",
     "output_type": "stream",
     "text": [
      "  Country  EP Group vs Nationality Index\n",
      "0     SVN                       0.425000\n",
      "1     IRL                       0.229231\n",
      "2     POL                       0.228205\n",
      "3     EST                       0.225238\n",
      "4     SVK                       0.221905\n",
      "5     LUX                       0.216667\n",
      "6     LTU                       0.211212\n",
      "7     DNK                       0.188571\n",
      "8     HRV                       0.184444\n",
      "\n",
      "\n",
      "--------------------\n",
      "\n",
      "\n",
      "Tertiary subject: 8.70.51\n"
     ]
    },
    {
     "name": "stderr",
     "output_type": "stream",
     "text": [
      "Processing bills: 100%|██████████| 21/21 [00:18<00:00,  1.14it/s]\n"
     ]
    },
    {
     "name": "stdout",
     "output_type": "stream",
     "text": [
      "  Country  EP Group vs Nationality Index\n",
      "0     LUX                       0.222222\n",
      "1     SVN                       0.214762\n",
      "2     MLT                       0.211429\n",
      "3     ROU                       0.178384\n",
      "4     ESP                       0.147007\n",
      "5     BGR                       0.146667\n",
      "6     LTU                       0.130130\n",
      "7     HUN                       0.117279\n",
      "8     PRT                       0.112562\n",
      "9     AUT                       0.076942\n",
      "\n",
      "\n",
      "--------------------\n",
      "\n",
      "\n",
      "Tertiary subject: 3.70.03\n"
     ]
    },
    {
     "name": "stderr",
     "output_type": "stream",
     "text": [
      "Processing bills: 100%|██████████| 33/33 [00:28<00:00,  1.15it/s]\n"
     ]
    },
    {
     "name": "stdout",
     "output_type": "stream",
     "text": [
      "   Country  EP Group vs Nationality Index\n",
      "0      LUX                       0.396566\n",
      "1      SVN                       0.350909\n",
      "2      IRL                       0.345645\n",
      "3      CYP                       0.314545\n",
      "4      MLT                       0.259596\n",
      "5      PRT                       0.238817\n",
      "6      EST                       0.237864\n",
      "7      DNK                       0.232388\n",
      "8      ROU                       0.224477\n",
      "9      LTU                       0.217906\n",
      "10     HUN                       0.209206\n",
      "11     ESP                       0.194755\n",
      "12     HRV                       0.154454\n",
      "13     DEU                       0.104141\n",
      "14     SWE                       0.103608\n",
      "15     LVA                       0.091818\n",
      "16     AUT                       0.072378\n",
      "17     NLD                       0.059574\n",
      "\n",
      "\n",
      "--------------------\n",
      "\n",
      "\n",
      "Tertiary subject: 6.40.13\n"
     ]
    },
    {
     "name": "stderr",
     "output_type": "stream",
     "text": [
      "Processing bills: 100%|██████████| 11/11 [00:09<00:00,  1.17it/s]\n"
     ]
    },
    {
     "name": "stdout",
     "output_type": "stream",
     "text": [
      "   Country  EP Group vs Nationality Index\n",
      "0      LUX                       0.484848\n",
      "1      IRL                       0.396245\n",
      "2      DNK                       0.291508\n",
      "3      ESP                       0.287115\n",
      "4      PRT                       0.284675\n",
      "5      SVN                       0.265455\n",
      "6      SWE                       0.258701\n",
      "7      EST                       0.251515\n",
      "8      ROU                       0.196997\n",
      "9      MLT                       0.183636\n",
      "10     AUT                       0.151015\n",
      "11     LVA                       0.141818\n",
      "12     FIN                       0.091848\n",
      "13     NLD                       0.089390\n",
      "\n",
      "\n",
      "--------------------\n",
      "\n",
      "\n",
      "Tertiary subject: 6.10.04\n"
     ]
    },
    {
     "name": "stderr",
     "output_type": "stream",
     "text": [
      "Processing bills: 100%|██████████| 78/78 [01:06<00:00,  1.17it/s]\n"
     ]
    },
    {
     "name": "stdout",
     "output_type": "stream",
     "text": [
      "   Country  EP Group vs Nationality Index\n",
      "0      LUX                       0.280427\n",
      "1      SVN                       0.252051\n",
      "2      POL                       0.240876\n",
      "3      SWE                       0.206764\n",
      "4      EST                       0.195775\n",
      "5      HUN                       0.171001\n",
      "6      ROU                       0.169054\n",
      "7      PRT                       0.160452\n",
      "8      LTU                       0.138531\n",
      "9      CYP                       0.109915\n",
      "10     DNK                       0.107408\n",
      "11     MLT                       0.107350\n",
      "12     ESP                       0.093301\n",
      "13     LVA                       0.065897\n",
      "14     BGR                       0.059894\n",
      "15     HRV                       0.059254\n",
      "16     NLD                       0.049008\n",
      "17     CZE                       0.045372\n",
      "\n",
      "\n",
      "--------------------\n",
      "\n",
      "\n",
      "Tertiary subject: 6.10.08\n"
     ]
    },
    {
     "name": "stderr",
     "output_type": "stream",
     "text": [
      "Processing bills: 100%|██████████| 131/131 [01:56<00:00,  1.12it/s]\n"
     ]
    },
    {
     "name": "stdout",
     "output_type": "stream",
     "text": [
      "   Country  EP Group vs Nationality Index\n",
      "0      LUX                       0.290483\n",
      "1      SWE                       0.209226\n",
      "2      POL                       0.178835\n",
      "3      DNK                       0.168885\n",
      "4      SVN                       0.164656\n",
      "5      EST                       0.134984\n",
      "6      LTU                       0.132366\n",
      "7      ESP                       0.127034\n",
      "8      HUN                       0.125896\n",
      "9      PRT                       0.104464\n",
      "10     MLT                       0.101883\n",
      "11     ROU                       0.087053\n",
      "12     CYP                       0.066361\n",
      "13     FIN                       0.052486\n",
      "14     CZE                       0.041708\n",
      "15     LVA                       0.036031\n",
      "16     BEL                       0.034904\n",
      "\n",
      "\n",
      "--------------------\n",
      "\n",
      "\n",
      "Tertiary subject: 3.10.09\n"
     ]
    },
    {
     "name": "stderr",
     "output_type": "stream",
     "text": [
      "Processing bills: 100%|██████████| 63/63 [00:55<00:00,  1.13it/s]\n"
     ]
    },
    {
     "name": "stdout",
     "output_type": "stream",
     "text": [
      "   Country  EP Group vs Nationality Index\n",
      "0      CYP                       0.528995\n",
      "1      FRA                       0.422496\n",
      "2      MLT                       0.339259\n",
      "3      HUN                       0.331625\n",
      "4      AUT                       0.313292\n",
      "5      SVN                       0.306984\n",
      "6      HRV                       0.288860\n",
      "7      ITA                       0.238216\n",
      "8      GRC                       0.224611\n",
      "9      SVK                       0.211652\n",
      "10     LVA                       0.193810\n",
      "11     BGR                       0.156209\n",
      "12     POL                       0.136753\n",
      "13     LUX                       0.134392\n",
      "14     PRT                       0.114724\n",
      "\n",
      "\n",
      "--------------------\n",
      "\n",
      "\n",
      "Tertiary subject: 3.70.13\n"
     ]
    },
    {
     "name": "stderr",
     "output_type": "stream",
     "text": [
      "Processing bills: 100%|██████████| 17/17 [00:14<00:00,  1.15it/s]\n"
     ]
    },
    {
     "name": "stdout",
     "output_type": "stream",
     "text": [
      "  Country  EP Group vs Nationality Index\n",
      "0     CYP                       0.261961\n",
      "1     IRL                       0.259271\n",
      "2     LUX                       0.245882\n",
      "3     FRA                       0.224255\n",
      "4     MLT                       0.183922\n",
      "5     PRT                       0.169412\n",
      "6     SVN                       0.165882\n",
      "7     ESP                       0.159846\n",
      "8     DNK                       0.152359\n",
      "9     EST                       0.129972\n",
      "\n",
      "\n",
      "--------------------\n",
      "\n",
      "\n",
      "Tertiary subject: 4.20.06\n"
     ]
    },
    {
     "name": "stderr",
     "output_type": "stream",
     "text": [
      "Processing bills: 100%|██████████| 8/8 [00:06<00:00,  1.16it/s]\n"
     ]
    },
    {
     "name": "stdout",
     "output_type": "stream",
     "text": [
      "  Country  EP Group vs Nationality Index\n",
      "0     CYP                       0.475000\n",
      "1     IRL                       0.301154\n",
      "2     LUX                       0.293333\n",
      "3     HUN                       0.285833\n",
      "4     ROU                       0.207491\n",
      "5     SVN                       0.196250\n",
      "6     BGR                       0.190000\n",
      "7     LTU                       0.162045\n",
      "8     HRV                       0.155000\n",
      "\n",
      "\n",
      "--------------------\n",
      "\n",
      "\n",
      "Tertiary subject: 3.70.20\n"
     ]
    },
    {
     "name": "stderr",
     "output_type": "stream",
     "text": [
      "Processing bills: 100%|██████████| 27/27 [00:21<00:00,  1.27it/s]\n"
     ]
    },
    {
     "name": "stdout",
     "output_type": "stream",
     "text": [
      "   Country  EP Group vs Nationality Index\n",
      "0      SVN                       0.385556\n",
      "1      LUX                       0.302963\n",
      "2      MLT                       0.299012\n",
      "3      PRT                       0.294991\n",
      "4      IRL                       0.265641\n",
      "5      DNK                       0.244656\n",
      "6      CYP                       0.226667\n",
      "7      ROU                       0.213199\n",
      "8      EST                       0.203915\n",
      "9      ESP                       0.181301\n",
      "10     LTU                       0.181077\n",
      "11     LVA                       0.159630\n",
      "12     HUN                       0.157601\n",
      "13     AUT                       0.133762\n",
      "14     HRV                       0.117284\n",
      "15     BGR                       0.106057\n",
      "\n",
      "\n",
      "--------------------\n",
      "\n",
      "\n",
      "Tertiary subject: 4.70.04\n"
     ]
    },
    {
     "name": "stderr",
     "output_type": "stream",
     "text": [
      "Processing bills: 100%|██████████| 3/3 [00:02<00:00,  1.29it/s]\n"
     ]
    },
    {
     "name": "stdout",
     "output_type": "stream",
     "text": [
      "  Country  EP Group vs Nationality Index\n",
      "0     SVN                       0.466667\n",
      "1     BGR                       0.423137\n",
      "2     LUX                       0.382222\n",
      "3     EST                       0.280952\n",
      "4     ROU                       0.264848\n",
      "5     ESP                       0.257514\n",
      "6     LTU                       0.251515\n",
      "7     MLT                       0.224444\n",
      "8     HRV                       0.182222\n",
      "9     LVA                       0.173333\n",
      "\n",
      "\n",
      "--------------------\n",
      "\n",
      "\n",
      "Tertiary subject: 3.30.16\n"
     ]
    },
    {
     "name": "stderr",
     "output_type": "stream",
     "text": [
      "Processing bills: 100%|██████████| 9/9 [00:07<00:00,  1.15it/s]\n"
     ]
    },
    {
     "name": "stdout",
     "output_type": "stream",
     "text": [
      "   Country  EP Group vs Nationality Index\n",
      "0      LUX                       0.391111\n",
      "1      SVN                       0.367778\n",
      "2      EST                       0.330053\n",
      "3      POL                       0.287200\n",
      "4      SWE                       0.286138\n",
      "5      LTU                       0.261414\n",
      "6      LVA                       0.255556\n",
      "7      MLT                       0.251111\n",
      "8      ROU                       0.224040\n",
      "9      FIN                       0.196337\n",
      "10     AUT                       0.180390\n",
      "11     DNK                       0.162051\n",
      "12     ESP                       0.139748\n",
      "\n",
      "\n",
      "--------------------\n",
      "\n",
      "\n",
      "Tertiary subject: 3.10.04\n"
     ]
    },
    {
     "name": "stderr",
     "output_type": "stream",
     "text": [
      "Processing bills: 100%|██████████| 7/7 [00:06<00:00,  1.11it/s]\n"
     ]
    },
    {
     "name": "stdout",
     "output_type": "stream",
     "text": [
      "  Country  EP Group vs Nationality Index\n",
      "0     LUX                       0.341905\n",
      "1     SVN                       0.265714\n",
      "2     MLT                       0.236190\n",
      "3     BGR                       0.221513\n",
      "4     LTU                       0.208831\n",
      "5     POL                       0.206813\n",
      "6     LVA                       0.190000\n",
      "\n",
      "\n",
      "--------------------\n",
      "\n",
      "\n",
      "Tertiary subject: 4.20.04\n"
     ]
    },
    {
     "name": "stderr",
     "output_type": "stream",
     "text": [
      "Processing bills: 100%|██████████| 10/10 [00:08<00:00,  1.13it/s]\n"
     ]
    },
    {
     "name": "stdout",
     "output_type": "stream",
     "text": [
      "   Country  EP Group vs Nationality Index\n",
      "0      SVN                       0.360000\n",
      "1      LUX                       0.260000\n",
      "2      IRL                       0.249385\n",
      "3      PRT                       0.220476\n",
      "4      MLT                       0.218667\n",
      "5      LVA                       0.191000\n",
      "6      DNK                       0.172571\n",
      "7      BGR                       0.164941\n",
      "8      AUT                       0.160105\n",
      "9      SWE                       0.158286\n",
      "10     ESP                       0.155356\n",
      "11     LTU                       0.144727\n",
      "12     FIN                       0.070571\n",
      "\n",
      "\n",
      "--------------------\n",
      "\n",
      "\n",
      "Tertiary subject: 3.40.01\n"
     ]
    },
    {
     "name": "stderr",
     "output_type": "stream",
     "text": [
      "Processing bills: 100%|██████████| 7/7 [00:06<00:00,  1.10it/s]\n"
     ]
    },
    {
     "name": "stdout",
     "output_type": "stream",
     "text": [
      "  Country  EP Group vs Nationality Index\n",
      "0     CYP                       0.451429\n",
      "1     SVN                       0.340000\n",
      "2     LUX                       0.317143\n",
      "3     FIN                       0.276452\n",
      "4     EST                       0.223946\n",
      "5     DNK                       0.219969\n",
      "6     IRL                       0.216104\n",
      "7     ESP                       0.175487\n",
      "8     HUN                       0.161769\n",
      "9     PRT                       0.123946\n",
      "\n",
      "\n",
      "--------------------\n",
      "\n",
      "\n",
      "Tertiary subject: 4.10.14\n"
     ]
    },
    {
     "name": "stderr",
     "output_type": "stream",
     "text": [
      "Processing bills: 100%|██████████| 3/3 [00:02<00:00,  1.07it/s]\n"
     ]
    },
    {
     "name": "stdout",
     "output_type": "stream",
     "text": [
      "  Country  EP Group vs Nationality Index\n",
      "0     LUX                       0.486667\n",
      "1     CYP                       0.357778\n",
      "\n",
      "\n",
      "--------------------\n",
      "\n",
      "\n",
      "Tertiary subject: 4.60.06\n"
     ]
    },
    {
     "name": "stderr",
     "output_type": "stream",
     "text": [
      "Processing bills: 100%|██████████| 26/26 [00:24<00:00,  1.07it/s]\n"
     ]
    },
    {
     "name": "stdout",
     "output_type": "stream",
     "text": [
      "   Country  EP Group vs Nationality Index\n",
      "0      SVN                       0.266923\n",
      "1      EST                       0.253590\n",
      "2      LUX                       0.191026\n",
      "3      POL                       0.185908\n",
      "4      IRL                       0.178931\n",
      "5      ROU                       0.131626\n",
      "6      LTU                       0.130979\n",
      "7      HRV                       0.127483\n",
      "8      BGR                       0.109593\n",
      "9      DNK                       0.107684\n",
      "10     PRT                       0.103260\n",
      "11     LVA                       0.101923\n",
      "12     ESP                       0.091325\n",
      "13     CZE                       0.085678\n",
      "\n",
      "\n",
      "--------------------\n",
      "\n",
      "\n",
      "Tertiary subject: 3.10.06\n"
     ]
    },
    {
     "name": "stderr",
     "output_type": "stream",
     "text": [
      "Processing bills: 100%|██████████| 15/15 [00:13<00:00,  1.12it/s]\n"
     ]
    },
    {
     "name": "stdout",
     "output_type": "stream",
     "text": [
      "  Country  EP Group vs Nationality Index\n",
      "0     HUN                       0.276762\n",
      "1     CYP                       0.269333\n",
      "2     SVN                       0.253333\n",
      "3     LVA                       0.236000\n",
      "4     AUT                       0.180834\n",
      "5     FRA                       0.165193\n",
      "6     MLT                       0.157333\n",
      "7     HRV                       0.155313\n",
      "8     BEL                       0.092444\n",
      "9     SWE                       0.084127\n",
      "\n",
      "\n",
      "--------------------\n",
      "\n",
      "\n",
      "Tertiary subject: 3.45.01\n"
     ]
    },
    {
     "name": "stderr",
     "output_type": "stream",
     "text": [
      "Processing bills: 100%|██████████| 11/11 [00:09<00:00,  1.12it/s]\n"
     ]
    },
    {
     "name": "stdout",
     "output_type": "stream",
     "text": [
      "  Country  EP Group vs Nationality Index\n",
      "0     LUX                       0.474545\n",
      "1     IRL                       0.397597\n",
      "2     PRT                       0.261558\n",
      "3     SVN                       0.217273\n",
      "4     ESP                       0.215740\n",
      "5     LTU                       0.179669\n",
      "6     POL                       0.163159\n",
      "7     BEL                       0.143117\n",
      "8     SVK                       0.124715\n",
      "\n",
      "\n",
      "--------------------\n",
      "\n",
      "\n",
      "Tertiary subject: 3.45.04\n"
     ]
    },
    {
     "name": "stderr",
     "output_type": "stream",
     "text": [
      "Processing bills: 100%|██████████| 12/12 [00:11<00:00,  1.08it/s]\n"
     ]
    },
    {
     "name": "stdout",
     "output_type": "stream",
     "text": [
      "   Country  EP Group vs Nationality Index\n",
      "0      SVN                       0.365000\n",
      "1      LUX                       0.352222\n",
      "2      IRL                       0.248695\n",
      "3      ITA                       0.227880\n",
      "4      LTU                       0.212576\n",
      "5      SWE                       0.202460\n",
      "6      PRT                       0.164683\n",
      "7      AUT                       0.159756\n",
      "8      EST                       0.156825\n",
      "9      SVK                       0.146227\n",
      "10     ESP                       0.143098\n",
      "11     FRA                       0.128980\n",
      "12     ROU                       0.127342\n",
      "13     DEU                       0.061250\n",
      "\n",
      "\n",
      "--------------------\n",
      "\n",
      "\n",
      "Tertiary subject: 3.40.06\n"
     ]
    },
    {
     "name": "stderr",
     "output_type": "stream",
     "text": [
      "Processing bills: 100%|██████████| 19/19 [00:16<00:00,  1.18it/s]\n"
     ]
    },
    {
     "name": "stdout",
     "output_type": "stream",
     "text": [
      "  Country  EP Group vs Nationality Index\n",
      "0     SVN                       0.214211\n",
      "1     MLT                       0.205965\n",
      "2     BGR                       0.205511\n",
      "3     POL                       0.180360\n",
      "4     ROU                       0.155630\n",
      "5     LUX                       0.149474\n",
      "6     LTU                       0.137225\n",
      "7     HUN                       0.129323\n",
      "8     LVA                       0.086316\n",
      "\n",
      "\n",
      "--------------------\n",
      "\n",
      "\n",
      "Tertiary subject: 1.20.02\n"
     ]
    },
    {
     "name": "stderr",
     "output_type": "stream",
     "text": [
      "Processing bills: 100%|██████████| 3/3 [00:02<00:00,  1.08it/s]\n"
     ]
    },
    {
     "name": "stdout",
     "output_type": "stream",
     "text": [
      "  Country  EP Group vs Nationality Index\n",
      "0     IRL                       0.148718\n",
      "\n",
      "\n",
      "--------------------\n",
      "\n",
      "\n",
      "Tertiary subject: 4.10.06\n"
     ]
    },
    {
     "name": "stderr",
     "output_type": "stream",
     "text": [
      "Processing bills: 100%|██████████| 7/7 [00:06<00:00,  1.10it/s]\n"
     ]
    },
    {
     "name": "stdout",
     "output_type": "stream",
     "text": [
      "  Country  EP Group vs Nationality Index\n",
      "0     CYP                       0.274286\n",
      "1     SVN                       0.250000\n",
      "2     LUX                       0.215238\n",
      "3     PRT                       0.198367\n",
      "4     IRL                       0.178681\n",
      "5     FRA                       0.146184\n",
      "6     DNK                       0.087755\n",
      "\n",
      "\n",
      "--------------------\n",
      "\n",
      "\n",
      "Tertiary subject: 4.10.08\n"
     ]
    },
    {
     "name": "stderr",
     "output_type": "stream",
     "text": [
      "Processing bills: 100%|██████████| 18/18 [00:16<00:00,  1.12it/s]\n"
     ]
    },
    {
     "name": "stdout",
     "output_type": "stream",
     "text": [
      "   Country  EP Group vs Nationality Index\n",
      "0      LUX                       0.511481\n",
      "1      IRL                       0.431026\n",
      "2      PRT                       0.365079\n",
      "3      CYP                       0.333704\n",
      "4      MLT                       0.306667\n",
      "5      ESP                       0.251699\n",
      "6      SWE                       0.228307\n",
      "7      DNK                       0.218571\n",
      "8      LTU                       0.218485\n",
      "9      DEU                       0.172593\n",
      "10     EST                       0.156984\n",
      "11     SVN                       0.154444\n",
      "12     ROU                       0.153434\n",
      "13     FIN                       0.149683\n",
      "14     LVA                       0.111111\n",
      "15     NLD                       0.108582\n",
      "16     BEL                       0.102169\n",
      "17     AUT                       0.086257\n",
      "\n",
      "\n",
      "--------------------\n",
      "\n",
      "\n",
      "Tertiary subject: 4.70.01\n"
     ]
    },
    {
     "name": "stderr",
     "output_type": "stream",
     "text": [
      "Processing bills: 100%|██████████| 18/18 [00:15<00:00,  1.16it/s]\n"
     ]
    },
    {
     "name": "stdout",
     "output_type": "stream",
     "text": [
      "   Country  EP Group vs Nationality Index\n",
      "0      SVN                       0.351667\n",
      "1      LUX                       0.346296\n",
      "2      ROU                       0.268721\n",
      "3      MLT                       0.264444\n",
      "4      BGR                       0.245229\n",
      "5      LTU                       0.212323\n",
      "6      LVA                       0.196111\n",
      "7      EST                       0.179841\n",
      "8      ESP                       0.178503\n",
      "9      PRT                       0.175291\n",
      "10     IRL                       0.140285\n",
      "11     HRV                       0.138519\n",
      "12     HUN                       0.120635\n",
      "13     AUT                       0.086608\n",
      "\n",
      "\n",
      "--------------------\n",
      "\n",
      "\n",
      "Tertiary subject: 4.70.02\n"
     ]
    },
    {
     "name": "stderr",
     "output_type": "stream",
     "text": [
      "Processing bills: 100%|██████████| 11/11 [00:09<00:00,  1.14it/s]\n"
     ]
    },
    {
     "name": "stdout",
     "output_type": "stream",
     "text": [
      "  Country  EP Group vs Nationality Index\n",
      "0     IRL                       0.337063\n",
      "1     SVN                       0.310909\n",
      "2     LVA                       0.260000\n",
      "3     LUX                       0.254545\n",
      "4     LTU                       0.248595\n",
      "5     CYP                       0.244242\n",
      "6     ROU                       0.222865\n",
      "7     MLT                       0.204242\n",
      "8     BGR                       0.173262\n",
      "9     ESP                       0.121572\n",
      "\n",
      "\n",
      "--------------------\n",
      "\n",
      "\n",
      "Tertiary subject: 6.40.10\n"
     ]
    },
    {
     "name": "stderr",
     "output_type": "stream",
     "text": [
      "Processing bills: 100%|██████████| 8/8 [00:06<00:00,  1.18it/s]\n"
     ]
    },
    {
     "name": "stdout",
     "output_type": "stream",
     "text": [
      "   Country  EP Group vs Nationality Index\n",
      "0      SVN                       0.502500\n",
      "1      LUX                       0.331667\n",
      "2      MLT                       0.278333\n",
      "3      EST                       0.269286\n",
      "4      ROU                       0.234091\n",
      "5      AUT                       0.232895\n",
      "6      LTU                       0.224091\n",
      "7      DNK                       0.199643\n",
      "8      HUN                       0.160833\n",
      "9      BGR                       0.139412\n",
      "10     SWE                       0.137024\n",
      "11     LVA                       0.117500\n",
      "\n",
      "\n",
      "--------------------\n",
      "\n",
      "\n",
      "Tertiary subject: 7.30.12\n"
     ]
    },
    {
     "name": "stderr",
     "output_type": "stream",
     "text": [
      "Processing bills: 100%|██████████| 2/2 [00:01<00:00,  1.25it/s]\n"
     ]
    },
    {
     "name": "stdout",
     "output_type": "stream",
     "text": [
      "  Country  EP Group vs Nationality Index\n",
      "0     IRL                       0.333077\n",
      "1     CYP                       0.323333\n",
      "2     DNK                       0.247143\n",
      "3     LVA                       0.235000\n",
      "4     NLD                       0.183103\n",
      "\n",
      "\n",
      "--------------------\n",
      "\n",
      "\n",
      "Tertiary subject: 2.50.03\n"
     ]
    },
    {
     "name": "stderr",
     "output_type": "stream",
     "text": [
      "Processing bills: 100%|██████████| 40/40 [00:34<00:00,  1.15it/s]\n"
     ]
    },
    {
     "name": "stdout",
     "output_type": "stream",
     "text": [
      "   Country  EP Group vs Nationality Index\n",
      "0      SVN                       0.417750\n",
      "1      LUX                       0.306667\n",
      "2      MLT                       0.223833\n",
      "3      POL                       0.214472\n",
      "4      BGR                       0.212765\n",
      "5      EST                       0.206929\n",
      "6      HUN                       0.199786\n",
      "7      ROU                       0.188091\n",
      "8      LTU                       0.131773\n",
      "9      DNK                       0.123357\n",
      "10     LVA                       0.120250\n",
      "11     NLD                       0.114500\n",
      "12     SVK                       0.112857\n",
      "13     ESP                       0.106279\n",
      "14     CZE                       0.066190\n",
      "15     PRT                       0.063833\n",
      "\n",
      "\n",
      "--------------------\n",
      "\n",
      "\n",
      "Tertiary subject: 2.50.05\n"
     ]
    },
    {
     "name": "stderr",
     "output_type": "stream",
     "text": [
      "Processing bills: 100%|██████████| 11/11 [00:09<00:00,  1.15it/s]\n"
     ]
    },
    {
     "name": "stdout",
     "output_type": "stream",
     "text": [
      "   Country  EP Group vs Nationality Index\n",
      "0      SVN                       0.555455\n",
      "1      LUX                       0.361818\n",
      "2      BGR                       0.353155\n",
      "3      MLT                       0.329697\n",
      "4      ROU                       0.321433\n",
      "5      EST                       0.283377\n",
      "6      POL                       0.280699\n",
      "7      HUN                       0.236537\n",
      "8      SVK                       0.198701\n",
      "9      DNK                       0.168052\n",
      "10     LTU                       0.091736\n",
      "\n",
      "\n",
      "--------------------\n",
      "\n",
      "\n",
      "Tertiary subject: 4.20.01\n"
     ]
    },
    {
     "name": "stderr",
     "output_type": "stream",
     "text": [
      "Processing bills: 100%|██████████| 38/38 [00:33<00:00,  1.15it/s]\n"
     ]
    },
    {
     "name": "stdout",
     "output_type": "stream",
     "text": [
      "   Country  EP Group vs Nationality Index\n",
      "0      LUX                       0.328421\n",
      "1      MLT                       0.301579\n",
      "2      SVN                       0.252368\n",
      "3      PRT                       0.201704\n",
      "4      ROU                       0.191866\n",
      "5      CYP                       0.190000\n",
      "6      ESP                       0.188509\n",
      "7      HUN                       0.178571\n",
      "8      LVA                       0.176316\n",
      "9      BGR                       0.162353\n",
      "10     IRL                       0.161943\n",
      "11     EST                       0.154135\n",
      "12     LTU                       0.145407\n",
      "13     DNK                       0.115865\n",
      "14     SWE                       0.068020\n",
      "\n",
      "\n",
      "--------------------\n",
      "\n",
      "\n",
      "Tertiary subject: 3.45.05\n"
     ]
    },
    {
     "name": "stderr",
     "output_type": "stream",
     "text": [
      "Processing bills: 100%|██████████| 12/12 [00:10<00:00,  1.16it/s]\n"
     ]
    },
    {
     "name": "stdout",
     "output_type": "stream",
     "text": [
      "  Country  EP Group vs Nationality Index\n",
      "0     IRL                       0.267949\n",
      "1     POL                       0.263934\n",
      "2     SVN                       0.260833\n",
      "3     LUX                       0.233333\n",
      "4     EST                       0.181190\n",
      "5     HRV                       0.160000\n",
      "6     BGR                       0.159902\n",
      "7     DNK                       0.135000\n",
      "8     PRT                       0.104762\n",
      "9     ESP                       0.095907\n",
      "\n",
      "\n",
      "--------------------\n",
      "\n",
      "\n",
      "Tertiary subject: 4.40.10\n"
     ]
    },
    {
     "name": "stderr",
     "output_type": "stream",
     "text": [
      "Processing bills: 100%|██████████| 8/8 [00:06<00:00,  1.17it/s]\n"
     ]
    },
    {
     "name": "stdout",
     "output_type": "stream",
     "text": [
      "   Country  EP Group vs Nationality Index\n",
      "0      CYP                       0.390833\n",
      "1      IRL                       0.331346\n",
      "2      PRT                       0.318452\n",
      "3      LTU                       0.313864\n",
      "4      LVA                       0.303750\n",
      "5      ROU                       0.281136\n",
      "6      SVN                       0.273750\n",
      "7      LUX                       0.263333\n",
      "8      MLT                       0.205000\n",
      "9      POL                       0.177515\n",
      "10     ESP                       0.165702\n",
      "11     BGR                       0.153088\n",
      "\n",
      "\n",
      "--------------------\n",
      "\n",
      "\n",
      "Tertiary subject: 3.70.10\n"
     ]
    },
    {
     "name": "stderr",
     "output_type": "stream",
     "text": [
      "Processing bills: 100%|██████████| 3/3 [00:02<00:00,  1.16it/s]\n"
     ]
    },
    {
     "name": "stdout",
     "output_type": "stream",
     "text": [
      "  Country  EP Group vs Nationality Index\n",
      "0     ESP                       0.205537\n",
      "1     SVN                       0.176667\n",
      "\n",
      "\n",
      "--------------------\n",
      "\n",
      "\n",
      "Tertiary subject: 6.10.05\n"
     ]
    },
    {
     "name": "stderr",
     "output_type": "stream",
     "text": [
      "Processing bills: 100%|██████████| 13/13 [00:11<00:00,  1.13it/s]\n"
     ]
    },
    {
     "name": "stdout",
     "output_type": "stream",
     "text": [
      "  Country  EP Group vs Nationality Index\n",
      "0     SVN                       0.318462\n",
      "1     POL                       0.233728\n",
      "2     LUX                       0.212308\n",
      "3     SWE                       0.147692\n",
      "4     LTU                       0.120000\n",
      "5     ESP                       0.117132\n",
      "6     PRT                       0.109158\n",
      "\n",
      "\n",
      "--------------------\n",
      "\n",
      "\n",
      "Tertiary subject: 4.20.02\n"
     ]
    },
    {
     "name": "stderr",
     "output_type": "stream",
     "text": [
      "Processing bills: 100%|██████████| 4/4 [00:03<00:00,  1.20it/s]\n"
     ]
    },
    {
     "name": "stdout",
     "output_type": "stream",
     "text": [
      "  Country  EP Group vs Nationality Index\n",
      "0     CYP                       0.450000\n",
      "1     LUX                       0.401667\n",
      "2     IRL                       0.396538\n",
      "3     DNK                       0.185000\n",
      "4     BEL                       0.136667\n",
      "5     ESP                       0.131441\n",
      "\n",
      "\n",
      "--------------------\n",
      "\n",
      "\n",
      "Tertiary subject: 4.20.05\n"
     ]
    },
    {
     "name": "stderr",
     "output_type": "stream",
     "text": [
      "Processing bills: 100%|██████████| 7/7 [00:06<00:00,  1.15it/s]\n"
     ]
    },
    {
     "name": "stdout",
     "output_type": "stream",
     "text": [
      "  Country  EP Group vs Nationality Index\n",
      "0     SVN                       0.394286\n",
      "1     LUX                       0.349524\n",
      "2     IRL                       0.275385\n",
      "3     DNK                       0.226531\n",
      "4     EST                       0.225714\n",
      "5     MLT                       0.225714\n",
      "6     HUN                       0.153333\n",
      "7     ESP                       0.150413\n",
      "8     ROU                       0.130649\n",
      "\n",
      "\n",
      "--------------------\n",
      "\n",
      "\n",
      "Tertiary subject: 4.70.07\n"
     ]
    },
    {
     "name": "stderr",
     "output_type": "stream",
     "text": [
      "Processing bills: 100%|██████████| 1/1 [00:00<00:00,  1.04it/s]\n"
     ]
    },
    {
     "name": "stdout",
     "output_type": "stream",
     "text": [
      "Empty DataFrame\n",
      "Columns: [Country, EP Group vs Nationality Index]\n",
      "Index: []\n",
      "\n",
      "\n",
      "--------------------\n",
      "\n",
      "\n",
      "Tertiary subject: 4.10.15\n"
     ]
    },
    {
     "name": "stderr",
     "output_type": "stream",
     "text": [
      "Processing bills: 100%|██████████| 1/1 [00:00<00:00,  1.16it/s]\n"
     ]
    },
    {
     "name": "stdout",
     "output_type": "stream",
     "text": [
      "Empty DataFrame\n",
      "Columns: [Country, EP Group vs Nationality Index]\n",
      "Index: []\n",
      "\n",
      "\n",
      "--------------------\n",
      "\n",
      "\n",
      "Tertiary subject: 7.30.08\n"
     ]
    },
    {
     "name": "stderr",
     "output_type": "stream",
     "text": [
      "Processing bills: 100%|██████████| 7/7 [00:06<00:00,  1.11it/s]\n"
     ]
    },
    {
     "name": "stdout",
     "output_type": "stream",
     "text": [
      "   Country  EP Group vs Nationality Index\n",
      "0      LUX                       0.500000\n",
      "1      PRT                       0.459728\n",
      "2      IRL                       0.456923\n",
      "3      MLT                       0.428571\n",
      "4      SVN                       0.422857\n",
      "5      ROU                       0.300606\n",
      "6      LTU                       0.288312\n",
      "7      ESP                       0.285372\n",
      "8      BGR                       0.247395\n",
      "9      LVA                       0.228571\n",
      "10     DEU                       0.219643\n",
      "11     FIN                       0.207347\n",
      "12     HRV                       0.156190\n",
      "13     NLD                       0.108079\n",
      "\n",
      "\n",
      "--------------------\n",
      "\n",
      "\n",
      "Tertiary subject: 8.40.03\n"
     ]
    },
    {
     "name": "stderr",
     "output_type": "stream",
     "text": [
      "Processing bills: 100%|██████████| 3/3 [00:02<00:00,  1.19it/s]\n"
     ]
    },
    {
     "name": "stdout",
     "output_type": "stream",
     "text": [
      "  Country  EP Group vs Nationality Index\n",
      "0     CYP                       0.333333\n",
      "1     SVN                       0.183333\n",
      "\n",
      "\n",
      "--------------------\n",
      "\n",
      "\n",
      "Tertiary subject: 3.30.05\n"
     ]
    },
    {
     "name": "stderr",
     "output_type": "stream",
     "text": [
      "Processing bills: 100%|██████████| 5/5 [00:04<00:00,  1.07it/s]\n"
     ]
    },
    {
     "name": "stdout",
     "output_type": "stream",
     "text": [
      "  Country  EP Group vs Nationality Index\n",
      "0     EST                       0.403429\n",
      "1     LUX                       0.296000\n",
      "2     ITA                       0.167579\n",
      "3     SVK                       0.160571\n",
      "4     ESP                       0.095661\n",
      "\n",
      "\n",
      "--------------------\n",
      "\n",
      "\n",
      "Tertiary subject: 3.45.03\n"
     ]
    },
    {
     "name": "stderr",
     "output_type": "stream",
     "text": [
      "Processing bills: 100%|██████████| 8/8 [00:07<00:00,  1.11it/s]\n"
     ]
    },
    {
     "name": "stdout",
     "output_type": "stream",
     "text": [
      "  Country  EP Group vs Nationality Index\n",
      "0     LUX                       0.387500\n",
      "1     IRL                       0.310000\n",
      "2     MLT                       0.255000\n",
      "3     ESP                       0.236645\n",
      "4     LTU                       0.176364\n",
      "5     POL                       0.125962\n",
      "\n",
      "\n",
      "--------------------\n",
      "\n",
      "\n",
      "Tertiary subject: 3.70.16\n"
     ]
    },
    {
     "name": "stderr",
     "output_type": "stream",
     "text": [
      "Processing bills: 100%|██████████| 4/4 [00:03<00:00,  1.14it/s]\n"
     ]
    },
    {
     "name": "stdout",
     "output_type": "stream",
     "text": [
      "   Country  EP Group vs Nationality Index\n",
      "0      LUX                       0.425000\n",
      "1      IRL                       0.393077\n",
      "2      SVN                       0.310000\n",
      "3      ESP                       0.233136\n",
      "4      SVK                       0.213571\n",
      "5      FIN                       0.204286\n",
      "6      DNK                       0.200000\n",
      "7      EST                       0.199286\n",
      "8      DEU                       0.177083\n",
      "9      SWE                       0.161667\n",
      "10     AUT                       0.105263\n",
      "\n",
      "\n",
      "--------------------\n",
      "\n",
      "\n",
      "Tertiary subject: 4.10.05\n"
     ]
    },
    {
     "name": "stderr",
     "output_type": "stream",
     "text": [
      "Processing bills: 100%|██████████| 14/14 [00:12<00:00,  1.14it/s]\n"
     ]
    },
    {
     "name": "stdout",
     "output_type": "stream",
     "text": [
      "   Country  EP Group vs Nationality Index\n",
      "0      LUX                       0.477619\n",
      "1      CYP                       0.468571\n",
      "2      PRT                       0.465578\n",
      "3      SVN                       0.410714\n",
      "4      IRL                       0.378791\n",
      "5      ROU                       0.309481\n",
      "6      LTU                       0.289091\n",
      "7      MLT                       0.263810\n",
      "8      HUN                       0.245442\n",
      "9      EST                       0.232449\n",
      "10     HRV                       0.222857\n",
      "11     ESP                       0.205026\n",
      "12     BGR                       0.134874\n",
      "13     LVA                       0.100714\n",
      "14     AUT                       0.086165\n",
      "\n",
      "\n",
      "--------------------\n",
      "\n",
      "\n",
      "Tertiary subject: 4.15.14\n"
     ]
    },
    {
     "name": "stderr",
     "output_type": "stream",
     "text": [
      "Processing bills: 100%|██████████| 2/2 [00:01<00:00,  1.16it/s]\n"
     ]
    },
    {
     "name": "stdout",
     "output_type": "stream",
     "text": [
      "  Country  EP Group vs Nationality Index\n",
      "0     PRT                       0.401905\n",
      "1     ESP                       0.364302\n",
      "2     FIN                       0.354286\n",
      "3     ROU                       0.327273\n",
      "4     IRL                       0.316154\n",
      "5     MLT                       0.286667\n",
      "\n",
      "\n",
      "--------------------\n",
      "\n",
      "\n",
      "Tertiary subject: 4.15.06\n"
     ]
    },
    {
     "name": "stderr",
     "output_type": "stream",
     "text": [
      "Processing bills: 100%|██████████| 2/2 [00:01<00:00,  1.20it/s]\n"
     ]
    },
    {
     "name": "stdout",
     "output_type": "stream",
     "text": [
      "  Country  EP Group vs Nationality Index\n",
      "0     CYP                       0.260000\n",
      "1     ITA                       0.077895\n",
      "\n",
      "\n",
      "--------------------\n",
      "\n",
      "\n",
      "Tertiary subject: 4.40.15\n"
     ]
    },
    {
     "name": "stderr",
     "output_type": "stream",
     "text": [
      "Processing bills: 100%|██████████| 8/8 [00:07<00:00,  1.10it/s]\n"
     ]
    },
    {
     "name": "stdout",
     "output_type": "stream",
     "text": [
      "  Country  EP Group vs Nationality Index\n",
      "0     IRL                       0.366538\n",
      "1     CYP                       0.320000\n",
      "2     POL                       0.258284\n",
      "3     SVN                       0.232500\n",
      "4     LTU                       0.220455\n",
      "5     ROU                       0.212576\n",
      "6     LUX                       0.187500\n",
      "7     LVA                       0.177500\n",
      "8     PRT                       0.173810\n",
      "9     BGR                       0.133676\n",
      "\n",
      "\n",
      "--------------------\n",
      "\n",
      "\n",
      "Tertiary subject: 3.70.12\n"
     ]
    },
    {
     "name": "stderr",
     "output_type": "stream",
     "text": [
      "Processing bills: 100%|██████████| 11/11 [00:09<00:00,  1.16it/s]\n"
     ]
    },
    {
     "name": "stdout",
     "output_type": "stream",
     "text": [
      "   Country  EP Group vs Nationality Index\n",
      "0      SVN                       0.416364\n",
      "1      IRL                       0.284336\n",
      "2      LUX                       0.216970\n",
      "3      DNK                       0.212987\n",
      "4      PRT                       0.211169\n",
      "5      BGR                       0.167807\n",
      "6      HUN                       0.152900\n",
      "7      ESP                       0.132076\n",
      "8      EST                       0.125974\n",
      "9      LTU                       0.120165\n",
      "10     DEU                       0.114621\n",
      "11     NLD                       0.074734\n",
      "\n",
      "\n",
      "--------------------\n",
      "\n",
      "\n",
      "Tertiary subject: 3.40.04\n"
     ]
    },
    {
     "name": "stderr",
     "output_type": "stream",
     "text": [
      "Processing bills: 100%|██████████| 1/1 [00:00<00:00,  1.28it/s]\n"
     ]
    },
    {
     "name": "stdout",
     "output_type": "stream",
     "text": [
      "Empty DataFrame\n",
      "Columns: [Country, EP Group vs Nationality Index]\n",
      "Index: []\n",
      "\n",
      "\n",
      "--------------------\n",
      "\n",
      "\n",
      "Tertiary subject: 6.40.07\n"
     ]
    },
    {
     "name": "stderr",
     "output_type": "stream",
     "text": [
      "Processing bills: 100%|██████████| 5/5 [00:04<00:00,  1.10it/s]\n"
     ]
    },
    {
     "name": "stdout",
     "output_type": "stream",
     "text": [
      "  Country  EP Group vs Nationality Index\n",
      "0     LUX                       0.638667\n",
      "1     MLT                       0.449333\n",
      "2     ROU                       0.328242\n",
      "3     SWE                       0.276000\n",
      "4     LTU                       0.251636\n",
      "5     PRT                       0.244952\n",
      "6     DNK                       0.204571\n",
      "\n",
      "\n",
      "--------------------\n",
      "\n",
      "\n",
      "Tertiary subject: 4.40.01\n"
     ]
    },
    {
     "name": "stderr",
     "output_type": "stream",
     "text": [
      "Processing bills: 100%|██████████| 12/12 [00:10<00:00,  1.17it/s]\n"
     ]
    },
    {
     "name": "stdout",
     "output_type": "stream",
     "text": [
      "   Country  EP Group vs Nationality Index\n",
      "0      IRL                       0.392051\n",
      "1      LUX                       0.321667\n",
      "2      CYP                       0.315556\n",
      "3      LTU                       0.289848\n",
      "4      LVA                       0.267500\n",
      "5      SVN                       0.259167\n",
      "6      ROU                       0.249697\n",
      "7      PRT                       0.245635\n",
      "8      MLT                       0.164444\n",
      "9      ESP                       0.161422\n",
      "10     HUN                       0.124603\n",
      "\n",
      "\n",
      "--------------------\n",
      "\n",
      "\n",
      "Tertiary subject: 4.10.07\n"
     ]
    },
    {
     "name": "stderr",
     "output_type": "stream",
     "text": [
      "Processing bills: 100%|██████████| 2/2 [00:01<00:00,  1.21it/s]\n"
     ]
    },
    {
     "name": "stdout",
     "output_type": "stream",
     "text": [
      "  Country  EP Group vs Nationality Index\n",
      "0     SVN                       0.585000\n",
      "1     HRV                       0.450000\n",
      "2     ESP                       0.371017\n",
      "3     AUT                       0.246316\n",
      "\n",
      "\n",
      "--------------------\n",
      "\n",
      "\n",
      "Tertiary subject: 4.10.11\n"
     ]
    },
    {
     "name": "stderr",
     "output_type": "stream",
     "text": [
      "Processing bills: 100%|██████████| 1/1 [00:00<00:00,  1.21it/s]\n"
     ]
    },
    {
     "name": "stdout",
     "output_type": "stream",
     "text": [
      "Empty DataFrame\n",
      "Columns: [Country, EP Group vs Nationality Index]\n",
      "Index: []\n",
      "\n",
      "\n",
      "--------------------\n",
      "\n",
      "\n",
      "Tertiary subject: 3.30.08\n"
     ]
    },
    {
     "name": "stderr",
     "output_type": "stream",
     "text": [
      "Processing bills: 100%|██████████| 13/13 [00:11<00:00,  1.16it/s]\n"
     ]
    },
    {
     "name": "stdout",
     "output_type": "stream",
     "text": [
      "   Country  EP Group vs Nationality Index\n",
      "0      LUX                       0.408718\n",
      "1      CYP                       0.313846\n",
      "2      IRL                       0.311834\n",
      "3      MLT                       0.271282\n",
      "4      DNK                       0.268791\n",
      "5      PRT                       0.246447\n",
      "6      ROU                       0.239161\n",
      "7      SVN                       0.203077\n",
      "8      SWE                       0.202051\n",
      "9      ESP                       0.146884\n",
      "10     FIN                       0.141978\n",
      "11     BGR                       0.103167\n",
      "\n",
      "\n",
      "--------------------\n",
      "\n",
      "\n",
      "Tertiary subject: 3.50.15\n"
     ]
    },
    {
     "name": "stderr",
     "output_type": "stream",
     "text": [
      "Processing bills: 100%|██████████| 9/9 [00:08<00:00,  1.12it/s]\n"
     ]
    },
    {
     "name": "stdout",
     "output_type": "stream",
     "text": [
      "  Country  EP Group vs Nationality Index\n",
      "0     SVN                       0.366667\n",
      "1     EST                       0.271111\n",
      "2     ROU                       0.230572\n",
      "3     POL                       0.162510\n",
      "4     MLT                       0.161481\n",
      "5     HRV                       0.160000\n",
      "6     LUX                       0.157778\n",
      "7     LTU                       0.134545\n",
      "\n",
      "\n",
      "--------------------\n",
      "\n",
      "\n",
      "Tertiary subject: 3.45.07\n"
     ]
    },
    {
     "name": "stderr",
     "output_type": "stream",
     "text": [
      "Processing bills: 100%|██████████| 4/4 [00:03<00:00,  1.15it/s]\n"
     ]
    },
    {
     "name": "stdout",
     "output_type": "stream",
     "text": [
      "   Country  EP Group vs Nationality Index\n",
      "0      SVN                       0.540000\n",
      "1      IRL                       0.484615\n",
      "2      ESP                       0.385085\n",
      "3      LUX                       0.373333\n",
      "4      BGR                       0.290294\n",
      "5      CYP                       0.255000\n",
      "6      EST                       0.254286\n",
      "7      PRT                       0.210476\n",
      "8      FIN                       0.196429\n",
      "9      LTU                       0.191364\n",
      "10     HRV                       0.181667\n",
      "11     ROU                       0.176515\n",
      "12     DEU                       0.150625\n",
      "13     AUT                       0.138947\n",
      "\n",
      "\n",
      "--------------------\n",
      "\n",
      "\n",
      "Tertiary subject: 4.10.16\n"
     ]
    },
    {
     "name": "stderr",
     "output_type": "stream",
     "text": [
      "Processing bills: 100%|██████████| 5/5 [00:04<00:00,  1.18it/s]\n"
     ]
    },
    {
     "name": "stdout",
     "output_type": "stream",
     "text": [
      "   Country  EP Group vs Nationality Index\n",
      "0      SVN                       0.542000\n",
      "1      IRL                       0.498154\n",
      "2      PRT                       0.364381\n",
      "3      LUX                       0.353333\n",
      "4      CYP                       0.352000\n",
      "5      ESP                       0.293651\n",
      "6      ROU                       0.228000\n",
      "7      BGR                       0.215529\n",
      "8      EST                       0.204000\n",
      "9      LTU                       0.204000\n",
      "10     DEU                       0.187333\n",
      "11     FIN                       0.178286\n",
      "\n",
      "\n",
      "--------------------\n",
      "\n",
      "\n",
      "Tertiary subject: 3.40.07\n"
     ]
    },
    {
     "name": "stderr",
     "output_type": "stream",
     "text": [
      "Processing bills: 100%|██████████| 6/6 [00:05<00:00,  1.19it/s]\n"
     ]
    },
    {
     "name": "stdout",
     "output_type": "stream",
     "text": [
      "  Country  EP Group vs Nationality Index\n",
      "0     SVN                       0.473333\n",
      "1     LUX                       0.430000\n",
      "2     MLT                       0.355556\n",
      "3     ROU                       0.330404\n",
      "4     DNK                       0.320000\n",
      "5     EST                       0.225714\n",
      "6     LVA                       0.225000\n",
      "7     LTU                       0.219697\n",
      "8     ESP                       0.121116\n",
      "9     BEL                       0.117937\n",
      "\n",
      "\n",
      "--------------------\n",
      "\n",
      "\n",
      "Tertiary subject: 6.40.12\n"
     ]
    },
    {
     "name": "stderr",
     "output_type": "stream",
     "text": [
      "Processing bills: 100%|██████████| 3/3 [00:02<00:00,  1.16it/s]\n"
     ]
    },
    {
     "name": "stdout",
     "output_type": "stream",
     "text": [
      "  Country  EP Group vs Nationality Index\n",
      "0     FRA                       0.095949\n",
      "\n",
      "\n",
      "--------------------\n",
      "\n",
      "\n",
      "Tertiary subject: 3.60.08\n"
     ]
    },
    {
     "name": "stderr",
     "output_type": "stream",
     "text": [
      "Processing bills: 100%|██████████| 10/10 [00:08<00:00,  1.18it/s]\n"
     ]
    },
    {
     "name": "stdout",
     "output_type": "stream",
     "text": [
      "   Country  EP Group vs Nationality Index\n",
      "0      SVN                       0.404000\n",
      "1      LUX                       0.396000\n",
      "2      EST                       0.349143\n",
      "3      MLT                       0.316667\n",
      "4      ROU                       0.294424\n",
      "5      LTU                       0.220000\n",
      "6      PRT                       0.212952\n",
      "7      ESP                       0.162404\n",
      "8      HRV                       0.156000\n",
      "9      SWE                       0.146190\n",
      "10     BGR                       0.133647\n",
      "11     AUT                       0.109263\n",
      "\n",
      "\n",
      "--------------------\n",
      "\n",
      "\n",
      "Tertiary subject: 5.10.01\n"
     ]
    },
    {
     "name": "stderr",
     "output_type": "stream",
     "text": [
      "Processing bills: 100%|██████████| 10/10 [00:08<00:00,  1.17it/s]\n"
     ]
    },
    {
     "name": "stdout",
     "output_type": "stream",
     "text": [
      "   Country  EP Group vs Nationality Index\n",
      "0      POL                       0.419077\n",
      "1      SVN                       0.404000\n",
      "2      LUX                       0.340000\n",
      "3      CZE                       0.241810\n",
      "4      HUN                       0.218190\n",
      "5      SVK                       0.216000\n",
      "6      ROU                       0.202667\n",
      "7      SWE                       0.193333\n",
      "8      LVA                       0.189000\n",
      "9      BGR                       0.176118\n",
      "10     DNK                       0.169143\n",
      "11     HRV                       0.166000\n",
      "\n",
      "\n",
      "--------------------\n",
      "\n",
      "\n",
      "Tertiary subject: 3.40.16\n"
     ]
    },
    {
     "name": "stderr",
     "output_type": "stream",
     "text": [
      "Processing bills: 100%|██████████| 2/2 [00:01<00:00,  1.12it/s]\n"
     ]
    },
    {
     "name": "stdout",
     "output_type": "stream",
     "text": [
      "  Country  EP Group vs Nationality Index\n",
      "0     SVN                       0.265000\n",
      "1     HRV                       0.126667\n",
      "2     NLD                       0.095172\n",
      "3     ESP                       0.091017\n",
      "\n",
      "\n",
      "--------------------\n",
      "\n",
      "\n",
      "Tertiary subject: 6.40.04\n"
     ]
    },
    {
     "name": "stderr",
     "output_type": "stream",
     "text": [
      "Processing bills: 100%|██████████| 7/7 [00:05<00:00,  1.18it/s]\n"
     ]
    },
    {
     "name": "stdout",
     "output_type": "stream",
     "text": [
      "  Country  EP Group vs Nationality Index\n",
      "0     LUX                       0.296190\n",
      "1     SWE                       0.264218\n",
      "2     POL                       0.256264\n",
      "3     CZE                       0.222041\n",
      "4     ESP                       0.160533\n",
      "5     NLD                       0.146207\n",
      "\n",
      "\n",
      "--------------------\n",
      "\n",
      "\n",
      "Tertiary subject: 4.10.10\n"
     ]
    },
    {
     "name": "stderr",
     "output_type": "stream",
     "text": [
      "Processing bills: 100%|██████████| 7/7 [00:06<00:00,  1.16it/s]\n"
     ]
    },
    {
     "name": "stdout",
     "output_type": "stream",
     "text": [
      "   Country  EP Group vs Nationality Index\n",
      "0      IRL                       0.537143\n",
      "1      LUX                       0.478095\n",
      "2      PRT                       0.443265\n",
      "3      CYP                       0.422857\n",
      "4      SVN                       0.375714\n",
      "5      LTU                       0.349351\n",
      "6      ROU                       0.280087\n",
      "7      HRV                       0.229524\n",
      "8      ESP                       0.217137\n",
      "9      MLT                       0.204762\n",
      "10     EST                       0.184082\n",
      "11     LVA                       0.180000\n",
      "12     BGR                       0.108739\n",
      "\n",
      "\n",
      "--------------------\n",
      "\n",
      "\n",
      "Tertiary subject: 2.70.01\n"
     ]
    },
    {
     "name": "stderr",
     "output_type": "stream",
     "text": [
      "Processing bills: 100%|██████████| 1/1 [00:00<00:00,  1.19it/s]\n"
     ]
    },
    {
     "name": "stdout",
     "output_type": "stream",
     "text": [
      "Empty DataFrame\n",
      "Columns: [Country, EP Group vs Nationality Index]\n",
      "Index: []\n",
      "\n",
      "\n",
      "--------------------\n",
      "\n",
      "\n",
      "Tertiary subject: 6.40.11\n"
     ]
    },
    {
     "name": "stderr",
     "output_type": "stream",
     "text": [
      "Processing bills: 100%|██████████| 7/7 [00:05<00:00,  1.19it/s]\n"
     ]
    },
    {
     "name": "stdout",
     "output_type": "stream",
     "text": [
      "   Country  EP Group vs Nationality Index\n",
      "0      EST                       0.413878\n",
      "1      SVN                       0.395714\n",
      "2      ROU                       0.395498\n",
      "3      LUX                       0.274286\n",
      "4      POL                       0.252562\n",
      "5      FIN                       0.219592\n",
      "6      HRV                       0.187619\n",
      "7      LTU                       0.185195\n",
      "8      HUN                       0.179184\n",
      "9      CZE                       0.165442\n",
      "10     ITA                       0.143308\n",
      "\n",
      "\n",
      "--------------------\n",
      "\n",
      "\n",
      "Tertiary subject: 4.60.04\n"
     ]
    },
    {
     "name": "stderr",
     "output_type": "stream",
     "text": [
      "Processing bills: 100%|██████████| 21/21 [00:18<00:00,  1.15it/s]\n"
     ]
    },
    {
     "name": "stdout",
     "output_type": "stream",
     "text": [
      "   Country  EP Group vs Nationality Index\n",
      "0      FRA                       0.289102\n",
      "1      IRL                       0.253407\n",
      "2      MLT                       0.237460\n",
      "3      BEL                       0.232925\n",
      "4      CYP                       0.230794\n",
      "5      SVK                       0.215918\n",
      "6      LUX                       0.211746\n",
      "7      POL                       0.199132\n",
      "8      HRV                       0.195873\n",
      "9      PRT                       0.180408\n",
      "10     SVN                       0.168571\n",
      "11     EST                       0.163129\n",
      "12     LVA                       0.154762\n",
      "13     ESP                       0.136390\n",
      "\n",
      "\n",
      "--------------------\n",
      "\n",
      "\n",
      "Tertiary subject: 8.50.02\n"
     ]
    },
    {
     "name": "stderr",
     "output_type": "stream",
     "text": [
      "Processing bills: 100%|██████████| 3/3 [00:02<00:00,  1.20it/s]\n"
     ]
    },
    {
     "name": "stdout",
     "output_type": "stream",
     "text": [
      "  Country  EP Group vs Nationality Index\n",
      "0     SVN                       0.463333\n",
      "1     CYP                       0.455556\n",
      "2     FRA                       0.272658\n",
      "3     PRT                       0.068889\n",
      "\n",
      "\n",
      "--------------------\n",
      "\n",
      "\n",
      "Tertiary subject: 8.70.52\n"
     ]
    },
    {
     "name": "stderr",
     "output_type": "stream",
     "text": [
      "Processing bills: 100%|██████████| 16/16 [00:13<00:00,  1.17it/s]\n"
     ]
    },
    {
     "name": "stdout",
     "output_type": "stream",
     "text": [
      "  Country  EP Group vs Nationality Index\n",
      "0     LUX                       0.267917\n",
      "1     POL                       0.157885\n",
      "2     IRL                       0.155865\n",
      "3     ROU                       0.130341\n",
      "4     PRT                       0.092202\n",
      "5     ESP                       0.089218\n",
      "6     AUT                       0.086118\n",
      "\n",
      "\n",
      "--------------------\n",
      "\n",
      "\n",
      "Tertiary subject: 8.40.02\n"
     ]
    },
    {
     "name": "stderr",
     "output_type": "stream",
     "text": [
      "Processing bills: 100%|██████████| 2/2 [00:01<00:00,  1.27it/s]\n"
     ]
    },
    {
     "name": "stdout",
     "output_type": "stream",
     "text": [
      "  Country  EP Group vs Nationality Index\n",
      "0     DNK                       0.284286\n",
      "1     IRL                       0.152308\n",
      "\n",
      "\n",
      "--------------------\n",
      "\n",
      "\n",
      "Tertiary subject: 8.40.16\n"
     ]
    },
    {
     "name": "stderr",
     "output_type": "stream",
     "text": [
      "Processing bills: 100%|██████████| 1/1 [00:00<00:00,  1.11it/s]\n"
     ]
    },
    {
     "name": "stdout",
     "output_type": "stream",
     "text": [
      "Empty DataFrame\n",
      "Columns: [Country, EP Group vs Nationality Index]\n",
      "Index: []\n",
      "\n",
      "\n",
      "--------------------\n",
      "\n",
      "\n",
      "Tertiary subject: 1.20.03\n"
     ]
    },
    {
     "name": "stderr",
     "output_type": "stream",
     "text": [
      "Processing bills: 100%|██████████| 4/4 [00:03<00:00,  1.13it/s]\n"
     ]
    },
    {
     "name": "stdout",
     "output_type": "stream",
     "text": [
      "  Country  EP Group vs Nationality Index\n",
      "0     SWE                        0.17381\n",
      "\n",
      "\n",
      "--------------------\n",
      "\n",
      "\n",
      "Tertiary subject: 3.20.09\n"
     ]
    },
    {
     "name": "stderr",
     "output_type": "stream",
     "text": [
      "Processing bills: 100%|██████████| 3/3 [00:02<00:00,  1.21it/s]\n"
     ]
    },
    {
     "name": "stdout",
     "output_type": "stream",
     "text": [
      "  Country  EP Group vs Nationality Index\n",
      "0     CZE                       0.164762\n",
      "1     POL                       0.117949\n",
      "\n",
      "\n",
      "--------------------\n",
      "\n",
      "\n",
      "Tertiary subject: 3.70.04\n"
     ]
    },
    {
     "name": "stderr",
     "output_type": "stream",
     "text": [
      "Processing bills: 100%|██████████| 9/9 [00:07<00:00,  1.17it/s]\n"
     ]
    },
    {
     "name": "stdout",
     "output_type": "stream",
     "text": [
      "   Country  EP Group vs Nationality Index\n",
      "0      SVN                       0.326667\n",
      "1      IRL                       0.310427\n",
      "2      LTU                       0.237374\n",
      "3      MLT                       0.237037\n",
      "4      DNK                       0.228889\n",
      "5      LUX                       0.223704\n",
      "6      PRT                       0.213228\n",
      "7      CYP                       0.205185\n",
      "8      SWE                       0.165397\n",
      "9      ESP                       0.133484\n",
      "10     EST                       0.111746\n",
      "11     DEU                       0.110648\n",
      "\n",
      "\n",
      "--------------------\n",
      "\n",
      "\n",
      "Tertiary subject: 4.70.05\n"
     ]
    },
    {
     "name": "stderr",
     "output_type": "stream",
     "text": [
      "Processing bills: 100%|██████████| 7/7 [00:06<00:00,  1.16it/s]\n"
     ]
    },
    {
     "name": "stdout",
     "output_type": "stream",
     "text": [
      "  Country  EP Group vs Nationality Index\n",
      "0     SVN                       0.345714\n",
      "1     PRT                       0.302449\n",
      "2     LUX                       0.167619\n",
      "\n",
      "\n",
      "--------------------\n",
      "\n",
      "\n",
      "Tertiary subject: 3.20.01\n"
     ]
    },
    {
     "name": "stderr",
     "output_type": "stream",
     "text": [
      "Processing bills: 100%|██████████| 15/15 [00:12<00:00,  1.18it/s]\n"
     ]
    },
    {
     "name": "stdout",
     "output_type": "stream",
     "text": [
      "  Country  EP Group vs Nationality Index\n",
      "0     SVN                       0.312000\n",
      "1     LUX                       0.202222\n",
      "2     ROU                       0.189737\n",
      "3     IRL                       0.189026\n",
      "4     HRV                       0.143556\n",
      "5     BGR                       0.140000\n",
      "6     ESP                       0.138766\n",
      "7     POL                       0.118769\n",
      "8     BEL                       0.080698\n",
      "\n",
      "\n",
      "--------------------\n",
      "\n",
      "\n",
      "Tertiary subject: 8.40.14\n"
     ]
    },
    {
     "name": "stderr",
     "output_type": "stream",
     "text": [
      "Processing bills: 100%|██████████| 3/3 [00:02<00:00,  1.16it/s]\n"
     ]
    },
    {
     "name": "stdout",
     "output_type": "stream",
     "text": [
      "  Country  EP Group vs Nationality Index\n",
      "0     PRT                       0.336190\n",
      "1     CYP                       0.257778\n",
      "2     DNK                       0.239048\n",
      "3     SVN                       0.213333\n",
      "4     SWE                       0.212698\n",
      "\n",
      "\n",
      "--------------------\n",
      "\n",
      "\n",
      "Tertiary subject: 3.10.10\n"
     ]
    },
    {
     "name": "stderr",
     "output_type": "stream",
     "text": [
      "Processing bills: 100%|██████████| 16/16 [00:14<00:00,  1.10it/s]\n"
     ]
    },
    {
     "name": "stdout",
     "output_type": "stream",
     "text": [
      "   Country  EP Group vs Nationality Index\n",
      "0      CYP                       0.352083\n",
      "1      FRA                       0.350237\n",
      "2      MLT                       0.297500\n",
      "3      POL                       0.290207\n",
      "4      LUX                       0.271250\n",
      "5      PRT                       0.269821\n",
      "6      SVK                       0.253571\n",
      "7      EST                       0.239464\n",
      "8      SVN                       0.232500\n",
      "9      LVA                       0.210625\n",
      "10     BEL                       0.195179\n",
      "11     HRV                       0.175417\n",
      "12     IRL                       0.166635\n",
      "13     ESP                       0.151511\n",
      "14     DNK                       0.138571\n",
      "15     LTU                       0.105227\n",
      "\n",
      "\n",
      "--------------------\n",
      "\n",
      "\n",
      "Tertiary subject: 3.50.16\n"
     ]
    },
    {
     "name": "stderr",
     "output_type": "stream",
     "text": [
      "Processing bills: 100%|██████████| 9/9 [00:08<00:00,  1.10it/s]\n"
     ]
    },
    {
     "name": "stdout",
     "output_type": "stream",
     "text": [
      "  Country  EP Group vs Nationality Index\n",
      "0     SVN                       0.452222\n",
      "1     EST                       0.404127\n",
      "2     LVA                       0.237778\n",
      "3     CZE                       0.224656\n",
      "4     BGR                       0.200392\n",
      "5     LUX                       0.196296\n",
      "6     ROU                       0.111044\n",
      "\n",
      "\n",
      "--------------------\n",
      "\n",
      "\n",
      "Tertiary subject: 3.10.30\n"
     ]
    },
    {
     "name": "stderr",
     "output_type": "stream",
     "text": [
      "Processing bills: 100%|██████████| 3/3 [00:02<00:00,  1.12it/s]\n"
     ]
    },
    {
     "name": "stdout",
     "output_type": "stream",
     "text": [
      "  Country  EP Group vs Nationality Index\n",
      "0     IRL                       0.162051\n",
      "1     LUX                       0.115556\n",
      "\n",
      "\n",
      "--------------------\n",
      "\n",
      "\n",
      "Tertiary subject: 3.20.04\n"
     ]
    },
    {
     "name": "stderr",
     "output_type": "stream",
     "text": [
      "Processing bills: 100%|██████████| 5/5 [00:04<00:00,  1.18it/s]\n"
     ]
    },
    {
     "name": "stdout",
     "output_type": "stream",
     "text": [
      "  Country  EP Group vs Nationality Index\n",
      "0     SWE                       0.252571\n",
      "1     DNK                       0.233143\n",
      "2     SVN                       0.230000\n",
      "3     HUN                       0.177524\n",
      "4     ITA                       0.136421\n",
      "5     BGR                       0.113647\n",
      "6     CZE                       0.112381\n",
      "\n",
      "\n",
      "--------------------\n",
      "\n",
      "\n",
      "Tertiary subject: 3.40.11\n"
     ]
    },
    {
     "name": "stderr",
     "output_type": "stream",
     "text": [
      "Processing bills: 100%|██████████| 1/1 [00:00<00:00,  1.10it/s]\n"
     ]
    },
    {
     "name": "stdout",
     "output_type": "stream",
     "text": [
      "Empty DataFrame\n",
      "Columns: [Country, EP Group vs Nationality Index]\n",
      "Index: []\n",
      "\n",
      "\n",
      "--------------------\n",
      "\n",
      "\n",
      "Tertiary subject: 3.10.08\n"
     ]
    },
    {
     "name": "stderr",
     "output_type": "stream",
     "text": [
      "Processing bills: 100%|██████████| 9/9 [00:08<00:00,  1.11it/s]\n"
     ]
    },
    {
     "name": "stdout",
     "output_type": "stream",
     "text": [
      "  Country  EP Group vs Nationality Index\n",
      "0     POL                       0.311550\n",
      "1     IRL                       0.252991\n",
      "2     BEL                       0.248042\n",
      "3     HUN                       0.238624\n",
      "4     MLT                       0.237037\n",
      "5     FRA                       0.220844\n",
      "6     SVK                       0.216190\n",
      "\n",
      "\n",
      "--------------------\n",
      "\n",
      "\n",
      "Tertiary subject: 3.40.08\n"
     ]
    },
    {
     "name": "stderr",
     "output_type": "stream",
     "text": [
      "Processing bills: 100%|██████████| 1/1 [00:00<00:00,  1.13it/s]\n"
     ]
    },
    {
     "name": "stdout",
     "output_type": "stream",
     "text": [
      "Empty DataFrame\n",
      "Columns: [Country, EP Group vs Nationality Index]\n",
      "Index: []\n",
      "\n",
      "\n",
      "--------------------\n",
      "\n",
      "\n",
      "Tertiary subject: 3.40.02\n"
     ]
    },
    {
     "name": "stderr",
     "output_type": "stream",
     "text": [
      "Processing bills: 100%|██████████| 4/4 [00:03<00:00,  1.12it/s]\n"
     ]
    },
    {
     "name": "stdout",
     "output_type": "stream",
     "text": [
      "  Country  EP Group vs Nationality Index\n",
      "0     SVN                       0.215000\n",
      "1     BGR                       0.176176\n",
      "2     HRV                       0.160000\n",
      "3     IRL                       0.151538\n",
      "4     ROU                       0.068182\n",
      "\n",
      "\n",
      "--------------------\n",
      "\n",
      "\n",
      "Tertiary subject: 3.40.18\n"
     ]
    },
    {
     "name": "stderr",
     "output_type": "stream",
     "text": [
      "Processing bills: 100%|██████████| 1/1 [00:00<00:00,  1.06it/s]\n"
     ]
    },
    {
     "name": "stdout",
     "output_type": "stream",
     "text": [
      "Empty DataFrame\n",
      "Columns: [Country, EP Group vs Nationality Index]\n",
      "Index: []\n",
      "\n",
      "\n",
      "--------------------\n",
      "\n",
      "\n",
      "Tertiary subject: 3.30.04\n"
     ]
    },
    {
     "name": "stderr",
     "output_type": "stream",
     "text": [
      "Processing bills: 100%|██████████| 5/5 [00:04<00:00,  1.13it/s]\n"
     ]
    },
    {
     "name": "stdout",
     "output_type": "stream",
     "text": [
      "  Country  EP Group vs Nationality Index\n",
      "0     SVN                       0.262000\n",
      "1     IRL                       0.244615\n",
      "2     LTU                       0.237818\n",
      "3     EST                       0.234286\n",
      "4     ESP                       0.142237\n",
      "\n",
      "\n",
      "--------------------\n",
      "\n",
      "\n",
      "Tertiary subject: 3.70.06\n"
     ]
    },
    {
     "name": "stderr",
     "output_type": "stream",
     "text": [
      "Processing bills: 100%|██████████| 5/5 [00:04<00:00,  1.13it/s]\n"
     ]
    },
    {
     "name": "stdout",
     "output_type": "stream",
     "text": [
      "   Country  EP Group vs Nationality Index\n",
      "0      DNK                       0.405143\n",
      "1      MLT                       0.386667\n",
      "2      SVN                       0.382000\n",
      "3      PRT                       0.316000\n",
      "4      LUX                       0.288000\n",
      "5      HUN                       0.285905\n",
      "6      BGR                       0.257882\n",
      "7      CYP                       0.256000\n",
      "8      ESP                       0.255864\n",
      "9      EST                       0.184571\n",
      "10     SVK                       0.144000\n",
      "11     NLD                       0.099724\n",
      "\n",
      "\n",
      "--------------------\n",
      "\n",
      "\n",
      "Tertiary subject: 3.70.09\n"
     ]
    },
    {
     "name": "stderr",
     "output_type": "stream",
     "text": [
      "Processing bills: 100%|██████████| 1/1 [00:00<00:00,  1.18it/s]\n"
     ]
    },
    {
     "name": "stdout",
     "output_type": "stream",
     "text": [
      "Empty DataFrame\n",
      "Columns: [Country, EP Group vs Nationality Index]\n",
      "Index: []\n",
      "\n",
      "\n",
      "--------------------\n",
      "\n",
      "\n",
      "Tertiary subject: 1.20.01\n"
     ]
    },
    {
     "name": "stderr",
     "output_type": "stream",
     "text": [
      "Processing bills: 100%|██████████| 4/4 [00:03<00:00,  1.11it/s]\n"
     ]
    },
    {
     "name": "stdout",
     "output_type": "stream",
     "text": [
      "  Country  EP Group vs Nationality Index\n",
      "0     CYP                       0.563333\n",
      "1     SVN                       0.560000\n",
      "2     LUX                       0.468333\n",
      "3     DNK                       0.398571\n",
      "4     EST                       0.372857\n",
      "5     ESP                       0.340169\n",
      "6     PRT                       0.309286\n",
      "7     DEU                       0.270625\n",
      "\n",
      "\n",
      "--------------------\n",
      "\n",
      "\n",
      "Tertiary subject: 4.60.02\n"
     ]
    },
    {
     "name": "stderr",
     "output_type": "stream",
     "text": [
      "Processing bills: 100%|██████████| 11/11 [00:09<00:00,  1.12it/s]\n"
     ]
    },
    {
     "name": "stdout",
     "output_type": "stream",
     "text": [
      "  Country  EP Group vs Nationality Index\n",
      "0     SVN                       0.365455\n",
      "1     IRL                       0.311329\n",
      "2     LUX                       0.287273\n",
      "3     PRT                       0.238788\n",
      "4     DNK                       0.229610\n",
      "5     CYP                       0.203030\n",
      "6     FRA                       0.202693\n",
      "7     LTU                       0.132231\n",
      "8     ESP                       0.089647\n",
      "\n",
      "\n",
      "--------------------\n",
      "\n",
      "\n",
      "Tertiary subject: 3.20.07\n"
     ]
    },
    {
     "name": "stderr",
     "output_type": "stream",
     "text": [
      "Processing bills: 100%|██████████| 2/2 [00:01<00:00,  1.15it/s]\n"
     ]
    },
    {
     "name": "stdout",
     "output_type": "stream",
     "text": [
      "  Country  EP Group vs Nationality Index\n",
      "0     CYP                           0.44\n",
      "1     LUX                           0.25\n",
      "\n",
      "\n",
      "--------------------\n",
      "\n",
      "\n",
      "Tertiary subject: 3.60.03\n"
     ]
    },
    {
     "name": "stderr",
     "output_type": "stream",
     "text": [
      "Processing bills: 100%|██████████| 6/6 [00:05<00:00,  1.18it/s]\n"
     ]
    },
    {
     "name": "stdout",
     "output_type": "stream",
     "text": [
      "  Country  EP Group vs Nationality Index\n",
      "0     EST                       0.487619\n",
      "1     SVN                       0.460000\n",
      "2     POL                       0.425641\n",
      "3     LTU                       0.362727\n",
      "4     SVK                       0.343333\n",
      "5     LUX                       0.327778\n",
      "6     BGR                       0.264314\n",
      "7     FIN                       0.166667\n",
      "8     SWE                       0.162857\n",
      "\n",
      "\n",
      "--------------------\n",
      "\n",
      "\n",
      "Tertiary subject: 3.50.08\n"
     ]
    },
    {
     "name": "stderr",
     "output_type": "stream",
     "text": [
      "Processing bills: 100%|██████████| 1/1 [00:00<00:00,  1.19it/s]\n"
     ]
    },
    {
     "name": "stdout",
     "output_type": "stream",
     "text": [
      "Empty DataFrame\n",
      "Columns: [Country, EP Group vs Nationality Index]\n",
      "Index: []\n",
      "\n",
      "\n",
      "--------------------\n",
      "\n",
      "\n",
      "Tertiary subject: 2.60.01\n"
     ]
    },
    {
     "name": "stderr",
     "output_type": "stream",
     "text": [
      "Processing bills: 100%|██████████| 3/3 [00:02<00:00,  1.22it/s]\n"
     ]
    },
    {
     "name": "stdout",
     "output_type": "stream",
     "text": [
      "  Country  EP Group vs Nationality Index\n",
      "0     ROU                       0.257778\n",
      "1     LUX                       0.246667\n",
      "\n",
      "\n",
      "--------------------\n",
      "\n",
      "\n",
      "Tertiary subject: 3.45.06\n"
     ]
    },
    {
     "name": "stderr",
     "output_type": "stream",
     "text": [
      "Processing bills: 100%|██████████| 1/1 [00:01<00:00,  1.02s/it]\n"
     ]
    },
    {
     "name": "stdout",
     "output_type": "stream",
     "text": [
      "Empty DataFrame\n",
      "Columns: [Country, EP Group vs Nationality Index]\n",
      "Index: []\n",
      "\n",
      "\n",
      "--------------------\n",
      "\n",
      "\n",
      "Tertiary subject: 6.40.14\n"
     ]
    },
    {
     "name": "stderr",
     "output_type": "stream",
     "text": [
      "Processing bills: 100%|██████████| 2/2 [00:01<00:00,  1.03it/s]\n"
     ]
    },
    {
     "name": "stdout",
     "output_type": "stream",
     "text": [
      "  Country  EP Group vs Nationality Index\n",
      "0     LUX                       0.493333\n",
      "1     ESP                       0.270169\n",
      "2     LTU                       0.255455\n",
      "\n",
      "\n",
      "--------------------\n",
      "\n",
      "\n",
      "Tertiary subject: 3.15.02\n"
     ]
    },
    {
     "name": "stderr",
     "output_type": "stream",
     "text": [
      "Processing bills: 100%|██████████| 6/6 [00:05<00:00,  1.16it/s]\n"
     ]
    },
    {
     "name": "stdout",
     "output_type": "stream",
     "text": [
      "  Country  EP Group vs Nationality Index\n",
      "0     SVN                       0.450000\n",
      "1     EST                       0.296190\n",
      "2     CZE                       0.202381\n",
      "3     HRV                       0.194444\n",
      "4     DNK                       0.122381\n",
      "\n",
      "\n",
      "--------------------\n",
      "\n",
      "\n",
      "Tertiary subject: 4.40.03\n"
     ]
    },
    {
     "name": "stderr",
     "output_type": "stream",
     "text": [
      "Processing bills: 100%|██████████| 4/4 [00:03<00:00,  1.13it/s]\n"
     ]
    },
    {
     "name": "stdout",
     "output_type": "stream",
     "text": [
      "  Country  EP Group vs Nationality Index\n",
      "0     SVN                       0.515000\n",
      "1     IRL                       0.488077\n",
      "2     CYP                       0.466667\n",
      "3     ROU                       0.412879\n",
      "4     PRT                       0.398333\n",
      "5     LTU                       0.383636\n",
      "6     LUX                       0.310000\n",
      "7     HRV                       0.253333\n",
      "\n",
      "\n",
      "--------------------\n",
      "\n",
      "\n",
      "Tertiary subject: 8.70.53\n"
     ]
    },
    {
     "name": "stderr",
     "output_type": "stream",
     "text": [
      "Processing bills: 100%|██████████| 13/13 [00:11<00:00,  1.14it/s]\n"
     ]
    },
    {
     "name": "stdout",
     "output_type": "stream",
     "text": [
      "  Country  EP Group vs Nationality Index\n",
      "0     SVN                       0.296923\n",
      "1     POL                       0.235749\n",
      "2     IRL                       0.223314\n",
      "3     PRT                       0.215165\n",
      "4     LUX                       0.173846\n",
      "5     HRV                       0.168718\n",
      "6     LTU                       0.158601\n",
      "7     DNK                       0.145934\n",
      "8     EST                       0.136484\n",
      "\n",
      "\n",
      "--------------------\n",
      "\n",
      "\n",
      "Tertiary subject: 3.60.04\n"
     ]
    },
    {
     "name": "stderr",
     "output_type": "stream",
     "text": [
      "Processing bills: 100%|██████████| 2/2 [00:01<00:00,  1.17it/s]\n"
     ]
    },
    {
     "name": "stdout",
     "output_type": "stream",
     "text": [
      "  Country  EP Group vs Nationality Index\n",
      "0     BEL                       0.061429\n",
      "\n",
      "\n",
      "--------------------\n",
      "\n",
      "\n",
      "Tertiary subject: 2.60.03\n"
     ]
    },
    {
     "name": "stderr",
     "output_type": "stream",
     "text": [
      "Processing bills: 100%|██████████| 2/2 [00:01<00:00,  1.12it/s]\n"
     ]
    },
    {
     "name": "stdout",
     "output_type": "stream",
     "text": [
      "  Country  EP Group vs Nationality Index\n",
      "0     SVK                       0.204286\n",
      "\n",
      "\n",
      "--------------------\n",
      "\n",
      "\n",
      "Tertiary subject: 4.20.03\n"
     ]
    },
    {
     "name": "stderr",
     "output_type": "stream",
     "text": [
      "Processing bills: 100%|██████████| 1/1 [00:00<00:00,  1.13it/s]\n"
     ]
    },
    {
     "name": "stdout",
     "output_type": "stream",
     "text": [
      "Empty DataFrame\n",
      "Columns: [Country, EP Group vs Nationality Index]\n",
      "Index: []\n",
      "\n",
      "\n",
      "--------------------\n",
      "\n",
      "\n",
      "Tertiary subject: 3.70.17\n"
     ]
    },
    {
     "name": "stderr",
     "output_type": "stream",
     "text": [
      "Processing bills: 100%|██████████| 4/4 [00:03<00:00,  1.21it/s]\n"
     ]
    },
    {
     "name": "stdout",
     "output_type": "stream",
     "text": [
      "  Country  EP Group vs Nationality Index\n",
      "0     DNK                       0.432857\n",
      "1     SWE                       0.369524\n",
      "\n",
      "\n",
      "--------------------\n",
      "\n",
      "\n",
      "Tertiary subject: 3.60.10\n"
     ]
    },
    {
     "name": "stderr",
     "output_type": "stream",
     "text": [
      "Processing bills: 100%|██████████| 1/1 [00:00<00:00,  1.09it/s]\n"
     ]
    },
    {
     "name": "stdout",
     "output_type": "stream",
     "text": [
      "Empty DataFrame\n",
      "Columns: [Country, EP Group vs Nationality Index]\n",
      "Index: []\n",
      "\n",
      "\n",
      "--------------------\n",
      "\n",
      "\n",
      "Tertiary subject: 3.60.15\n"
     ]
    },
    {
     "name": "stderr",
     "output_type": "stream",
     "text": [
      "Processing bills: 100%|██████████| 7/7 [00:06<00:00,  1.12it/s]\n"
     ]
    },
    {
     "name": "stdout",
     "output_type": "stream",
     "text": [
      "  Country  EP Group vs Nationality Index\n",
      "0     SVN                       0.345714\n",
      "1     SVK                       0.334694\n",
      "2     LUX                       0.309524\n",
      "3     EST                       0.290204\n",
      "4     POL                       0.271209\n",
      "5     LTU                       0.237922\n",
      "6     PRT                       0.229524\n",
      "7     DNK                       0.200816\n",
      "8     BGR                       0.162857\n",
      "9     NLD                       0.087192\n",
      "\n",
      "\n",
      "--------------------\n",
      "\n",
      "\n",
      "Tertiary subject: 3.20.20\n"
     ]
    },
    {
     "name": "stderr",
     "output_type": "stream",
     "text": [
      "Processing bills: 100%|██████████| 1/1 [00:00<00:00,  1.25it/s]\n"
     ]
    },
    {
     "name": "stdout",
     "output_type": "stream",
     "text": [
      "Empty DataFrame\n",
      "Columns: [Country, EP Group vs Nationality Index]\n",
      "Index: []\n",
      "\n",
      "\n",
      "--------------------\n",
      "\n",
      "\n",
      "Tertiary subject: 3.30.02\n"
     ]
    },
    {
     "name": "stderr",
     "output_type": "stream",
     "text": [
      "Processing bills: 100%|██████████| 2/2 [00:01<00:00,  1.11it/s]\n"
     ]
    },
    {
     "name": "stdout",
     "output_type": "stream",
     "text": [
      "  Country  EP Group vs Nationality Index\n",
      "0     SVN                       0.545000\n",
      "1     LTU                       0.397273\n",
      "2     BGR                       0.385882\n",
      "3     DEU                       0.028750\n",
      "\n",
      "\n",
      "--------------------\n",
      "\n",
      "\n",
      "Tertiary subject: 3.70.07\n"
     ]
    },
    {
     "name": "stderr",
     "output_type": "stream",
     "text": [
      "Processing bills: 100%|██████████| 2/2 [00:01<00:00,  1.07it/s]\n"
     ]
    },
    {
     "name": "stdout",
     "output_type": "stream",
     "text": [
      "Empty DataFrame\n",
      "Columns: [Country, EP Group vs Nationality Index]\n",
      "Index: []\n",
      "\n",
      "\n",
      "--------------------\n",
      "\n",
      "\n",
      "Tertiary subject: 8.40.04\n"
     ]
    },
    {
     "name": "stderr",
     "output_type": "stream",
     "text": [
      "Processing bills: 100%|██████████| 1/1 [00:00<00:00,  1.03it/s]\n"
     ]
    },
    {
     "name": "stdout",
     "output_type": "stream",
     "text": [
      "Empty DataFrame\n",
      "Columns: [Country, EP Group vs Nationality Index]\n",
      "Index: []\n",
      "\n",
      "\n",
      "--------------------\n",
      "\n",
      "\n",
      "Tertiary subject: 3.20.08\n"
     ]
    },
    {
     "name": "stderr",
     "output_type": "stream",
     "text": [
      "Processing bills: 100%|██████████| 1/1 [00:00<00:00,  1.26it/s]\n"
     ]
    },
    {
     "name": "stdout",
     "output_type": "stream",
     "text": [
      "Empty DataFrame\n",
      "Columns: [Country, EP Group vs Nationality Index]\n",
      "Index: []\n",
      "\n",
      "\n",
      "--------------------\n",
      "\n",
      "\n",
      "Tertiary subject: 3.50.03\n"
     ]
    },
    {
     "name": "stderr",
     "output_type": "stream",
     "text": [
      "Processing bills: 100%|██████████| 2/2 [00:01<00:00,  1.21it/s]\n"
     ]
    },
    {
     "name": "stdout",
     "output_type": "stream",
     "text": [
      "  Country  EP Group vs Nationality Index\n",
      "0     POL                       0.331569\n",
      "1     ROU                       0.137576\n",
      "2     CZE                       0.056667\n",
      "\n",
      "\n",
      "--------------------\n",
      "\n",
      "\n",
      "Tertiary subject: 3.40.10\n"
     ]
    },
    {
     "name": "stderr",
     "output_type": "stream",
     "text": [
      "Processing bills: 100%|██████████| 2/2 [00:01<00:00,  1.06it/s]\n"
     ]
    },
    {
     "name": "stdout",
     "output_type": "stream",
     "text": [
      "  Country  EP Group vs Nationality Index\n",
      "0     HRV                       0.153333\n",
      "\n",
      "\n",
      "--------------------\n",
      "\n",
      "\n",
      "Tertiary subject: 8.70.54\n"
     ]
    },
    {
     "name": "stderr",
     "output_type": "stream",
     "text": [
      "Processing bills: 100%|██████████| 9/9 [00:07<00:00,  1.14it/s]\n"
     ]
    },
    {
     "name": "stdout",
     "output_type": "stream",
     "text": [
      "  Country  EP Group vs Nationality Index\n",
      "0     LUX                       0.425926\n",
      "1     CYP                       0.412593\n",
      "2     SVN                       0.365556\n",
      "3     LVA                       0.337778\n",
      "4     LTU                       0.285455\n",
      "5     HRV                       0.260000\n",
      "6     EST                       0.250159\n",
      "7     IRL                       0.188718\n",
      "8     ESP                       0.177853\n",
      "9     PRT                       0.155026\n",
      "\n",
      "\n",
      "--------------------\n",
      "\n",
      "\n",
      "Tertiary subject: 3.10.02\n"
     ]
    },
    {
     "name": "stderr",
     "output_type": "stream",
     "text": [
      "Processing bills: 100%|██████████| 1/1 [00:00<00:00,  1.14it/s]\n"
     ]
    },
    {
     "name": "stdout",
     "output_type": "stream",
     "text": [
      "Empty DataFrame\n",
      "Columns: [Country, EP Group vs Nationality Index]\n",
      "Index: []\n",
      "\n",
      "\n",
      "--------------------\n",
      "\n",
      "\n",
      "Tertiary subject: 2.50.02\n"
     ]
    },
    {
     "name": "stderr",
     "output_type": "stream",
     "text": [
      "Processing bills: 100%|██████████| 1/1 [00:00<00:00,  1.25it/s]\n"
     ]
    },
    {
     "name": "stdout",
     "output_type": "stream",
     "text": [
      "Empty DataFrame\n",
      "Columns: [Country, EP Group vs Nationality Index]\n",
      "Index: []\n",
      "\n",
      "\n",
      "--------------------\n",
      "\n",
      "\n",
      "Tertiary subject: 5.20.01\n"
     ]
    },
    {
     "name": "stderr",
     "output_type": "stream",
     "text": [
      "Processing bills: 100%|██████████| 2/2 [00:01<00:00,  1.12it/s]\n"
     ]
    },
    {
     "name": "stdout",
     "output_type": "stream",
     "text": [
      "   Country  EP Group vs Nationality Index\n",
      "0      SVN                       0.950000\n",
      "1      CYP                       0.940000\n",
      "2      ITA                       0.881053\n",
      "3      LUX                       0.566667\n",
      "4      SVK                       0.522857\n",
      "5      ESP                       0.498475\n",
      "6      DNK                       0.358571\n",
      "7      AUT                       0.321053\n",
      "8      ROU                       0.273636\n",
      "9      MLT                       0.263333\n",
      "10     HRV                       0.253333\n",
      "11     FRA                       0.213797\n",
      "12     LTU                       0.173636\n",
      "\n",
      "\n",
      "--------------------\n",
      "\n",
      "\n",
      "Tertiary subject: 3.60.01\n"
     ]
    },
    {
     "name": "stderr",
     "output_type": "stream",
     "text": [
      "Processing bills: 100%|██████████| 1/1 [00:00<00:00,  1.18it/s]\n"
     ]
    },
    {
     "name": "stdout",
     "output_type": "stream",
     "text": [
      "Empty DataFrame\n",
      "Columns: [Country, EP Group vs Nationality Index]\n",
      "Index: []\n",
      "\n",
      "\n",
      "--------------------\n",
      "\n",
      "\n",
      "Tertiary subject: 4.40.07\n"
     ]
    },
    {
     "name": "stderr",
     "output_type": "stream",
     "text": [
      "Processing bills: 100%|██████████| 1/1 [00:00<00:00,  1.23it/s]\n"
     ]
    },
    {
     "name": "stdout",
     "output_type": "stream",
     "text": [
      "Empty DataFrame\n",
      "Columns: [Country, EP Group vs Nationality Index]\n",
      "Index: []\n",
      "\n",
      "\n",
      "--------------------\n",
      "\n",
      "\n",
      "Tertiary subject: 3.45.08\n"
     ]
    },
    {
     "name": "stderr",
     "output_type": "stream",
     "text": [
      "Processing bills: 100%|██████████| 4/4 [00:03<00:00,  1.17it/s]\n"
     ]
    },
    {
     "name": "stdout",
     "output_type": "stream",
     "text": [
      "  Country  EP Group vs Nationality Index\n",
      "0     POL                       0.325995\n",
      "\n",
      "\n",
      "--------------------\n",
      "\n",
      "\n",
      "Tertiary subject: 1.20.20\n"
     ]
    },
    {
     "name": "stderr",
     "output_type": "stream",
     "text": [
      "Processing bills: 100%|██████████| 1/1 [00:00<00:00,  1.32it/s]\n"
     ]
    },
    {
     "name": "stdout",
     "output_type": "stream",
     "text": [
      "Empty DataFrame\n",
      "Columns: [Country, EP Group vs Nationality Index]\n",
      "Index: []\n",
      "\n",
      "\n",
      "--------------------\n",
      "\n",
      "\n",
      "Tertiary subject: 4.40.20\n"
     ]
    },
    {
     "name": "stderr",
     "output_type": "stream",
     "text": [
      "Processing bills: 100%|██████████| 1/1 [00:00<00:00,  1.22it/s]\n"
     ]
    },
    {
     "name": "stdout",
     "output_type": "stream",
     "text": [
      "Empty DataFrame\n",
      "Columns: [Country, EP Group vs Nationality Index]\n",
      "Index: []\n",
      "\n",
      "\n",
      "--------------------\n",
      "\n",
      "\n",
      "Tertiary subject: 8.40.11\n"
     ]
    },
    {
     "name": "stderr",
     "output_type": "stream",
     "text": [
      "Processing bills: 100%|██████████| 1/1 [00:00<00:00,  1.18it/s]\n"
     ]
    },
    {
     "name": "stdout",
     "output_type": "stream",
     "text": [
      "Empty DataFrame\n",
      "Columns: [Country, EP Group vs Nationality Index]\n",
      "Index: []\n",
      "\n",
      "\n",
      "--------------------\n",
      "\n",
      "\n",
      "Tertiary subject: 6.10.01\n"
     ]
    },
    {
     "name": "stderr",
     "output_type": "stream",
     "text": [
      "Processing bills: 100%|██████████| 1/1 [00:00<00:00,  1.26it/s]\n"
     ]
    },
    {
     "name": "stdout",
     "output_type": "stream",
     "text": [
      "Empty DataFrame\n",
      "Columns: [Country, EP Group vs Nationality Index]\n",
      "Index: []\n",
      "\n",
      "\n",
      "--------------------\n",
      "\n",
      "\n",
      "Tertiary subject: 3.40.14\n"
     ]
    },
    {
     "name": "stderr",
     "output_type": "stream",
     "text": [
      "Processing bills: 100%|██████████| 2/2 [00:01<00:00,  1.10it/s]\n"
     ]
    },
    {
     "name": "stdout",
     "output_type": "stream",
     "text": [
      "  Country  EP Group vs Nationality Index\n",
      "0     POL                       0.411222\n",
      "1     DNK                       0.280000\n",
      "2     LVA                       0.095000\n",
      "\n",
      "\n",
      "--------------------\n",
      "\n",
      "\n",
      "Tertiary subject: 5.10.02\n"
     ]
    },
    {
     "name": "stderr",
     "output_type": "stream",
     "text": [
      "Processing bills: 100%|██████████| 1/1 [00:00<00:00,  1.15it/s]\n"
     ]
    },
    {
     "name": "stdout",
     "output_type": "stream",
     "text": [
      "Empty DataFrame\n",
      "Columns: [Country, EP Group vs Nationality Index]\n",
      "Index: []\n",
      "\n",
      "\n",
      "--------------------\n",
      "\n",
      "\n",
      "Tertiary subject: 8.70.49\n"
     ]
    },
    {
     "name": "stderr",
     "output_type": "stream",
     "text": [
      "Processing bills: 100%|██████████| 2/2 [00:01<00:00,  1.17it/s]\n"
     ]
    },
    {
     "name": "stdout",
     "output_type": "stream",
     "text": [
      "  Country  EP Group vs Nationality Index\n",
      "0     EST                       0.644286\n",
      "1     HRV                       0.480000\n",
      "2     ESP                       0.322881\n",
      "3     BGR                       0.272941\n",
      "4     LTU                       0.242727\n",
      "5     FIN                       0.072857\n",
      "\n",
      "\n",
      "--------------------\n",
      "\n",
      "\n",
      "Tertiary subject: 6.40.02\n"
     ]
    },
    {
     "name": "stderr",
     "output_type": "stream",
     "text": [
      "Processing bills: 100%|██████████| 2/2 [00:01<00:00,  1.15it/s]\n"
     ]
    },
    {
     "name": "stdout",
     "output_type": "stream",
     "text": [
      "  Country  EP Group vs Nationality Index\n",
      "0     NLD                       0.295172\n",
      "1     DNK                       0.284286\n",
      "2     POL                       0.220769\n",
      "\n",
      "\n",
      "--------------------\n",
      "\n",
      "\n",
      "Tertiary subject: 3.40.13\n"
     ]
    },
    {
     "name": "stderr",
     "output_type": "stream",
     "text": [
      "Processing bills: 100%|██████████| 2/2 [00:01<00:00,  1.10it/s]"
     ]
    },
    {
     "name": "stdout",
     "output_type": "stream",
     "text": [
      "  Country  EP Group vs Nationality Index\n",
      "0     BEL                       0.369524\n",
      "1     LUX                       0.266667\n",
      "2     BGR                       0.089412\n",
      "\n",
      "\n",
      "--------------------\n",
      "\n",
      "\n"
     ]
    },
    {
     "name": "stderr",
     "output_type": "stream",
     "text": [
      "\n"
     ]
    }
   ],
   "source": [
    "# Iterate over each unique tertiary subject and calculate the EP Country vs Nationality Index for each tertiary subject\n",
    "for tertiary_subject in tertiary_subject_bills['tertiary_subject'].unique():\n",
    "    print(f\"Tertiary subject: {tertiary_subject}\")\n",
    "    subject_bills = tertiary_subject_bills[tertiary_subject_bills['tertiary_subject'] == tertiary_subject]\n",
    "    results = compute_ep_group_vs_nationality_index(subject_bills)\n",
    "    print(results)\n",
    "    print('\\n')\n",
    "    print(\"--------------------\")\n",
    "    print('\\n')"
   ]
  }
 ],
 "metadata": {
  "kernelspec": {
   "display_name": "Python 3 (ipykernel)",
   "language": "python",
   "name": "python3"
  },
  "language_info": {
   "codemirror_mode": {
    "name": "ipython",
    "version": 3
   },
   "file_extension": ".py",
   "mimetype": "text/x-python",
   "name": "python",
   "nbconvert_exporter": "python",
   "pygments_lexer": "ipython3",
   "version": "3.10.13"
  }
 },
 "nbformat": 4,
 "nbformat_minor": 5
}
