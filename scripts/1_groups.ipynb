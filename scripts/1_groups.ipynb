{
 "cells": [
  {
   "cell_type": "markdown",
   "id": "812adbfa-e8d5-4141-a8b4-a94d0d687d2b",
   "metadata": {},
   "source": [
    "<h1> <center> 1 - Groups </center> </h1> \n",
    "\n",
    "**Authors:** Sebastião Rosalino, Flávio Pinheiro, António Curado"
   ]
  },
  {
   "cell_type": "markdown",
   "id": "0127cb0a-6f4f-4c16-a2dd-01b857469c36",
   "metadata": {},
   "source": [
    "# Table of Contents\n",
    "\n",
    "1. [Exporting Dataset](#Exporting-Dataset)"
   ]
  },
  {
   "cell_type": "code",
   "execution_count": 1,
   "id": "ae7fe01b-86ff-45e8-9e95-538239fc8471",
   "metadata": {},
   "outputs": [],
   "source": [
    "# Import the necessary libraries and configurations\n",
    "import pandas as pd\n",
    "import warnings\n",
    "\n",
    "# Suppress all warnings\n",
    "warnings.filterwarnings('ignore')"
   ]
  },
  {
   "cell_type": "code",
   "execution_count": 2,
   "id": "2d8e4dfc-d60a-4728-b5b4-8839f09699fc",
   "metadata": {},
   "outputs": [],
   "source": [
    "# Load the groups dataset\n",
    "groups = pd.read_csv('../datasets/first_stage/groups.csv')"
   ]
  },
  {
   "cell_type": "code",
   "execution_count": 3,
   "id": "00ac3b87-cedc-438f-9237-3a8d10efb692",
   "metadata": {},
   "outputs": [
    {
     "name": "stdout",
     "output_type": "stream",
     "text": [
      "groups number of rows: 8\n",
      "groups number of features: 4\n"
     ]
    }
   ],
   "source": [
    "# Check the shape (number of rows and number of features) of the groups dataset\n",
    "print(f'groups number of rows: {groups.shape[0]}')\n",
    "print(f'groups number of features: {groups.shape[1]}')"
   ]
  },
  {
   "cell_type": "code",
   "execution_count": 4,
   "id": "23dfda66-872d-4029-b3b0-c3206783fb0d",
   "metadata": {},
   "outputs": [
    {
     "name": "stdout",
     "output_type": "stream",
     "text": [
      "<class 'pandas.core.frame.DataFrame'>\n",
      "RangeIndex: 8 entries, 0 to 7\n",
      "Data columns (total 4 columns):\n",
      " #   Column          Non-Null Count  Dtype \n",
      "---  ------          --------------  ----- \n",
      " 0   code            8 non-null      object\n",
      " 1   official_label  8 non-null      object\n",
      " 2   label           8 non-null      object\n",
      " 3   short_label     8 non-null      object\n",
      "dtypes: object(4)\n",
      "memory usage: 384.0+ bytes\n"
     ]
    }
   ],
   "source": [
    "# Check the structural information of the groups dataset, including column names, non-null counts, datatypes and size\n",
    "groups.info()"
   ]
  },
  {
   "cell_type": "code",
   "execution_count": 5,
   "id": "02fcaa39-1982-4cbe-bb98-341830976a28",
   "metadata": {},
   "outputs": [
    {
     "name": "stdout",
     "output_type": "stream",
     "text": [
      "Number of duplicated rows in groups: 0\n"
     ]
    }
   ],
   "source": [
    "# Check for duplicated rows in the groups dataset\n",
    "duplicates = groups.duplicated()\n",
    "\n",
    "# Display the count of duplicated rows\n",
    "print(f\"Number of duplicated rows in groups: {duplicates.sum()}\")"
   ]
  },
  {
   "cell_type": "code",
   "execution_count": 6,
   "id": "fc4c5029-6d7a-4fc5-bb1d-8bcc22f0aa57",
   "metadata": {},
   "outputs": [
    {
     "data": {
      "text/html": [
       "<div>\n",
       "<style scoped>\n",
       "    .dataframe tbody tr th:only-of-type {\n",
       "        vertical-align: middle;\n",
       "    }\n",
       "\n",
       "    .dataframe tbody tr th {\n",
       "        vertical-align: top;\n",
       "    }\n",
       "\n",
       "    .dataframe thead th {\n",
       "        text-align: right;\n",
       "    }\n",
       "</style>\n",
       "<table border=\"1\" class=\"dataframe\">\n",
       "  <thead>\n",
       "    <tr style=\"text-align: right;\">\n",
       "      <th></th>\n",
       "      <th>code</th>\n",
       "      <th>official_label</th>\n",
       "      <th>label</th>\n",
       "      <th>short_label</th>\n",
       "    </tr>\n",
       "  </thead>\n",
       "  <tbody>\n",
       "    <tr>\n",
       "      <th>0</th>\n",
       "      <td>RENEW</td>\n",
       "      <td>Renew Europe Group</td>\n",
       "      <td>Renew Europe</td>\n",
       "      <td>Renew</td>\n",
       "    </tr>\n",
       "    <tr>\n",
       "      <th>1</th>\n",
       "      <td>SD</td>\n",
       "      <td>Group of the Progressive Alliance of Socialist...</td>\n",
       "      <td>Progressive Alliance of Socialists and Democrats</td>\n",
       "      <td>S&amp;D</td>\n",
       "    </tr>\n",
       "    <tr>\n",
       "      <th>2</th>\n",
       "      <td>EPP</td>\n",
       "      <td>Group of the European People’s Party</td>\n",
       "      <td>European People’s Party</td>\n",
       "      <td>EPP</td>\n",
       "    </tr>\n",
       "    <tr>\n",
       "      <th>3</th>\n",
       "      <td>GREEN_EFA</td>\n",
       "      <td>Group of the Greens/European Free Alliance</td>\n",
       "      <td>Greens/European Free Alliance</td>\n",
       "      <td>Greens/EFA</td>\n",
       "    </tr>\n",
       "    <tr>\n",
       "      <th>4</th>\n",
       "      <td>ECR</td>\n",
       "      <td>European Conservatives and Reformists Group</td>\n",
       "      <td>European Conservatives and Reformists</td>\n",
       "      <td>ECR</td>\n",
       "    </tr>\n",
       "    <tr>\n",
       "      <th>5</th>\n",
       "      <td>NI</td>\n",
       "      <td>Non-attached Members</td>\n",
       "      <td>Non-attached Members</td>\n",
       "      <td>Non-attached</td>\n",
       "    </tr>\n",
       "    <tr>\n",
       "      <th>6</th>\n",
       "      <td>GUE_NGL</td>\n",
       "      <td>The Left group in the European Parliament – GU...</td>\n",
       "      <td>The Left in the European Parliament – GUE/NGL</td>\n",
       "      <td>GUE/NGL</td>\n",
       "    </tr>\n",
       "    <tr>\n",
       "      <th>7</th>\n",
       "      <td>ID</td>\n",
       "      <td>Identity and Democracy Group</td>\n",
       "      <td>Identity and Democracy</td>\n",
       "      <td>ID</td>\n",
       "    </tr>\n",
       "  </tbody>\n",
       "</table>\n",
       "</div>"
      ],
      "text/plain": [
       "        code                                     official_label  \\\n",
       "0      RENEW                                 Renew Europe Group   \n",
       "1         SD  Group of the Progressive Alliance of Socialist...   \n",
       "2        EPP               Group of the European People’s Party   \n",
       "3  GREEN_EFA         Group of the Greens/European Free Alliance   \n",
       "4        ECR        European Conservatives and Reformists Group   \n",
       "5         NI                               Non-attached Members   \n",
       "6    GUE_NGL  The Left group in the European Parliament – GU...   \n",
       "7         ID                       Identity and Democracy Group   \n",
       "\n",
       "                                              label   short_label  \n",
       "0                                      Renew Europe         Renew  \n",
       "1  Progressive Alliance of Socialists and Democrats           S&D  \n",
       "2                           European People’s Party           EPP  \n",
       "3                     Greens/European Free Alliance    Greens/EFA  \n",
       "4             European Conservatives and Reformists           ECR  \n",
       "5                              Non-attached Members  Non-attached  \n",
       "6     The Left in the European Parliament – GUE/NGL       GUE/NGL  \n",
       "7                            Identity and Democracy            ID  "
      ]
     },
     "execution_count": 6,
     "metadata": {},
     "output_type": "execute_result"
    }
   ],
   "source": [
    "# Visualize the groups dataset\n",
    "groups"
   ]
  },
  {
   "cell_type": "code",
   "execution_count": 7,
   "id": "3eeab610-f8c9-4a6c-9cda-2162839aeb1e",
   "metadata": {},
   "outputs": [],
   "source": [
    "# Remove the columns \"label\" and \"short_label\" as they are irrelevant\n",
    "groups.drop([\"label\", \"short_label\"], axis=1, inplace=True)"
   ]
  },
  {
   "cell_type": "code",
   "execution_count": 8,
   "id": "e5c3b25c-757d-4336-8edc-47e9c365d317",
   "metadata": {},
   "outputs": [
    {
     "data": {
      "text/html": [
       "<div>\n",
       "<style scoped>\n",
       "    .dataframe tbody tr th:only-of-type {\n",
       "        vertical-align: middle;\n",
       "    }\n",
       "\n",
       "    .dataframe tbody tr th {\n",
       "        vertical-align: top;\n",
       "    }\n",
       "\n",
       "    .dataframe thead th {\n",
       "        text-align: right;\n",
       "    }\n",
       "</style>\n",
       "<table border=\"1\" class=\"dataframe\">\n",
       "  <thead>\n",
       "    <tr style=\"text-align: right;\">\n",
       "      <th></th>\n",
       "      <th>code</th>\n",
       "      <th>official_label</th>\n",
       "    </tr>\n",
       "  </thead>\n",
       "  <tbody>\n",
       "    <tr>\n",
       "      <th>0</th>\n",
       "      <td>RENEW</td>\n",
       "      <td>Renew Europe Group</td>\n",
       "    </tr>\n",
       "    <tr>\n",
       "      <th>1</th>\n",
       "      <td>SD</td>\n",
       "      <td>Group of the Progressive Alliance of Socialist...</td>\n",
       "    </tr>\n",
       "    <tr>\n",
       "      <th>2</th>\n",
       "      <td>EPP</td>\n",
       "      <td>Group of the European People’s Party</td>\n",
       "    </tr>\n",
       "    <tr>\n",
       "      <th>3</th>\n",
       "      <td>GREEN_EFA</td>\n",
       "      <td>Group of the Greens/European Free Alliance</td>\n",
       "    </tr>\n",
       "    <tr>\n",
       "      <th>4</th>\n",
       "      <td>ECR</td>\n",
       "      <td>European Conservatives and Reformists Group</td>\n",
       "    </tr>\n",
       "    <tr>\n",
       "      <th>5</th>\n",
       "      <td>NI</td>\n",
       "      <td>Non-attached Members</td>\n",
       "    </tr>\n",
       "    <tr>\n",
       "      <th>6</th>\n",
       "      <td>GUE_NGL</td>\n",
       "      <td>The Left group in the European Parliament – GU...</td>\n",
       "    </tr>\n",
       "    <tr>\n",
       "      <th>7</th>\n",
       "      <td>ID</td>\n",
       "      <td>Identity and Democracy Group</td>\n",
       "    </tr>\n",
       "  </tbody>\n",
       "</table>\n",
       "</div>"
      ],
      "text/plain": [
       "        code                                     official_label\n",
       "0      RENEW                                 Renew Europe Group\n",
       "1         SD  Group of the Progressive Alliance of Socialist...\n",
       "2        EPP               Group of the European People’s Party\n",
       "3  GREEN_EFA         Group of the Greens/European Free Alliance\n",
       "4        ECR        European Conservatives and Reformists Group\n",
       "5         NI                               Non-attached Members\n",
       "6    GUE_NGL  The Left group in the European Parliament – GU...\n",
       "7         ID                       Identity and Democracy Group"
      ]
     },
     "execution_count": 8,
     "metadata": {},
     "output_type": "execute_result"
    }
   ],
   "source": [
    "# Visualize the resulting groups dataset\n",
    "groups"
   ]
  },
  {
   "cell_type": "markdown",
   "id": "3dcf545f-cade-4f92-bd48-dddd10ded1f8",
   "metadata": {},
   "source": [
    "## 1. Exporting Dataset\n",
    "<a id=\"Exporting-Dataset\"></a>"
   ]
  },
  {
   "cell_type": "code",
   "execution_count": 9,
   "id": "a90f42e6-707d-4482-b04c-9c121bf73953",
   "metadata": {},
   "outputs": [],
   "source": [
    "# Export the groups dataset in its current stage to the corresponding local folder\n",
    "groups.to_csv(\"../datasets/second_stage/1_groups/groups.csv\", index=False)"
   ]
  }
 ],
 "metadata": {
  "kernelspec": {
   "display_name": "Python 3 (ipykernel)",
   "language": "python",
   "name": "python3"
  },
  "language_info": {
   "codemirror_mode": {
    "name": "ipython",
    "version": 3
   },
   "file_extension": ".py",
   "mimetype": "text/x-python",
   "name": "python",
   "nbconvert_exporter": "python",
   "pygments_lexer": "ipython3",
   "version": "3.10.13"
  }
 },
 "nbformat": 4,
 "nbformat_minor": 5
}
